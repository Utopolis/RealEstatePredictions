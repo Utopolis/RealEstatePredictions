{
 "cells": [
  {
   "cell_type": "code",
   "execution_count": 77,
   "metadata": {},
   "outputs": [],
   "source": [
    "import numpy as np\n",
    "import pandas as pd\n",
    "from ANN import train_model, predict, evaluate\n",
    "from sklearn.preprocessing import OrdinalEncoder, MinMaxScaler\n",
    "import seaborn as sns\n",
    "import matplotlib.pyplot as plt"
   ]
  },
  {
   "cell_type": "markdown",
   "metadata": {},
   "source": [
    "## Preprocessing "
   ]
  },
  {
   "cell_type": "code",
   "execution_count": 78,
   "metadata": {},
   "outputs": [],
   "source": [
    "data= pd.read_csv(r'data.csv')"
   ]
  },
  {
   "cell_type": "code",
   "execution_count": 79,
   "metadata": {},
   "outputs": [
    {
     "data": {
      "text/html": [
       "<div>\n",
       "<style scoped>\n",
       "    .dataframe tbody tr th:only-of-type {\n",
       "        vertical-align: middle;\n",
       "    }\n",
       "\n",
       "    .dataframe tbody tr th {\n",
       "        vertical-align: top;\n",
       "    }\n",
       "\n",
       "    .dataframe thead th {\n",
       "        text-align: right;\n",
       "    }\n",
       "</style>\n",
       "<table border=\"1\" class=\"dataframe\">\n",
       "  <thead>\n",
       "    <tr style=\"text-align: right;\">\n",
       "      <th></th>\n",
       "      <th>Unnamed: 0</th>\n",
       "      <th>type_appartement</th>\n",
       "      <th>nombre_pièces</th>\n",
       "      <th>nombre_chambres</th>\n",
       "      <th>surface</th>\n",
       "      <th>étage</th>\n",
       "      <th>terasse</th>\n",
       "      <th>ascenceur</th>\n",
       "      <th>prix_achat</th>\n",
       "      <th>credit</th>\n",
       "      <th>localisation</th>\n",
       "      <th>description</th>\n",
       "    </tr>\n",
       "  </thead>\n",
       "  <tbody>\n",
       "    <tr>\n",
       "      <th>0</th>\n",
       "      <td>0</td>\n",
       "      <td>Appartement</td>\n",
       "      <td>4</td>\n",
       "      <td>2.0</td>\n",
       "      <td>104.0</td>\n",
       "      <td>NaN</td>\n",
       "      <td>non défini</td>\n",
       "      <td>non défini</td>\n",
       "      <td>499000</td>\n",
       "      <td>2065</td>\n",
       "      <td>Lyon 3ème</td>\n",
       "      <td>La Guillotière Nord</td>\n",
       "    </tr>\n",
       "    <tr>\n",
       "      <th>1</th>\n",
       "      <td>1</td>\n",
       "      <td>Appartement</td>\n",
       "      <td>3</td>\n",
       "      <td>2.0</td>\n",
       "      <td>72.0</td>\n",
       "      <td>NaN</td>\n",
       "      <td>non défini</td>\n",
       "      <td>non défini</td>\n",
       "      <td>449505</td>\n",
       "      <td>1861</td>\n",
       "      <td>Lyon 1er</td>\n",
       "      <td>Terreaux</td>\n",
       "    </tr>\n",
       "    <tr>\n",
       "      <th>2</th>\n",
       "      <td>2</td>\n",
       "      <td>Appartement</td>\n",
       "      <td>5</td>\n",
       "      <td>4.0</td>\n",
       "      <td>99.0</td>\n",
       "      <td>NaN</td>\n",
       "      <td>non défini</td>\n",
       "      <td>non défini</td>\n",
       "      <td>410000</td>\n",
       "      <td>1699</td>\n",
       "      <td>Lyon 8ème</td>\n",
       "      <td>Transvaal</td>\n",
       "    </tr>\n",
       "    <tr>\n",
       "      <th>3</th>\n",
       "      <td>3</td>\n",
       "      <td>Appartement</td>\n",
       "      <td>3</td>\n",
       "      <td>2.0</td>\n",
       "      <td>61.0</td>\n",
       "      <td>NaN</td>\n",
       "      <td>non défini</td>\n",
       "      <td>non défini</td>\n",
       "      <td>437000</td>\n",
       "      <td>1810</td>\n",
       "      <td>Lyon 6ème</td>\n",
       "      <td>Les Brotteaux-Bellecombe-Masséna</td>\n",
       "    </tr>\n",
       "    <tr>\n",
       "      <th>4</th>\n",
       "      <td>4</td>\n",
       "      <td>Appartement</td>\n",
       "      <td>4</td>\n",
       "      <td>3.0</td>\n",
       "      <td>129.0</td>\n",
       "      <td>NaN</td>\n",
       "      <td>non défini</td>\n",
       "      <td>non défini</td>\n",
       "      <td>725000</td>\n",
       "      <td>2997</td>\n",
       "      <td>Lyon 7ème</td>\n",
       "      <td>CHARME DE L'ANCIEN pour cet appartement de 129...</td>\n",
       "    </tr>\n",
       "    <tr>\n",
       "      <th>5</th>\n",
       "      <td>5</td>\n",
       "      <td>Appartement</td>\n",
       "      <td>5</td>\n",
       "      <td>4.0</td>\n",
       "      <td>130.0</td>\n",
       "      <td>NaN</td>\n",
       "      <td>non défini</td>\n",
       "      <td>non défini</td>\n",
       "      <td>1350000</td>\n",
       "      <td>5572</td>\n",
       "      <td>Lyon 6ème</td>\n",
       "      <td>Tête d'Or-Foch-Vitton</td>\n",
       "    </tr>\n",
       "    <tr>\n",
       "      <th>6</th>\n",
       "      <td>6</td>\n",
       "      <td>Appartement</td>\n",
       "      <td>3</td>\n",
       "      <td>2.0</td>\n",
       "      <td>69.0</td>\n",
       "      <td>NaN</td>\n",
       "      <td>non défini</td>\n",
       "      <td>non défini</td>\n",
       "      <td>420000</td>\n",
       "      <td>1740</td>\n",
       "      <td>Lyon 6ème</td>\n",
       "      <td>Les Brotteaux-Bellecombe-Masséna</td>\n",
       "    </tr>\n",
       "    <tr>\n",
       "      <th>7</th>\n",
       "      <td>7</td>\n",
       "      <td>Appartement</td>\n",
       "      <td>4</td>\n",
       "      <td>3.0</td>\n",
       "      <td>86.0</td>\n",
       "      <td>NaN</td>\n",
       "      <td>non défini</td>\n",
       "      <td>non défini</td>\n",
       "      <td>417000</td>\n",
       "      <td>1727</td>\n",
       "      <td>Lyon 3ème</td>\n",
       "      <td>Villette</td>\n",
       "    </tr>\n",
       "    <tr>\n",
       "      <th>8</th>\n",
       "      <td>8</td>\n",
       "      <td>Appartement</td>\n",
       "      <td>4</td>\n",
       "      <td>3.0</td>\n",
       "      <td>150.0</td>\n",
       "      <td>NaN</td>\n",
       "      <td>non défini</td>\n",
       "      <td>non défini</td>\n",
       "      <td>749000</td>\n",
       "      <td>3095</td>\n",
       "      <td>Lyon 9ème</td>\n",
       "      <td>Vaise-Rochecardon-Industrie</td>\n",
       "    </tr>\n",
       "    <tr>\n",
       "      <th>9</th>\n",
       "      <td>9</td>\n",
       "      <td>Appartement</td>\n",
       "      <td>4</td>\n",
       "      <td>3.0</td>\n",
       "      <td>93.0</td>\n",
       "      <td>NaN</td>\n",
       "      <td>non défini</td>\n",
       "      <td>non défini</td>\n",
       "      <td>345000</td>\n",
       "      <td>1431</td>\n",
       "      <td>Lyon 8ème</td>\n",
       "      <td>États-Unis</td>\n",
       "    </tr>\n",
       "  </tbody>\n",
       "</table>\n",
       "</div>"
      ],
      "text/plain": [
       "   Unnamed: 0 type_appartement  nombre_pièces  nombre_chambres  surface  \\\n",
       "0           0      Appartement              4              2.0    104.0   \n",
       "1           1      Appartement              3              2.0     72.0   \n",
       "2           2      Appartement              5              4.0     99.0   \n",
       "3           3      Appartement              3              2.0     61.0   \n",
       "4           4      Appartement              4              3.0    129.0   \n",
       "5           5      Appartement              5              4.0    130.0   \n",
       "6           6      Appartement              3              2.0     69.0   \n",
       "7           7      Appartement              4              3.0     86.0   \n",
       "8           8      Appartement              4              3.0    150.0   \n",
       "9           9      Appartement              4              3.0     93.0   \n",
       "\n",
       "   étage     terasse   ascenceur  prix_achat credit localisation  \\\n",
       "0    NaN  non défini  non défini      499000   2065    Lyon 3ème   \n",
       "1    NaN  non défini  non défini      449505   1861     Lyon 1er   \n",
       "2    NaN  non défini  non défini      410000   1699    Lyon 8ème   \n",
       "3    NaN  non défini  non défini      437000   1810    Lyon 6ème   \n",
       "4    NaN  non défini  non défini      725000   2997    Lyon 7ème   \n",
       "5    NaN  non défini  non défini     1350000   5572    Lyon 6ème   \n",
       "6    NaN  non défini  non défini      420000   1740    Lyon 6ème   \n",
       "7    NaN  non défini  non défini      417000   1727    Lyon 3ème   \n",
       "8    NaN  non défini  non défini      749000   3095    Lyon 9ème   \n",
       "9    NaN  non défini  non défini      345000   1431    Lyon 8ème   \n",
       "\n",
       "                                         description  \n",
       "0                                La Guillotière Nord  \n",
       "1                                           Terreaux  \n",
       "2                                          Transvaal  \n",
       "3                   Les Brotteaux-Bellecombe-Masséna  \n",
       "4  CHARME DE L'ANCIEN pour cet appartement de 129...  \n",
       "5                              Tête d'Or-Foch-Vitton  \n",
       "6                   Les Brotteaux-Bellecombe-Masséna  \n",
       "7                                           Villette  \n",
       "8                        Vaise-Rochecardon-Industrie  \n",
       "9                                         États-Unis  "
      ]
     },
     "execution_count": 79,
     "metadata": {},
     "output_type": "execute_result"
    }
   ],
   "source": [
    "data.head(10)"
   ]
  },
  {
   "cell_type": "code",
   "execution_count": 80,
   "metadata": {},
   "outputs": [
    {
     "name": "stdout",
     "output_type": "stream",
     "text": [
      "14\n"
     ]
    },
    {
     "data": {
      "text/plain": [
       "Index(['Contenu sponsorisé', 'Lyon 1er', 'Lyon 2ème', 'Lyon 3ème', 'Lyon 4ème',\n",
       "       'Lyon 5ème', 'Lyon 6ème', 'Lyon 7ème', 'Lyon 8ème', 'Lyon 9ème',\n",
       "       'Rillieux-la-Pape', 'Tassin-la-Demi-Lune', 'Villeurbanne', 'Écully'],\n",
       "      dtype='object', name='localisation')"
      ]
     },
     "execution_count": 80,
     "metadata": {},
     "output_type": "execute_result"
    }
   ],
   "source": [
    "# See how many categories there are in localisation\n",
    "print(data['localisation'].nunique())\n",
    "data.groupby('localisation').nunique().index"
   ]
  },
  {
   "cell_type": "code",
   "execution_count": 81,
   "metadata": {},
   "outputs": [],
   "source": [
    "# Transform into numeric value and drop the useless category ('Contenu sponsorisé' = advertisement from the announce website due to scraping)\n",
    "loc_encoder = OrdinalEncoder()\n",
    "data['localisation'] = loc_encoder.fit_transform(data[['localisation']])"
   ]
  },
  {
   "cell_type": "code",
   "execution_count": 82,
   "metadata": {},
   "outputs": [],
   "source": [
    "data= data.drop(data[data['localisation']==0].index)"
   ]
  },
  {
   "cell_type": "code",
   "execution_count": 83,
   "metadata": {},
   "outputs": [
    {
     "data": {
      "text/plain": [
       "['Unnamed: 0',\n",
       " 'type_appartement',\n",
       " 'nombre_pièces',\n",
       " 'nombre_chambres',\n",
       " 'surface',\n",
       " 'étage',\n",
       " 'terasse',\n",
       " 'ascenceur',\n",
       " 'prix_achat',\n",
       " 'credit',\n",
       " 'localisation',\n",
       " 'description']"
      ]
     },
     "execution_count": 83,
     "metadata": {},
     "output_type": "execute_result"
    }
   ],
   "source": [
    "# Let's visualize localisation categories and reorganise columns\n",
    "col = data.columns.to_list()\n",
    "col"
   ]
  },
  {
   "cell_type": "code",
   "execution_count": 84,
   "metadata": {},
   "outputs": [],
   "source": [
    "col = ['Unnamed: 0',\n",
    " 'type_appartement',\n",
    " 'nombre_pièces',\n",
    " 'nombre_chambres',\n",
    " 'surface',\n",
    " 'étage',\n",
    " 'terasse',\n",
    " 'ascenceur',\n",
    " 'credit',\n",
    " 'localisation',\n",
    " 'description',\n",
    "'prix_achat']"
   ]
  },
  {
   "cell_type": "code",
   "execution_count": 85,
   "metadata": {},
   "outputs": [
    {
     "data": {
      "text/html": [
       "<div>\n",
       "<style scoped>\n",
       "    .dataframe tbody tr th:only-of-type {\n",
       "        vertical-align: middle;\n",
       "    }\n",
       "\n",
       "    .dataframe tbody tr th {\n",
       "        vertical-align: top;\n",
       "    }\n",
       "\n",
       "    .dataframe thead th {\n",
       "        text-align: right;\n",
       "    }\n",
       "</style>\n",
       "<table border=\"1\" class=\"dataframe\">\n",
       "  <thead>\n",
       "    <tr style=\"text-align: right;\">\n",
       "      <th></th>\n",
       "      <th>Unnamed: 0</th>\n",
       "      <th>type_appartement</th>\n",
       "      <th>nombre_pièces</th>\n",
       "      <th>nombre_chambres</th>\n",
       "      <th>surface</th>\n",
       "      <th>étage</th>\n",
       "      <th>terasse</th>\n",
       "      <th>ascenceur</th>\n",
       "      <th>credit</th>\n",
       "      <th>localisation</th>\n",
       "      <th>description</th>\n",
       "      <th>prix_achat</th>\n",
       "    </tr>\n",
       "  </thead>\n",
       "  <tbody>\n",
       "    <tr>\n",
       "      <th>0</th>\n",
       "      <td>0</td>\n",
       "      <td>Appartement</td>\n",
       "      <td>4</td>\n",
       "      <td>2.0</td>\n",
       "      <td>104.0</td>\n",
       "      <td>NaN</td>\n",
       "      <td>non défini</td>\n",
       "      <td>non défini</td>\n",
       "      <td>2065</td>\n",
       "      <td>3.0</td>\n",
       "      <td>La Guillotière Nord</td>\n",
       "      <td>499000</td>\n",
       "    </tr>\n",
       "    <tr>\n",
       "      <th>1</th>\n",
       "      <td>1</td>\n",
       "      <td>Appartement</td>\n",
       "      <td>3</td>\n",
       "      <td>2.0</td>\n",
       "      <td>72.0</td>\n",
       "      <td>NaN</td>\n",
       "      <td>non défini</td>\n",
       "      <td>non défini</td>\n",
       "      <td>1861</td>\n",
       "      <td>1.0</td>\n",
       "      <td>Terreaux</td>\n",
       "      <td>449505</td>\n",
       "    </tr>\n",
       "    <tr>\n",
       "      <th>2</th>\n",
       "      <td>2</td>\n",
       "      <td>Appartement</td>\n",
       "      <td>5</td>\n",
       "      <td>4.0</td>\n",
       "      <td>99.0</td>\n",
       "      <td>NaN</td>\n",
       "      <td>non défini</td>\n",
       "      <td>non défini</td>\n",
       "      <td>1699</td>\n",
       "      <td>8.0</td>\n",
       "      <td>Transvaal</td>\n",
       "      <td>410000</td>\n",
       "    </tr>\n",
       "    <tr>\n",
       "      <th>3</th>\n",
       "      <td>3</td>\n",
       "      <td>Appartement</td>\n",
       "      <td>3</td>\n",
       "      <td>2.0</td>\n",
       "      <td>61.0</td>\n",
       "      <td>NaN</td>\n",
       "      <td>non défini</td>\n",
       "      <td>non défini</td>\n",
       "      <td>1810</td>\n",
       "      <td>6.0</td>\n",
       "      <td>Les Brotteaux-Bellecombe-Masséna</td>\n",
       "      <td>437000</td>\n",
       "    </tr>\n",
       "    <tr>\n",
       "      <th>4</th>\n",
       "      <td>4</td>\n",
       "      <td>Appartement</td>\n",
       "      <td>4</td>\n",
       "      <td>3.0</td>\n",
       "      <td>129.0</td>\n",
       "      <td>NaN</td>\n",
       "      <td>non défini</td>\n",
       "      <td>non défini</td>\n",
       "      <td>2997</td>\n",
       "      <td>7.0</td>\n",
       "      <td>CHARME DE L'ANCIEN pour cet appartement de 129...</td>\n",
       "      <td>725000</td>\n",
       "    </tr>\n",
       "    <tr>\n",
       "      <th>...</th>\n",
       "      <td>...</td>\n",
       "      <td>...</td>\n",
       "      <td>...</td>\n",
       "      <td>...</td>\n",
       "      <td>...</td>\n",
       "      <td>...</td>\n",
       "      <td>...</td>\n",
       "      <td>...</td>\n",
       "      <td>...</td>\n",
       "      <td>...</td>\n",
       "      <td>...</td>\n",
       "      <td>...</td>\n",
       "    </tr>\n",
       "    <tr>\n",
       "      <th>3250</th>\n",
       "      <td>3250</td>\n",
       "      <td>Appartement</td>\n",
       "      <td>6</td>\n",
       "      <td>5.0</td>\n",
       "      <td>218.0</td>\n",
       "      <td>NaN</td>\n",
       "      <td>non défini</td>\n",
       "      <td>non défini</td>\n",
       "      <td>7220</td>\n",
       "      <td>2.0</td>\n",
       "      <td>Perrache-Le Confluent</td>\n",
       "      <td>1750000</td>\n",
       "    </tr>\n",
       "    <tr>\n",
       "      <th>3251</th>\n",
       "      <td>3251</td>\n",
       "      <td>Appartement</td>\n",
       "      <td>4</td>\n",
       "      <td>3.0</td>\n",
       "      <td>87.0</td>\n",
       "      <td>NaN</td>\n",
       "      <td>non défini</td>\n",
       "      <td>non défini</td>\n",
       "      <td>1740</td>\n",
       "      <td>13.0</td>\n",
       "      <td>Le-Perollier</td>\n",
       "      <td>420000</td>\n",
       "    </tr>\n",
       "    <tr>\n",
       "      <th>3252</th>\n",
       "      <td>3252</td>\n",
       "      <td>Appartement</td>\n",
       "      <td>3</td>\n",
       "      <td>2.0</td>\n",
       "      <td>69.0</td>\n",
       "      <td>NaN</td>\n",
       "      <td>non défini</td>\n",
       "      <td>non défini</td>\n",
       "      <td>1740</td>\n",
       "      <td>6.0</td>\n",
       "      <td>Les Brotteaux-Bellecombe-Masséna</td>\n",
       "      <td>420000</td>\n",
       "    </tr>\n",
       "    <tr>\n",
       "      <th>3253</th>\n",
       "      <td>3253</td>\n",
       "      <td>Appartement</td>\n",
       "      <td>4</td>\n",
       "      <td>3.0</td>\n",
       "      <td>86.0</td>\n",
       "      <td>NaN</td>\n",
       "      <td>non défini</td>\n",
       "      <td>non défini</td>\n",
       "      <td>1727</td>\n",
       "      <td>3.0</td>\n",
       "      <td>Villette</td>\n",
       "      <td>417000</td>\n",
       "    </tr>\n",
       "    <tr>\n",
       "      <th>3254</th>\n",
       "      <td>3254</td>\n",
       "      <td>Appartement</td>\n",
       "      <td>4</td>\n",
       "      <td>3.0</td>\n",
       "      <td>81.0</td>\n",
       "      <td>NaN</td>\n",
       "      <td>non défini</td>\n",
       "      <td>non défini</td>\n",
       "      <td>2317</td>\n",
       "      <td>12.0</td>\n",
       "      <td>Léon Blum - Bon Coin</td>\n",
       "      <td>560000</td>\n",
       "    </tr>\n",
       "  </tbody>\n",
       "</table>\n",
       "<p>3245 rows × 12 columns</p>\n",
       "</div>"
      ],
      "text/plain": [
       "      Unnamed: 0 type_appartement  nombre_pièces  nombre_chambres  surface  \\\n",
       "0              0      Appartement              4              2.0    104.0   \n",
       "1              1      Appartement              3              2.0     72.0   \n",
       "2              2      Appartement              5              4.0     99.0   \n",
       "3              3      Appartement              3              2.0     61.0   \n",
       "4              4      Appartement              4              3.0    129.0   \n",
       "...          ...              ...            ...              ...      ...   \n",
       "3250        3250      Appartement              6              5.0    218.0   \n",
       "3251        3251      Appartement              4              3.0     87.0   \n",
       "3252        3252      Appartement              3              2.0     69.0   \n",
       "3253        3253      Appartement              4              3.0     86.0   \n",
       "3254        3254      Appartement              4              3.0     81.0   \n",
       "\n",
       "      étage     terasse   ascenceur credit  localisation  \\\n",
       "0       NaN  non défini  non défini   2065           3.0   \n",
       "1       NaN  non défini  non défini   1861           1.0   \n",
       "2       NaN  non défini  non défini   1699           8.0   \n",
       "3       NaN  non défini  non défini   1810           6.0   \n",
       "4       NaN  non défini  non défini   2997           7.0   \n",
       "...     ...         ...         ...    ...           ...   \n",
       "3250    NaN  non défini  non défini   7220           2.0   \n",
       "3251    NaN  non défini  non défini   1740          13.0   \n",
       "3252    NaN  non défini  non défini   1740           6.0   \n",
       "3253    NaN  non défini  non défini   1727           3.0   \n",
       "3254    NaN  non défini  non défini   2317          12.0   \n",
       "\n",
       "                                            description  prix_achat  \n",
       "0                                   La Guillotière Nord      499000  \n",
       "1                                              Terreaux      449505  \n",
       "2                                             Transvaal      410000  \n",
       "3                      Les Brotteaux-Bellecombe-Masséna      437000  \n",
       "4     CHARME DE L'ANCIEN pour cet appartement de 129...      725000  \n",
       "...                                                 ...         ...  \n",
       "3250                              Perrache-Le Confluent     1750000  \n",
       "3251                                       Le-Perollier      420000  \n",
       "3252                   Les Brotteaux-Bellecombe-Masséna      420000  \n",
       "3253                                           Villette      417000  \n",
       "3254                               Léon Blum - Bon Coin      560000  \n",
       "\n",
       "[3245 rows x 12 columns]"
      ]
     },
     "execution_count": 85,
     "metadata": {},
     "output_type": "execute_result"
    }
   ],
   "source": [
    "data = data[col]\n",
    "data"
   ]
  },
  {
   "cell_type": "code",
   "execution_count": 86,
   "metadata": {},
   "outputs": [
    {
     "data": {
      "text/html": [
       "<div>\n",
       "<style scoped>\n",
       "    .dataframe tbody tr th:only-of-type {\n",
       "        vertical-align: middle;\n",
       "    }\n",
       "\n",
       "    .dataframe tbody tr th {\n",
       "        vertical-align: top;\n",
       "    }\n",
       "\n",
       "    .dataframe thead th {\n",
       "        text-align: right;\n",
       "    }\n",
       "</style>\n",
       "<table border=\"1\" class=\"dataframe\">\n",
       "  <thead>\n",
       "    <tr style=\"text-align: right;\">\n",
       "      <th></th>\n",
       "      <th>Unnamed: 0</th>\n",
       "      <th>nombre_pièces</th>\n",
       "      <th>nombre_chambres</th>\n",
       "      <th>surface</th>\n",
       "      <th>étage</th>\n",
       "      <th>localisation</th>\n",
       "      <th>prix_achat</th>\n",
       "    </tr>\n",
       "  </thead>\n",
       "  <tbody>\n",
       "    <tr>\n",
       "      <th>count</th>\n",
       "      <td>3245.000000</td>\n",
       "      <td>3245.000000</td>\n",
       "      <td>2869.000000</td>\n",
       "      <td>3228.000000</td>\n",
       "      <td>104.000000</td>\n",
       "      <td>3245.000000</td>\n",
       "      <td>3.245000e+03</td>\n",
       "    </tr>\n",
       "    <tr>\n",
       "      <th>mean</th>\n",
       "      <td>1631.510015</td>\n",
       "      <td>3.233282</td>\n",
       "      <td>2.348902</td>\n",
       "      <td>80.393123</td>\n",
       "      <td>4.259615</td>\n",
       "      <td>4.991680</td>\n",
       "      <td>4.829525e+05</td>\n",
       "    </tr>\n",
       "    <tr>\n",
       "      <th>std</th>\n",
       "      <td>937.698274</td>\n",
       "      <td>1.370196</td>\n",
       "      <td>1.045971</td>\n",
       "      <td>42.796273</td>\n",
       "      <td>1.762584</td>\n",
       "      <td>2.551611</td>\n",
       "      <td>3.288190e+05</td>\n",
       "    </tr>\n",
       "    <tr>\n",
       "      <th>min</th>\n",
       "      <td>0.000000</td>\n",
       "      <td>1.000000</td>\n",
       "      <td>1.000000</td>\n",
       "      <td>7.000000</td>\n",
       "      <td>1.000000</td>\n",
       "      <td>1.000000</td>\n",
       "      <td>4.500000e+04</td>\n",
       "    </tr>\n",
       "    <tr>\n",
       "      <th>25%</th>\n",
       "      <td>821.000000</td>\n",
       "      <td>2.000000</td>\n",
       "      <td>2.000000</td>\n",
       "      <td>53.000000</td>\n",
       "      <td>3.000000</td>\n",
       "      <td>3.000000</td>\n",
       "      <td>2.750000e+05</td>\n",
       "    </tr>\n",
       "    <tr>\n",
       "      <th>50%</th>\n",
       "      <td>1632.000000</td>\n",
       "      <td>3.000000</td>\n",
       "      <td>2.000000</td>\n",
       "      <td>75.000000</td>\n",
       "      <td>4.500000</td>\n",
       "      <td>5.000000</td>\n",
       "      <td>3.990000e+05</td>\n",
       "    </tr>\n",
       "    <tr>\n",
       "      <th>75%</th>\n",
       "      <td>2443.000000</td>\n",
       "      <td>4.000000</td>\n",
       "      <td>3.000000</td>\n",
       "      <td>99.000000</td>\n",
       "      <td>5.000000</td>\n",
       "      <td>7.000000</td>\n",
       "      <td>5.950000e+05</td>\n",
       "    </tr>\n",
       "    <tr>\n",
       "      <th>max</th>\n",
       "      <td>3254.000000</td>\n",
       "      <td>10.000000</td>\n",
       "      <td>14.000000</td>\n",
       "      <td>364.000000</td>\n",
       "      <td>10.000000</td>\n",
       "      <td>13.000000</td>\n",
       "      <td>3.300000e+06</td>\n",
       "    </tr>\n",
       "  </tbody>\n",
       "</table>\n",
       "</div>"
      ],
      "text/plain": [
       "        Unnamed: 0  nombre_pièces  nombre_chambres      surface       étage  \\\n",
       "count  3245.000000    3245.000000      2869.000000  3228.000000  104.000000   \n",
       "mean   1631.510015       3.233282         2.348902    80.393123    4.259615   \n",
       "std     937.698274       1.370196         1.045971    42.796273    1.762584   \n",
       "min       0.000000       1.000000         1.000000     7.000000    1.000000   \n",
       "25%     821.000000       2.000000         2.000000    53.000000    3.000000   \n",
       "50%    1632.000000       3.000000         2.000000    75.000000    4.500000   \n",
       "75%    2443.000000       4.000000         3.000000    99.000000    5.000000   \n",
       "max    3254.000000      10.000000        14.000000   364.000000   10.000000   \n",
       "\n",
       "       localisation    prix_achat  \n",
       "count   3245.000000  3.245000e+03  \n",
       "mean       4.991680  4.829525e+05  \n",
       "std        2.551611  3.288190e+05  \n",
       "min        1.000000  4.500000e+04  \n",
       "25%        3.000000  2.750000e+05  \n",
       "50%        5.000000  3.990000e+05  \n",
       "75%        7.000000  5.950000e+05  \n",
       "max       13.000000  3.300000e+06  "
      ]
     },
     "execution_count": 86,
     "metadata": {},
     "output_type": "execute_result"
    }
   ],
   "source": [
    "# Show some statistics \n",
    "data.describe()"
   ]
  },
  {
   "cell_type": "code",
   "execution_count": 87,
   "metadata": {},
   "outputs": [
    {
     "data": {
      "text/plain": [
       "<AxesSubplot:>"
      ]
     },
     "execution_count": 87,
     "metadata": {},
     "output_type": "execute_result"
    },
    {
     "data": {
      "image/png": "[encoded data removed]",
      "text/plain": [
       "<Figure size 720x720 with 2 Axes>"
      ]
     },
     "metadata": {},
     "output_type": "display_data"
    }
   ],
   "source": [
    "# take a look at correlations\n",
    "plt.figure(figsize= (10,10))\n",
    "sns.heatmap(data.corr(method= 'pearson'), annot= True, cmap= 'coolwarm', mask = np.triu(data.corr()), cbar_kws = {'orientation':'horizontal'})"
   ]
  },
  {
   "cell_type": "code",
   "execution_count": 88,
   "metadata": {},
   "outputs": [
    {
     "data": {
      "text/plain": [
       "<AxesSubplot:>"
      ]
     },
     "execution_count": 88,
     "metadata": {},
     "output_type": "execute_result"
    },
    {
     "data": {
      "image/png": "[encoded data removed]",
      "text/plain": [
       "<Figure size 720x720 with 2 Axes>"
      ]
     },
     "metadata": {},
     "output_type": "display_data"
    }
   ],
   "source": [
    "plt.figure(figsize= (10,10))\n",
    "sns.heatmap(data.corr(method= 'spearman'), annot= True, cmap= 'coolwarm', mask = np.triu(data.corr()), cbar_kws = {'orientation':'horizontal'})"
   ]
  },
  {
   "cell_type": "markdown",
   "metadata": {},
   "source": [
    "For both correlation coeff, it let us know that we should select : nombre_pièces, nombre_chambres, surface (most correlated), localisation (less correlated but we will assume that it's important)\n",
    "We won't take étage as we will see there is not enough information on it"
   ]
  },
  {
   "cell_type": "code",
   "execution_count": 89,
   "metadata": {},
   "outputs": [
    {
     "data": {
      "text/html": [
       "<div>\n",
       "<style scoped>\n",
       "    .dataframe tbody tr th:only-of-type {\n",
       "        vertical-align: middle;\n",
       "    }\n",
       "\n",
       "    .dataframe tbody tr th {\n",
       "        vertical-align: top;\n",
       "    }\n",
       "\n",
       "    .dataframe thead th {\n",
       "        text-align: right;\n",
       "    }\n",
       "</style>\n",
       "<table border=\"1\" class=\"dataframe\">\n",
       "  <thead>\n",
       "    <tr style=\"text-align: right;\">\n",
       "      <th></th>\n",
       "      <th>Unnamed: 0</th>\n",
       "      <th>nombre_pièces</th>\n",
       "      <th>nombre_chambres</th>\n",
       "      <th>surface</th>\n",
       "      <th>étage</th>\n",
       "      <th>localisation</th>\n",
       "      <th>prix_achat</th>\n",
       "    </tr>\n",
       "  </thead>\n",
       "  <tbody>\n",
       "    <tr>\n",
       "      <th>count</th>\n",
       "      <td>3245.000000</td>\n",
       "      <td>3245.000000</td>\n",
       "      <td>2869.000000</td>\n",
       "      <td>3228.000000</td>\n",
       "      <td>104.000000</td>\n",
       "      <td>3245.000000</td>\n",
       "      <td>3.245000e+03</td>\n",
       "    </tr>\n",
       "    <tr>\n",
       "      <th>mean</th>\n",
       "      <td>1631.510015</td>\n",
       "      <td>3.233282</td>\n",
       "      <td>2.348902</td>\n",
       "      <td>80.393123</td>\n",
       "      <td>4.259615</td>\n",
       "      <td>4.991680</td>\n",
       "      <td>4.829525e+05</td>\n",
       "    </tr>\n",
       "    <tr>\n",
       "      <th>std</th>\n",
       "      <td>937.698274</td>\n",
       "      <td>1.370196</td>\n",
       "      <td>1.045971</td>\n",
       "      <td>42.796273</td>\n",
       "      <td>1.762584</td>\n",
       "      <td>2.551611</td>\n",
       "      <td>3.288190e+05</td>\n",
       "    </tr>\n",
       "    <tr>\n",
       "      <th>min</th>\n",
       "      <td>0.000000</td>\n",
       "      <td>1.000000</td>\n",
       "      <td>1.000000</td>\n",
       "      <td>7.000000</td>\n",
       "      <td>1.000000</td>\n",
       "      <td>1.000000</td>\n",
       "      <td>4.500000e+04</td>\n",
       "    </tr>\n",
       "    <tr>\n",
       "      <th>25%</th>\n",
       "      <td>821.000000</td>\n",
       "      <td>2.000000</td>\n",
       "      <td>2.000000</td>\n",
       "      <td>53.000000</td>\n",
       "      <td>3.000000</td>\n",
       "      <td>3.000000</td>\n",
       "      <td>2.750000e+05</td>\n",
       "    </tr>\n",
       "    <tr>\n",
       "      <th>50%</th>\n",
       "      <td>1632.000000</td>\n",
       "      <td>3.000000</td>\n",
       "      <td>2.000000</td>\n",
       "      <td>75.000000</td>\n",
       "      <td>4.500000</td>\n",
       "      <td>5.000000</td>\n",
       "      <td>3.990000e+05</td>\n",
       "    </tr>\n",
       "    <tr>\n",
       "      <th>75%</th>\n",
       "      <td>2443.000000</td>\n",
       "      <td>4.000000</td>\n",
       "      <td>3.000000</td>\n",
       "      <td>99.000000</td>\n",
       "      <td>5.000000</td>\n",
       "      <td>7.000000</td>\n",
       "      <td>5.950000e+05</td>\n",
       "    </tr>\n",
       "    <tr>\n",
       "      <th>max</th>\n",
       "      <td>3254.000000</td>\n",
       "      <td>10.000000</td>\n",
       "      <td>14.000000</td>\n",
       "      <td>364.000000</td>\n",
       "      <td>10.000000</td>\n",
       "      <td>13.000000</td>\n",
       "      <td>3.300000e+06</td>\n",
       "    </tr>\n",
       "  </tbody>\n",
       "</table>\n",
       "</div>"
      ],
      "text/plain": [
       "        Unnamed: 0  nombre_pièces  nombre_chambres      surface       étage  \\\n",
       "count  3245.000000    3245.000000      2869.000000  3228.000000  104.000000   \n",
       "mean   1631.510015       3.233282         2.348902    80.393123    4.259615   \n",
       "std     937.698274       1.370196         1.045971    42.796273    1.762584   \n",
       "min       0.000000       1.000000         1.000000     7.000000    1.000000   \n",
       "25%     821.000000       2.000000         2.000000    53.000000    3.000000   \n",
       "50%    1632.000000       3.000000         2.000000    75.000000    4.500000   \n",
       "75%    2443.000000       4.000000         3.000000    99.000000    5.000000   \n",
       "max    3254.000000      10.000000        14.000000   364.000000   10.000000   \n",
       "\n",
       "       localisation    prix_achat  \n",
       "count   3245.000000  3.245000e+03  \n",
       "mean       4.991680  4.829525e+05  \n",
       "std        2.551611  3.288190e+05  \n",
       "min        1.000000  4.500000e+04  \n",
       "25%        3.000000  2.750000e+05  \n",
       "50%        5.000000  3.990000e+05  \n",
       "75%        7.000000  5.950000e+05  \n",
       "max       13.000000  3.300000e+06  "
      ]
     },
     "execution_count": 89,
     "metadata": {},
     "output_type": "execute_result"
    }
   ],
   "source": [
    "data.describe()"
   ]
  },
  {
   "cell_type": "code",
   "execution_count": 90,
   "metadata": {},
   "outputs": [
    {
     "data": {
      "text/plain": [
       "<AxesSubplot:>"
      ]
     },
     "execution_count": 90,
     "metadata": {},
     "output_type": "execute_result"
    },
    {
     "data": {
      "image/png": "[encoded data removed]",
      "text/plain": [
       "<Figure size 576x396 with 1 Axes>"
      ]
     },
     "metadata": {},
     "output_type": "display_data"
    }
   ],
   "source": [
    "# Let's look at the distribution of our outputs\n",
    "data['prix_achat'].hist(bins = 100)"
   ]
  },
  {
   "cell_type": "code",
   "execution_count": 91,
   "metadata": {},
   "outputs": [
    {
     "data": {
      "image/png": "[encoded data removed]",
      "text/plain": [
       "<Figure size 576x396 with 1 Axes>"
      ]
     },
     "metadata": {},
     "output_type": "display_data"
    }
   ],
   "source": [
    "# A normal distribution could help the model to predict better, let's see how normal it is\n",
    "from statsmodels.graphics.gofplots import qqplot\n",
    "qqplot(data['prix_achat'], line ='s')\n",
    "plt.show()"
   ]
  },
  {
   "cell_type": "code",
   "execution_count": 92,
   "metadata": {},
   "outputs": [],
   "source": [
    "# As we saw, to ensure good predictions, we will remove the extreme max and min values as there are less than 25% of these examples in the dataset and they take 50% of noisy informations (see with .describe())\n",
    "data = data[(data['prix_achat']<595000) & (data['prix_achat']> 275000)]"
   ]
  },
  {
   "cell_type": "code",
   "execution_count": 93,
   "metadata": {},
   "outputs": [
    {
     "data": {
      "text/plain": [
       "<AxesSubplot:>"
      ]
     },
     "execution_count": 93,
     "metadata": {},
     "output_type": "execute_result"
    },
    {
     "data": {
      "image/png": "[encoded data removed]",
      "text/plain": [
       "<Figure size 576x396 with 1 Axes>"
      ]
     },
     "metadata": {},
     "output_type": "display_data"
    }
   ],
   "source": [
    "data['prix_achat'].hist(bins =30)"
   ]
  },
  {
   "cell_type": "code",
   "execution_count": 94,
   "metadata": {},
   "outputs": [
    {
     "data": {
      "image/png": "[encoded data removed]",
      "text/plain": [
       "<Figure size 576x396 with 1 Axes>"
      ]
     },
     "metadata": {},
     "output_type": "display_data"
    }
   ],
   "source": [
    "qqplot(data['prix_achat'], line ='s')\n",
    "plt.show()"
   ]
  },
  {
   "cell_type": "code",
   "execution_count": 95,
   "metadata": {},
   "outputs": [],
   "source": [
    "# Distribution is better for our predictions, we won't modify more to not cheat with the model"
   ]
  },
  {
   "cell_type": "code",
   "execution_count": 96,
   "metadata": {},
   "outputs": [
    {
     "data": {
      "text/plain": [
       "<AxesSubplot:>"
      ]
     },
     "execution_count": 96,
     "metadata": {},
     "output_type": "execute_result"
    },
    {
     "data": {
      "image/png": "[encoded data removed]",
      "text/plain": [
       "<Figure size 576x396 with 1 Axes>"
      ]
     },
     "metadata": {},
     "output_type": "display_data"
    }
   ],
   "source": [
    "# Same thing with localisation, as we try to predict prices for appartments, we don't want disctricts that are not poorly represented in the dataset\n",
    "data['localisation'].hist(bins=12)"
   ]
  },
  {
   "cell_type": "code",
   "execution_count": 97,
   "metadata": {},
   "outputs": [
    {
     "data": {
      "text/plain": [
       "<AxesSubplot:>"
      ]
     },
     "execution_count": 97,
     "metadata": {},
     "output_type": "execute_result"
    },
    {
     "data": {
      "image/png": "[encoded data removed]",
      "text/plain": [
       "<Figure size 576x396 with 1 Axes>"
      ]
     },
     "metadata": {},
     "output_type": "display_data"
    }
   ],
   "source": [
    "# We also should remove cat than > 10 as they are not well represented in the dataset\n",
    "data = data[(data['localisation'] <10)]\n",
    "data['localisation'].hist(bins=12)"
   ]
  },
  {
   "cell_type": "code",
   "execution_count": 149,
   "metadata": {},
   "outputs": [
    {
     "data": {
      "text/plain": [
       "<AxesSubplot:>"
      ]
     },
     "execution_count": 149,
     "metadata": {},
     "output_type": "execute_result"
    },
    {
     "data": {
      "image/png": "[encoded data removed]",
      "text/plain": [
       "<Figure size 576x396 with 1 Axes>"
      ]
     },
     "metadata": {},
     "output_type": "display_data"
    }
   ],
   "source": [
    "# Same job for surfaces\n",
    "data['surface'].hist(bins = 30)"
   ]
  },
  {
   "cell_type": "code",
   "execution_count": 150,
   "metadata": {},
   "outputs": [
    {
     "data": {
      "text/plain": [
       "<AxesSubplot:>"
      ]
     },
     "execution_count": 150,
     "metadata": {},
     "output_type": "execute_result"
    },
    {
     "data": {
      "image/png": "[encoded data removed]",
      "text/plain": [
       "<Figure size 576x396 with 1 Axes>"
      ]
     },
     "metadata": {},
     "output_type": "display_data"
    }
   ],
   "source": [
    "# Let's avoid great appartments poorly represented in the dataset and considering only ones < 140\n",
    "data = data[data['surface']< 140]\n",
    "data['surface'].hist(bins = 30)"
   ]
  },
  {
   "cell_type": "code",
   "execution_count": 100,
   "metadata": {},
   "outputs": [
    {
     "data": {
      "text/plain": [
       "<AxesSubplot:>"
      ]
     },
     "execution_count": 100,
     "metadata": {},
     "output_type": "execute_result"
    },
    {
     "data": {
      "image/png": "[encoded data removed]",
      "text/plain": [
       "<Figure size 576x396 with 2 Axes>"
      ]
     },
     "metadata": {},
     "output_type": "display_data"
    }
   ],
   "source": [
    "# See where there are missing values or nan\n",
    "sns.heatmap(data.isna())"
   ]
  },
  {
   "cell_type": "code",
   "execution_count": 101,
   "metadata": {},
   "outputs": [],
   "source": [
    "# According to best correlated variables and lack of information of some categories, we will remove all these columns (credit is just the same as prix_achat based on one month)\n",
    "data.drop(['type_appartement', 'Unnamed: 0','étage', 'description','ascenceur','terasse', 'credit'],axis = 1, inplace= True)"
   ]
  },
  {
   "cell_type": "code",
   "execution_count": 102,
   "metadata": {},
   "outputs": [],
   "source": [
    "# and now drop nan and missing values\n",
    "data.dropna(inplace = True)\n",
    "data.reset_index(drop= True, inplace = True)"
   ]
  },
  {
   "cell_type": "code",
   "execution_count": 103,
   "metadata": {},
   "outputs": [
    {
     "data": {
      "text/html": [
       "<div>\n",
       "<style scoped>\n",
       "    .dataframe tbody tr th:only-of-type {\n",
       "        vertical-align: middle;\n",
       "    }\n",
       "\n",
       "    .dataframe tbody tr th {\n",
       "        vertical-align: top;\n",
       "    }\n",
       "\n",
       "    .dataframe thead th {\n",
       "        text-align: right;\n",
       "    }\n",
       "</style>\n",
       "<table border=\"1\" class=\"dataframe\">\n",
       "  <thead>\n",
       "    <tr style=\"text-align: right;\">\n",
       "      <th></th>\n",
       "      <th>nombre_pièces</th>\n",
       "      <th>nombre_chambres</th>\n",
       "      <th>surface</th>\n",
       "      <th>localisation</th>\n",
       "      <th>prix_achat</th>\n",
       "    </tr>\n",
       "  </thead>\n",
       "  <tbody>\n",
       "    <tr>\n",
       "      <th>0</th>\n",
       "      <td>4</td>\n",
       "      <td>2.0</td>\n",
       "      <td>104.0</td>\n",
       "      <td>3.0</td>\n",
       "      <td>499000</td>\n",
       "    </tr>\n",
       "    <tr>\n",
       "      <th>1</th>\n",
       "      <td>3</td>\n",
       "      <td>2.0</td>\n",
       "      <td>72.0</td>\n",
       "      <td>1.0</td>\n",
       "      <td>449505</td>\n",
       "    </tr>\n",
       "    <tr>\n",
       "      <th>2</th>\n",
       "      <td>5</td>\n",
       "      <td>4.0</td>\n",
       "      <td>99.0</td>\n",
       "      <td>8.0</td>\n",
       "      <td>410000</td>\n",
       "    </tr>\n",
       "    <tr>\n",
       "      <th>3</th>\n",
       "      <td>3</td>\n",
       "      <td>2.0</td>\n",
       "      <td>61.0</td>\n",
       "      <td>6.0</td>\n",
       "      <td>437000</td>\n",
       "    </tr>\n",
       "    <tr>\n",
       "      <th>4</th>\n",
       "      <td>3</td>\n",
       "      <td>2.0</td>\n",
       "      <td>69.0</td>\n",
       "      <td>6.0</td>\n",
       "      <td>420000</td>\n",
       "    </tr>\n",
       "    <tr>\n",
       "      <th>...</th>\n",
       "      <td>...</td>\n",
       "      <td>...</td>\n",
       "      <td>...</td>\n",
       "      <td>...</td>\n",
       "      <td>...</td>\n",
       "    </tr>\n",
       "    <tr>\n",
       "      <th>1552</th>\n",
       "      <td>3</td>\n",
       "      <td>2.0</td>\n",
       "      <td>72.0</td>\n",
       "      <td>1.0</td>\n",
       "      <td>449505</td>\n",
       "    </tr>\n",
       "    <tr>\n",
       "      <th>1553</th>\n",
       "      <td>5</td>\n",
       "      <td>4.0</td>\n",
       "      <td>99.0</td>\n",
       "      <td>8.0</td>\n",
       "      <td>410000</td>\n",
       "    </tr>\n",
       "    <tr>\n",
       "      <th>1554</th>\n",
       "      <td>3</td>\n",
       "      <td>2.0</td>\n",
       "      <td>61.0</td>\n",
       "      <td>6.0</td>\n",
       "      <td>437000</td>\n",
       "    </tr>\n",
       "    <tr>\n",
       "      <th>1555</th>\n",
       "      <td>3</td>\n",
       "      <td>2.0</td>\n",
       "      <td>69.0</td>\n",
       "      <td>6.0</td>\n",
       "      <td>420000</td>\n",
       "    </tr>\n",
       "    <tr>\n",
       "      <th>1556</th>\n",
       "      <td>4</td>\n",
       "      <td>3.0</td>\n",
       "      <td>86.0</td>\n",
       "      <td>3.0</td>\n",
       "      <td>417000</td>\n",
       "    </tr>\n",
       "  </tbody>\n",
       "</table>\n",
       "<p>1557 rows × 5 columns</p>\n",
       "</div>"
      ],
      "text/plain": [
       "      nombre_pièces  nombre_chambres  surface  localisation  prix_achat\n",
       "0                 4              2.0    104.0           3.0      499000\n",
       "1                 3              2.0     72.0           1.0      449505\n",
       "2                 5              4.0     99.0           8.0      410000\n",
       "3                 3              2.0     61.0           6.0      437000\n",
       "4                 3              2.0     69.0           6.0      420000\n",
       "...             ...              ...      ...           ...         ...\n",
       "1552              3              2.0     72.0           1.0      449505\n",
       "1553              5              4.0     99.0           8.0      410000\n",
       "1554              3              2.0     61.0           6.0      437000\n",
       "1555              3              2.0     69.0           6.0      420000\n",
       "1556              4              3.0     86.0           3.0      417000\n",
       "\n",
       "[1557 rows x 5 columns]"
      ]
     },
     "execution_count": 103,
     "metadata": {},
     "output_type": "execute_result"
    }
   ],
   "source": [
    "data"
   ]
  },
  {
   "cell_type": "code",
   "execution_count": 104,
   "metadata": {},
   "outputs": [
    {
     "data": {
      "text/html": [
       "<div>\n",
       "<style scoped>\n",
       "    .dataframe tbody tr th:only-of-type {\n",
       "        vertical-align: middle;\n",
       "    }\n",
       "\n",
       "    .dataframe tbody tr th {\n",
       "        vertical-align: top;\n",
       "    }\n",
       "\n",
       "    .dataframe thead th {\n",
       "        text-align: right;\n",
       "    }\n",
       "</style>\n",
       "<table border=\"1\" class=\"dataframe\">\n",
       "  <thead>\n",
       "    <tr style=\"text-align: right;\">\n",
       "      <th></th>\n",
       "      <th>nombre_pièces</th>\n",
       "      <th>nombre_chambres</th>\n",
       "      <th>surface</th>\n",
       "      <th>localisation</th>\n",
       "      <th>prix_achat</th>\n",
       "    </tr>\n",
       "  </thead>\n",
       "  <tbody>\n",
       "    <tr>\n",
       "      <th>count</th>\n",
       "      <td>1557.000000</td>\n",
       "      <td>1557.000000</td>\n",
       "      <td>1557.000000</td>\n",
       "      <td>1557.000000</td>\n",
       "      <td>1557.000000</td>\n",
       "    </tr>\n",
       "    <tr>\n",
       "      <th>mean</th>\n",
       "      <td>3.216442</td>\n",
       "      <td>2.116891</td>\n",
       "      <td>74.499679</td>\n",
       "      <td>5.066795</td>\n",
       "      <td>409168.830443</td>\n",
       "    </tr>\n",
       "    <tr>\n",
       "      <th>std</th>\n",
       "      <td>0.843872</td>\n",
       "      <td>0.784132</td>\n",
       "      <td>18.296249</td>\n",
       "      <td>2.493830</td>\n",
       "      <td>82323.632003</td>\n",
       "    </tr>\n",
       "    <tr>\n",
       "      <th>min</th>\n",
       "      <td>1.000000</td>\n",
       "      <td>1.000000</td>\n",
       "      <td>24.000000</td>\n",
       "      <td>1.000000</td>\n",
       "      <td>276000.000000</td>\n",
       "    </tr>\n",
       "    <tr>\n",
       "      <th>25%</th>\n",
       "      <td>3.000000</td>\n",
       "      <td>2.000000</td>\n",
       "      <td>63.000000</td>\n",
       "      <td>3.000000</td>\n",
       "      <td>342800.000000</td>\n",
       "    </tr>\n",
       "    <tr>\n",
       "      <th>50%</th>\n",
       "      <td>3.000000</td>\n",
       "      <td>2.000000</td>\n",
       "      <td>72.000000</td>\n",
       "      <td>5.000000</td>\n",
       "      <td>399000.000000</td>\n",
       "    </tr>\n",
       "    <tr>\n",
       "      <th>75%</th>\n",
       "      <td>4.000000</td>\n",
       "      <td>3.000000</td>\n",
       "      <td>86.000000</td>\n",
       "      <td>7.000000</td>\n",
       "      <td>472000.000000</td>\n",
       "    </tr>\n",
       "    <tr>\n",
       "      <th>max</th>\n",
       "      <td>6.000000</td>\n",
       "      <td>6.000000</td>\n",
       "      <td>139.000000</td>\n",
       "      <td>9.000000</td>\n",
       "      <td>594000.000000</td>\n",
       "    </tr>\n",
       "  </tbody>\n",
       "</table>\n",
       "</div>"
      ],
      "text/plain": [
       "       nombre_pièces  nombre_chambres      surface  localisation  \\\n",
       "count    1557.000000      1557.000000  1557.000000   1557.000000   \n",
       "mean        3.216442         2.116891    74.499679      5.066795   \n",
       "std         0.843872         0.784132    18.296249      2.493830   \n",
       "min         1.000000         1.000000    24.000000      1.000000   \n",
       "25%         3.000000         2.000000    63.000000      3.000000   \n",
       "50%         3.000000         2.000000    72.000000      5.000000   \n",
       "75%         4.000000         3.000000    86.000000      7.000000   \n",
       "max         6.000000         6.000000   139.000000      9.000000   \n",
       "\n",
       "          prix_achat  \n",
       "count    1557.000000  \n",
       "mean   409168.830443  \n",
       "std     82323.632003  \n",
       "min    276000.000000  \n",
       "25%    342800.000000  \n",
       "50%    399000.000000  \n",
       "75%    472000.000000  \n",
       "max    594000.000000  "
      ]
     },
     "execution_count": 104,
     "metadata": {},
     "output_type": "execute_result"
    }
   ],
   "source": [
    "data.describe()"
   ]
  },
  {
   "cell_type": "code",
   "execution_count": 105,
   "metadata": {},
   "outputs": [
    {
     "data": {
      "text/plain": [
       "Text(0, 0.5, 'price')"
      ]
     },
     "execution_count": 105,
     "metadata": {},
     "output_type": "execute_result"
    },
    {
     "data": {
      "image/png": "[encoded data removed]",
      "text/plain": [
       "<Figure size 576x396 with 1 Axes>"
      ]
     },
     "metadata": {},
     "output_type": "display_data"
    }
   ],
   "source": [
    "# We just take a look on the relation between surface (most correlated feature) and appart prices. \n",
    "plt.scatter(data['surface'], data[['prix_achat']], s = 10)\n",
    "plt.xlabel('surface')\n",
    "plt.ylabel('price')"
   ]
  },
  {
   "cell_type": "code",
   "execution_count": 106,
   "metadata": {},
   "outputs": [],
   "source": [
    "# Save original data before scaling all features\n",
    "orig_data = data.copy()\n",
    "# Create a dict with each scaler for each feature\n",
    "column_scaler = {}\n",
    "\n",
    "for column in data.columns:\n",
    "    scaler = MinMaxScaler()\n",
    "    data[column] = scaler.fit_transform(np.expand_dims(data[column].values, axis = 1))\n",
    "    column_scaler[column] = scaler"
   ]
  },
  {
   "cell_type": "code",
   "execution_count": 107,
   "metadata": {},
   "outputs": [
    {
     "name": "stdout",
     "output_type": "stream",
     "text": [
      "X shape(1557, 4)\n",
      "Y shape(1557, 1)\n"
     ]
    }
   ],
   "source": [
    "# Transform pandas series into numpy array\n",
    "X = np.array(data.drop(['prix_achat'], axis= 1))\n",
    "print('X shape' + str(X.shape))\n",
    "Y = np.array(data['prix_achat'])\n",
    "Y = np.expand_dims(Y, axis = 1)\n",
    "print('Y shape' + str(Y.shape))"
   ]
  },
  {
   "cell_type": "code",
   "execution_count": 108,
   "metadata": {},
   "outputs": [],
   "source": [
    "# check there is no nan in our matrices\n",
    "assert np.any(np.isnan(X)) is not True \n",
    "assert np.any(np.isnan(Y)) is not True"
   ]
  },
  {
   "cell_type": "markdown",
   "metadata": {},
   "source": [
    "Split data set into train set and test set"
   ]
  },
  {
   "cell_type": "code",
   "execution_count": 109,
   "metadata": {},
   "outputs": [
    {
     "name": "stdout",
     "output_type": "stream",
     "text": [
      "dataset size: 1557\n",
      "train sample: 1167\n",
      "test_sample: 390\n"
     ]
    }
   ],
   "source": [
    "# Simply split by order in the dataset \n",
    "dataset_size= X.shape[0]\n",
    "print('dataset size: ' + str(dataset_size))\n",
    "TEST_SIZE = 0.25\n",
    "train_sample = int(X.shape[0]*(1-TEST_SIZE))\n",
    "print('train sample: ' + str(train_sample) + '\\ntest_sample: '+ str(dataset_size - train_sample))\n",
    "X_train = X[:train_sample,:]\n",
    "Y_train = Y[:train_sample,:]\n",
    "X_test = X[train_sample:,:]\n",
    "Y_test = Y[train_sample:,:]\n",
    "\n",
    "assert X_train.shape[0] == train_sample\n",
    "assert Y_train.shape[0] == train_sample\n",
    "assert X_test.shape[0] == dataset_size-train_sample\n",
    "assert Y_test.shape[0] == dataset_size-train_sample"
   ]
  },
  {
   "cell_type": "code",
   "execution_count": 110,
   "metadata": {},
   "outputs": [],
   "source": [
    "# or shuffle and split with scikitlearn / / not big difference on this dataset if we shuffle\n",
    "# from sklearn.model_selection import train_test_split\n",
    "\n",
    "# X_train, X_test, Y_train, Y_test = train_test_split(X, Y, test_size = 0.4, random_state = 0)\n"
   ]
  },
  {
   "cell_type": "code",
   "execution_count": 111,
   "metadata": {},
   "outputs": [],
   "source": [
    "# convert in shape (number of features, training examples) for feeding the model\n",
    "X = X.T\n",
    "Y= Y.T \n",
    "X_train = X_train.T \n",
    "X_test = X_test.T\n",
    "Y_train = Y_train.T\n",
    "Y_test = Y_test.T"
   ]
  },
  {
   "cell_type": "code",
   "execution_count": 112,
   "metadata": {},
   "outputs": [
    {
     "name": "stdout",
     "output_type": "stream",
     "text": [
      "X shape(4, 1557)\n",
      "Y shape(1, 1557)\n",
      "X_train shape(4, 1167)\n",
      "Y_train shape(1, 1167)\n",
      "X_test shape(4, 390)\n",
      "Y_test shape(1, 390)\n"
     ]
    }
   ],
   "source": [
    "print('X shape' + str(X.shape))\n",
    "print('Y shape' + str(Y.shape))\n",
    "\n",
    "print('X_train shape' + str(X_train.shape))\n",
    "print('Y_train shape' + str(Y_train.shape))\n",
    "print('X_test shape' + str(X_test.shape))\n",
    "print('Y_test shape' + str(Y_test.shape))\n"
   ]
  },
  {
   "cell_type": "markdown",
   "metadata": {},
   "source": [
    "## NN \"HANDMADE' MODELS "
   ]
  },
  {
   "cell_type": "markdown",
   "metadata": {},
   "source": [
    "Let's try a few models\n",
    "In the following models, learning rates and num_iterations have been systematically adjusted before to make the algorithm converges.Since it's handmade models we don't have used regularization and automatic optimizer like adam optimizer. "
   ]
  },
  {
   "cell_type": "code",
   "execution_count": 113,
   "metadata": {},
   "outputs": [],
   "source": [
    "stats = {}\n",
    "# create a dictionnary of statistics in which we will put all our results for each models, NN and then Linear Regression"
   ]
  },
  {
   "cell_type": "code",
   "execution_count": 114,
   "metadata": {},
   "outputs": [
    {
     "name": "stdout",
     "output_type": "stream",
     "text": [
      "train_cost after iteration 0: 0.413076\n",
      "test_cost after iteration 0: 0.433357\n",
      "train_cost after iteration 100: 0.290302\n",
      "test_cost after iteration 100: 0.306165\n",
      "train_cost after iteration 200: 0.272743\n",
      "test_cost after iteration 200: 0.288800\n",
      "train_cost after iteration 300: 0.259975\n",
      "test_cost after iteration 300: 0.276077\n",
      "train_cost after iteration 400: 0.250667\n",
      "test_cost after iteration 400: 0.266481\n",
      "train_cost after iteration 500: 0.243357\n",
      "test_cost after iteration 500: 0.258644\n",
      "train_cost after iteration 600: 0.237958\n",
      "test_cost after iteration 600: 0.252285\n",
      "train_cost after iteration 700: 0.233442\n",
      "test_cost after iteration 700: 0.246963\n",
      "train_cost after iteration 800: 0.229782\n",
      "test_cost after iteration 800: 0.242536\n",
      "train_cost after iteration 900: 0.226805\n",
      "test_cost after iteration 900: 0.238773\n",
      "train_cost after iteration 1000: 0.224356\n",
      "test_cost after iteration 1000: 0.235596\n",
      "train_cost after iteration 1100: 0.222451\n",
      "test_cost after iteration 1100: 0.232929\n",
      "train_cost after iteration 1200: 0.220857\n",
      "test_cost after iteration 1200: 0.230571\n",
      "train_cost after iteration 1300: 0.219542\n",
      "test_cost after iteration 1300: 0.228509\n",
      "train_cost after iteration 1400: 0.218517\n",
      "test_cost after iteration 1400: 0.226715\n",
      "train_cost after iteration 1500: 0.217787\n",
      "test_cost after iteration 1500: 0.225146\n",
      "train_cost after iteration 1600: 0.217289\n",
      "test_cost after iteration 1600: 0.223813\n",
      "train_cost after iteration 1700: 0.216834\n",
      "test_cost after iteration 1700: 0.222582\n",
      "train_cost after iteration 1800: 0.216441\n",
      "test_cost after iteration 1800: 0.221514\n",
      "train_cost after iteration 1900: 0.216162\n",
      "test_cost after iteration 1900: 0.220587\n"
     ]
    },
    {
     "data": {
      "image/png": "[encoded data removed]",
      "text/plain": [
       "<Figure size 1152x648 with 1 Axes>"
      ]
     },
     "metadata": {},
     "output_type": "display_data"
    },
    {
     "name": "stdout",
     "output_type": "stream",
     "text": [
      "MAE                      0.217\n",
      "train_MAE                0.216\n",
      "test_MAE                  0.22\n",
      "MSE                      0.071\n",
      "train_MSE                0.071\n",
      "test_MSE                 0.071\n",
      "RMSE                     0.267\n",
      "train_RMSE               0.517\n",
      "test_RMSE                0.517\n",
      "MEAN                     0.419\n",
      "R2                      -0.063\n"
     ]
    }
   ],
   "source": [
    "# 3 layers model with one hidden units or 32 neurons, no activation function = linear activation, and Mean absolute Error Loss as cost function\n",
    "LAYERS_DIMS = [4,32,1]\n",
    "parameters, stats['NN_model1'] = train_model(X_train, Y_train,\n",
    "                           X_test,Y_test,\n",
    "                           LAYERS_DIMS,\n",
    "                           activation = 'linear', \n",
    "                           loss = 'MAE_loss',\n",
    "                           learning_rate = 0.00015, num_iterations = 2000 ,print_cost = True, return_evaluation = True)"
   ]
  },
  {
   "cell_type": "markdown",
   "metadata": {},
   "source": [
    "Convergence looks ok, but statistics are not really good. Remember that we have scaled datas between 0 and 1, so MAE around 0.2 is really not exceptionnal (20% error). \n",
    "Besides we see that the determination coefficient R2 is negative, it shows how the model will predict poorly.\n",
    "RMSE when compared to the MEAN shows that the variance reaches 63% (RMSE/MEAN) of the average observations. \n",
    "To verify let's take a look on predictions."
   ]
  },
  {
   "cell_type": "code",
   "execution_count": 115,
   "metadata": {},
   "outputs": [],
   "source": [
    "# write a function to put predictions in dataframe and print max and avg error to illustrate our stats\n",
    "def add_results(X, parameters, orig_data, n):\n",
    "    predictions = predict(X, parameters)\n",
    "    predictions = np.transpose(predictions) \n",
    "    predictions = column_scaler['prix_achat'].inverse_transform(predictions)\n",
    "    orig_data['NN_predictions'+str(n)] = predictions.astype('int')\n",
    "    orig_data['NN_error'+ str(n)] = ((orig_data['prix_achat']- orig_data['NN_predictions'+str(n)])/orig_data['prix_achat']).round(decimals = 4)\n",
    "    \n",
    "    \n",
    "    print('avg error: ' + str(np.mean(np.absolute(orig_data['NN_error'+str(n)]))))\n",
    "    print('max error: ' + str(np.max(orig_data['NN_error'+str(n)])))\n",
    "    \n",
    "    return orig_data.loc[[orig_data['NN_error' + str(n)].idxmax()]]\n",
    "   "
   ]
  },
  {
   "cell_type": "code",
   "execution_count": 116,
   "metadata": {},
   "outputs": [
    {
     "name": "stdout",
     "output_type": "stream",
     "text": [
      "avg error: 0.16578657675016018\n",
      "max error: 0.3463\n"
     ]
    },
    {
     "data": {
      "text/html": [
       "<div>\n",
       "<style scoped>\n",
       "    .dataframe tbody tr th:only-of-type {\n",
       "        vertical-align: middle;\n",
       "    }\n",
       "\n",
       "    .dataframe tbody tr th {\n",
       "        vertical-align: top;\n",
       "    }\n",
       "\n",
       "    .dataframe thead th {\n",
       "        text-align: right;\n",
       "    }\n",
       "</style>\n",
       "<table border=\"1\" class=\"dataframe\">\n",
       "  <thead>\n",
       "    <tr style=\"text-align: right;\">\n",
       "      <th></th>\n",
       "      <th>nombre_pièces</th>\n",
       "      <th>nombre_chambres</th>\n",
       "      <th>surface</th>\n",
       "      <th>localisation</th>\n",
       "      <th>prix_achat</th>\n",
       "      <th>NN_predictions1</th>\n",
       "      <th>NN_error1</th>\n",
       "    </tr>\n",
       "  </thead>\n",
       "  <tbody>\n",
       "    <tr>\n",
       "      <th>241</th>\n",
       "      <td>4</td>\n",
       "      <td>2.0</td>\n",
       "      <td>105.0</td>\n",
       "      <td>3.0</td>\n",
       "      <td>594000</td>\n",
       "      <td>388316</td>\n",
       "      <td>0.3463</td>\n",
       "    </tr>\n",
       "  </tbody>\n",
       "</table>\n",
       "</div>"
      ],
      "text/plain": [
       "     nombre_pièces  nombre_chambres  surface  localisation  prix_achat  \\\n",
       "241              4              2.0    105.0           3.0      594000   \n",
       "\n",
       "     NN_predictions1  NN_error1  \n",
       "241           388316     0.3463  "
      ]
     },
     "execution_count": 116,
     "metadata": {},
     "output_type": "execute_result"
    }
   ],
   "source": [
    "add_results(X, parameters, orig_data, 1)"
   ]
  },
  {
   "cell_type": "markdown",
   "metadata": {},
   "source": [
    "Here we see the max error, about 35% of the real price, let's save the index of this example to see if this particular case is difficult to predict"
   ]
  },
  {
   "cell_type": "code",
   "execution_count": 117,
   "metadata": {},
   "outputs": [],
   "source": [
    "max_error_idx = [241]"
   ]
  },
  {
   "cell_type": "code",
   "execution_count": 118,
   "metadata": {},
   "outputs": [
    {
     "data": {
      "text/html": [
       "<div>\n",
       "<style scoped>\n",
       "    .dataframe tbody tr th:only-of-type {\n",
       "        vertical-align: middle;\n",
       "    }\n",
       "\n",
       "    .dataframe tbody tr th {\n",
       "        vertical-align: top;\n",
       "    }\n",
       "\n",
       "    .dataframe thead th {\n",
       "        text-align: right;\n",
       "    }\n",
       "</style>\n",
       "<table border=\"1\" class=\"dataframe\">\n",
       "  <thead>\n",
       "    <tr style=\"text-align: right;\">\n",
       "      <th></th>\n",
       "      <th>nombre_pièces</th>\n",
       "      <th>nombre_chambres</th>\n",
       "      <th>surface</th>\n",
       "      <th>localisation</th>\n",
       "      <th>prix_achat</th>\n",
       "      <th>NN_predictions1</th>\n",
       "      <th>NN_error1</th>\n",
       "    </tr>\n",
       "  </thead>\n",
       "  <tbody>\n",
       "    <tr>\n",
       "      <th>1</th>\n",
       "      <td>3</td>\n",
       "      <td>2.0</td>\n",
       "      <td>72.0</td>\n",
       "      <td>1.0</td>\n",
       "      <td>449505</td>\n",
       "      <td>387993</td>\n",
       "      <td>0.1368</td>\n",
       "    </tr>\n",
       "    <tr>\n",
       "      <th>2</th>\n",
       "      <td>5</td>\n",
       "      <td>4.0</td>\n",
       "      <td>99.0</td>\n",
       "      <td>8.0</td>\n",
       "      <td>410000</td>\n",
       "      <td>388871</td>\n",
       "      <td>0.0515</td>\n",
       "    </tr>\n",
       "    <tr>\n",
       "      <th>3</th>\n",
       "      <td>3</td>\n",
       "      <td>2.0</td>\n",
       "      <td>61.0</td>\n",
       "      <td>6.0</td>\n",
       "      <td>437000</td>\n",
       "      <td>388191</td>\n",
       "      <td>0.1117</td>\n",
       "    </tr>\n",
       "    <tr>\n",
       "      <th>4</th>\n",
       "      <td>3</td>\n",
       "      <td>2.0</td>\n",
       "      <td>69.0</td>\n",
       "      <td>6.0</td>\n",
       "      <td>420000</td>\n",
       "      <td>388215</td>\n",
       "      <td>0.0757</td>\n",
       "    </tr>\n",
       "    <tr>\n",
       "      <th>5</th>\n",
       "      <td>4</td>\n",
       "      <td>3.0</td>\n",
       "      <td>86.0</td>\n",
       "      <td>3.0</td>\n",
       "      <td>417000</td>\n",
       "      <td>388364</td>\n",
       "      <td>0.0687</td>\n",
       "    </tr>\n",
       "    <tr>\n",
       "      <th>...</th>\n",
       "      <td>...</td>\n",
       "      <td>...</td>\n",
       "      <td>...</td>\n",
       "      <td>...</td>\n",
       "      <td>...</td>\n",
       "      <td>...</td>\n",
       "      <td>...</td>\n",
       "    </tr>\n",
       "    <tr>\n",
       "      <th>1552</th>\n",
       "      <td>3</td>\n",
       "      <td>2.0</td>\n",
       "      <td>72.0</td>\n",
       "      <td>1.0</td>\n",
       "      <td>449505</td>\n",
       "      <td>387993</td>\n",
       "      <td>0.1368</td>\n",
       "    </tr>\n",
       "    <tr>\n",
       "      <th>1553</th>\n",
       "      <td>5</td>\n",
       "      <td>4.0</td>\n",
       "      <td>99.0</td>\n",
       "      <td>8.0</td>\n",
       "      <td>410000</td>\n",
       "      <td>388871</td>\n",
       "      <td>0.0515</td>\n",
       "    </tr>\n",
       "    <tr>\n",
       "      <th>1554</th>\n",
       "      <td>3</td>\n",
       "      <td>2.0</td>\n",
       "      <td>61.0</td>\n",
       "      <td>6.0</td>\n",
       "      <td>437000</td>\n",
       "      <td>388191</td>\n",
       "      <td>0.1117</td>\n",
       "    </tr>\n",
       "    <tr>\n",
       "      <th>1555</th>\n",
       "      <td>3</td>\n",
       "      <td>2.0</td>\n",
       "      <td>69.0</td>\n",
       "      <td>6.0</td>\n",
       "      <td>420000</td>\n",
       "      <td>388215</td>\n",
       "      <td>0.0757</td>\n",
       "    </tr>\n",
       "    <tr>\n",
       "      <th>1556</th>\n",
       "      <td>4</td>\n",
       "      <td>3.0</td>\n",
       "      <td>86.0</td>\n",
       "      <td>3.0</td>\n",
       "      <td>417000</td>\n",
       "      <td>388364</td>\n",
       "      <td>0.0687</td>\n",
       "    </tr>\n",
       "  </tbody>\n",
       "</table>\n",
       "<p>1132 rows × 7 columns</p>\n",
       "</div>"
      ],
      "text/plain": [
       "      nombre_pièces  nombre_chambres  surface  localisation  prix_achat  \\\n",
       "1                 3              2.0     72.0           1.0      449505   \n",
       "2                 5              4.0     99.0           8.0      410000   \n",
       "3                 3              2.0     61.0           6.0      437000   \n",
       "4                 3              2.0     69.0           6.0      420000   \n",
       "5                 4              3.0     86.0           3.0      417000   \n",
       "...             ...              ...      ...           ...         ...   \n",
       "1552              3              2.0     72.0           1.0      449505   \n",
       "1553              5              4.0     99.0           8.0      410000   \n",
       "1554              3              2.0     61.0           6.0      437000   \n",
       "1555              3              2.0     69.0           6.0      420000   \n",
       "1556              4              3.0     86.0           3.0      417000   \n",
       "\n",
       "      NN_predictions1  NN_error1  \n",
       "1              387993     0.1368  \n",
       "2              388871     0.0515  \n",
       "3              388191     0.1117  \n",
       "4              388215     0.0757  \n",
       "5              388364     0.0687  \n",
       "...               ...        ...  \n",
       "1552           387993     0.1368  \n",
       "1553           388871     0.0515  \n",
       "1554           388191     0.1117  \n",
       "1555           388215     0.0757  \n",
       "1556           388364     0.0687  \n",
       "\n",
       "[1132 rows x 7 columns]"
      ]
     },
     "execution_count": 118,
     "metadata": {},
     "output_type": "execute_result"
    }
   ],
   "source": [
    "orig_data[orig_data['NN_error1']< 0.16]"
   ]
  },
  {
   "cell_type": "code",
   "execution_count": 119,
   "metadata": {},
   "outputs": [
    {
     "data": {
      "text/plain": [
       "0.72703917790623"
      ]
     },
     "execution_count": 119,
     "metadata": {},
     "output_type": "execute_result"
    }
   ],
   "source": [
    "orig_data[orig_data['NN_error1']< 0.16].shape[0]/ orig_data.shape[0]"
   ]
  },
  {
   "cell_type": "markdown",
   "metadata": {},
   "source": [
    "It means in 72 % cases of predictions we have an error < to 16%, it's not so bad as we expected, but it's not enough."
   ]
  },
  {
   "cell_type": "code",
   "execution_count": 120,
   "metadata": {},
   "outputs": [
    {
     "name": "stdout",
     "output_type": "stream",
     "text": [
      "train_cost after iteration 0: 0.413889\n",
      "test_cost after iteration 0: 0.433955\n",
      "train_cost after iteration 100: 0.194026\n",
      "test_cost after iteration 100: 0.194261\n",
      "train_cost after iteration 200: 0.193249\n",
      "test_cost after iteration 200: 0.192443\n",
      "train_cost after iteration 300: 0.192184\n",
      "test_cost after iteration 300: 0.191392\n",
      "train_cost after iteration 400: 0.191046\n",
      "test_cost after iteration 400: 0.190568\n",
      "train_cost after iteration 500: 0.189912\n",
      "test_cost after iteration 500: 0.189835\n",
      "train_cost after iteration 600: 0.188819\n",
      "test_cost after iteration 600: 0.189147\n",
      "train_cost after iteration 700: 0.187771\n",
      "test_cost after iteration 700: 0.188534\n",
      "train_cost after iteration 800: 0.186772\n",
      "test_cost after iteration 800: 0.187980\n",
      "train_cost after iteration 900: 0.185831\n",
      "test_cost after iteration 900: 0.187454\n",
      "train_cost after iteration 1000: 0.184935\n",
      "test_cost after iteration 1000: 0.186947\n",
      "train_cost after iteration 1100: 0.184105\n",
      "test_cost after iteration 1100: 0.186454\n",
      "train_cost after iteration 1200: 0.183335\n",
      "test_cost after iteration 1200: 0.185991\n",
      "train_cost after iteration 1300: 0.182630\n",
      "test_cost after iteration 1300: 0.185546\n",
      "train_cost after iteration 1400: 0.181972\n",
      "test_cost after iteration 1400: 0.185111\n",
      "train_cost after iteration 1500: 0.181359\n",
      "test_cost after iteration 1500: 0.184686\n",
      "train_cost after iteration 1600: 0.180781\n",
      "test_cost after iteration 1600: 0.184270\n",
      "train_cost after iteration 1700: 0.180238\n",
      "test_cost after iteration 1700: 0.183864\n",
      "train_cost after iteration 1800: 0.179724\n",
      "test_cost after iteration 1800: 0.183468\n",
      "train_cost after iteration 1900: 0.179235\n",
      "test_cost after iteration 1900: 0.183080\n"
     ]
    },
    {
     "data": {
      "image/png": "[encoded data removed]",
      "text/plain": [
       "<Figure size 1152x648 with 1 Axes>"
      ]
     },
     "metadata": {},
     "output_type": "display_data"
    },
    {
     "name": "stdout",
     "output_type": "stream",
     "text": [
      "MAE                       0.18\n",
      "train_MAE                0.179\n",
      "test_MAE                 0.183\n",
      "MSE                      0.047\n",
      "train_MSE                0.047\n",
      "test_MSE                 0.046\n",
      "RMSE                     0.217\n",
      "train_RMSE               0.465\n",
      "test_RMSE                0.465\n",
      "MEAN                     0.419\n",
      "R2                       0.299\n"
     ]
    }
   ],
   "source": [
    "# Let's make some modification, take the simpliest ANN and change the learning rate \n",
    "LAYERS_DIMS = [4, 1]\n",
    "parameters, stats['NN_model2'] = train_model(X_train, Y_train,\n",
    "                           X_test,Y_test,\n",
    "                           LAYERS_DIMS,\n",
    "                           activation = 'linear', \n",
    "                           loss = 'MAE_loss',\n",
    "                           learning_rate = 0.0015, num_iterations = 2000,print_cost = True)"
   ]
  },
  {
   "cell_type": "markdown",
   "metadata": {},
   "source": [
    "Interesting, MAE and others stats looks a bit better, MAE 0,17 instead of 0,2, RMSE/MEAN now variance reaches 50 % of average observation, especially R2 arround 0.3 is now > 0 . Definitely not an efficient model but we have made progress. "
   ]
  },
  {
   "cell_type": "code",
   "execution_count": 121,
   "metadata": {},
   "outputs": [
    {
     "name": "stdout",
     "output_type": "stream",
     "text": [
      "avg error: 0.14393853564547224\n",
      "max error: 0.3251\n"
     ]
    },
    {
     "data": {
      "text/html": [
       "<div>\n",
       "<style scoped>\n",
       "    .dataframe tbody tr th:only-of-type {\n",
       "        vertical-align: middle;\n",
       "    }\n",
       "\n",
       "    .dataframe tbody tr th {\n",
       "        vertical-align: top;\n",
       "    }\n",
       "\n",
       "    .dataframe thead th {\n",
       "        text-align: right;\n",
       "    }\n",
       "</style>\n",
       "<table border=\"1\" class=\"dataframe\">\n",
       "  <thead>\n",
       "    <tr style=\"text-align: right;\">\n",
       "      <th></th>\n",
       "      <th>nombre_pièces</th>\n",
       "      <th>nombre_chambres</th>\n",
       "      <th>surface</th>\n",
       "      <th>localisation</th>\n",
       "      <th>prix_achat</th>\n",
       "      <th>NN_predictions1</th>\n",
       "      <th>NN_error1</th>\n",
       "      <th>NN_predictions2</th>\n",
       "      <th>NN_error2</th>\n",
       "    </tr>\n",
       "  </thead>\n",
       "  <tbody>\n",
       "    <tr>\n",
       "      <th>755</th>\n",
       "      <td>3</td>\n",
       "      <td>2.0</td>\n",
       "      <td>74.0</td>\n",
       "      <td>6.0</td>\n",
       "      <td>589000</td>\n",
       "      <td>388230</td>\n",
       "      <td>0.3409</td>\n",
       "      <td>397508</td>\n",
       "      <td>0.3251</td>\n",
       "    </tr>\n",
       "  </tbody>\n",
       "</table>\n",
       "</div>"
      ],
      "text/plain": [
       "     nombre_pièces  nombre_chambres  surface  localisation  prix_achat  \\\n",
       "755              3              2.0     74.0           6.0      589000   \n",
       "\n",
       "     NN_predictions1  NN_error1  NN_predictions2  NN_error2  \n",
       "755           388230     0.3409           397508     0.3251  "
      ]
     },
     "execution_count": 121,
     "metadata": {},
     "output_type": "execute_result"
    }
   ],
   "source": [
    "add_results(X, parameters, orig_data, 2)"
   ]
  },
  {
   "cell_type": "code",
   "execution_count": 122,
   "metadata": {},
   "outputs": [
    {
     "data": {
      "text/html": [
       "<div>\n",
       "<style scoped>\n",
       "    .dataframe tbody tr th:only-of-type {\n",
       "        vertical-align: middle;\n",
       "    }\n",
       "\n",
       "    .dataframe tbody tr th {\n",
       "        vertical-align: top;\n",
       "    }\n",
       "\n",
       "    .dataframe thead th {\n",
       "        text-align: right;\n",
       "    }\n",
       "</style>\n",
       "<table border=\"1\" class=\"dataframe\">\n",
       "  <thead>\n",
       "    <tr style=\"text-align: right;\">\n",
       "      <th></th>\n",
       "      <th>nombre_pièces</th>\n",
       "      <th>nombre_chambres</th>\n",
       "      <th>surface</th>\n",
       "      <th>localisation</th>\n",
       "      <th>prix_achat</th>\n",
       "      <th>NN_predictions1</th>\n",
       "      <th>NN_error1</th>\n",
       "      <th>NN_predictions2</th>\n",
       "      <th>NN_error2</th>\n",
       "    </tr>\n",
       "  </thead>\n",
       "  <tbody>\n",
       "    <tr>\n",
       "      <th>0</th>\n",
       "      <td>4</td>\n",
       "      <td>2.0</td>\n",
       "      <td>104.0</td>\n",
       "      <td>3.0</td>\n",
       "      <td>499000</td>\n",
       "      <td>388313</td>\n",
       "      <td>0.2218</td>\n",
       "      <td>455996</td>\n",
       "      <td>0.0862</td>\n",
       "    </tr>\n",
       "    <tr>\n",
       "      <th>1</th>\n",
       "      <td>3</td>\n",
       "      <td>2.0</td>\n",
       "      <td>72.0</td>\n",
       "      <td>1.0</td>\n",
       "      <td>449505</td>\n",
       "      <td>387993</td>\n",
       "      <td>0.1368</td>\n",
       "      <td>427154</td>\n",
       "      <td>0.0497</td>\n",
       "    </tr>\n",
       "    <tr>\n",
       "      <th>2</th>\n",
       "      <td>5</td>\n",
       "      <td>4.0</td>\n",
       "      <td>99.0</td>\n",
       "      <td>8.0</td>\n",
       "      <td>410000</td>\n",
       "      <td>388871</td>\n",
       "      <td>0.0515</td>\n",
       "      <td>447739</td>\n",
       "      <td>-0.0920</td>\n",
       "    </tr>\n",
       "    <tr>\n",
       "      <th>3</th>\n",
       "      <td>3</td>\n",
       "      <td>2.0</td>\n",
       "      <td>61.0</td>\n",
       "      <td>6.0</td>\n",
       "      <td>437000</td>\n",
       "      <td>388191</td>\n",
       "      <td>0.1117</td>\n",
       "      <td>386245</td>\n",
       "      <td>0.1161</td>\n",
       "    </tr>\n",
       "    <tr>\n",
       "      <th>4</th>\n",
       "      <td>3</td>\n",
       "      <td>2.0</td>\n",
       "      <td>69.0</td>\n",
       "      <td>6.0</td>\n",
       "      <td>420000</td>\n",
       "      <td>388215</td>\n",
       "      <td>0.0757</td>\n",
       "      <td>393176</td>\n",
       "      <td>0.0639</td>\n",
       "    </tr>\n",
       "    <tr>\n",
       "      <th>...</th>\n",
       "      <td>...</td>\n",
       "      <td>...</td>\n",
       "      <td>...</td>\n",
       "      <td>...</td>\n",
       "      <td>...</td>\n",
       "      <td>...</td>\n",
       "      <td>...</td>\n",
       "      <td>...</td>\n",
       "      <td>...</td>\n",
       "    </tr>\n",
       "    <tr>\n",
       "      <th>1552</th>\n",
       "      <td>3</td>\n",
       "      <td>2.0</td>\n",
       "      <td>72.0</td>\n",
       "      <td>1.0</td>\n",
       "      <td>449505</td>\n",
       "      <td>387993</td>\n",
       "      <td>0.1368</td>\n",
       "      <td>427154</td>\n",
       "      <td>0.0497</td>\n",
       "    </tr>\n",
       "    <tr>\n",
       "      <th>1553</th>\n",
       "      <td>5</td>\n",
       "      <td>4.0</td>\n",
       "      <td>99.0</td>\n",
       "      <td>8.0</td>\n",
       "      <td>410000</td>\n",
       "      <td>388871</td>\n",
       "      <td>0.0515</td>\n",
       "      <td>447739</td>\n",
       "      <td>-0.0920</td>\n",
       "    </tr>\n",
       "    <tr>\n",
       "      <th>1554</th>\n",
       "      <td>3</td>\n",
       "      <td>2.0</td>\n",
       "      <td>61.0</td>\n",
       "      <td>6.0</td>\n",
       "      <td>437000</td>\n",
       "      <td>388191</td>\n",
       "      <td>0.1117</td>\n",
       "      <td>386245</td>\n",
       "      <td>0.1161</td>\n",
       "    </tr>\n",
       "    <tr>\n",
       "      <th>1555</th>\n",
       "      <td>3</td>\n",
       "      <td>2.0</td>\n",
       "      <td>69.0</td>\n",
       "      <td>6.0</td>\n",
       "      <td>420000</td>\n",
       "      <td>388215</td>\n",
       "      <td>0.0757</td>\n",
       "      <td>393176</td>\n",
       "      <td>0.0639</td>\n",
       "    </tr>\n",
       "    <tr>\n",
       "      <th>1556</th>\n",
       "      <td>4</td>\n",
       "      <td>3.0</td>\n",
       "      <td>86.0</td>\n",
       "      <td>3.0</td>\n",
       "      <td>417000</td>\n",
       "      <td>388364</td>\n",
       "      <td>0.0687</td>\n",
       "      <td>447294</td>\n",
       "      <td>-0.0726</td>\n",
       "    </tr>\n",
       "  </tbody>\n",
       "</table>\n",
       "<p>1272 rows × 9 columns</p>\n",
       "</div>"
      ],
      "text/plain": [
       "      nombre_pièces  nombre_chambres  surface  localisation  prix_achat  \\\n",
       "0                 4              2.0    104.0           3.0      499000   \n",
       "1                 3              2.0     72.0           1.0      449505   \n",
       "2                 5              4.0     99.0           8.0      410000   \n",
       "3                 3              2.0     61.0           6.0      437000   \n",
       "4                 3              2.0     69.0           6.0      420000   \n",
       "...             ...              ...      ...           ...         ...   \n",
       "1552              3              2.0     72.0           1.0      449505   \n",
       "1553              5              4.0     99.0           8.0      410000   \n",
       "1554              3              2.0     61.0           6.0      437000   \n",
       "1555              3              2.0     69.0           6.0      420000   \n",
       "1556              4              3.0     86.0           3.0      417000   \n",
       "\n",
       "      NN_predictions1  NN_error1  NN_predictions2  NN_error2  \n",
       "0              388313     0.2218           455996     0.0862  \n",
       "1              387993     0.1368           427154     0.0497  \n",
       "2              388871     0.0515           447739    -0.0920  \n",
       "3              388191     0.1117           386245     0.1161  \n",
       "4              388215     0.0757           393176     0.0639  \n",
       "...               ...        ...              ...        ...  \n",
       "1552           387993     0.1368           427154     0.0497  \n",
       "1553           388871     0.0515           447739    -0.0920  \n",
       "1554           388191     0.1117           386245     0.1161  \n",
       "1555           388215     0.0757           393176     0.0639  \n",
       "1556           388364     0.0687           447294    -0.0726  \n",
       "\n",
       "[1272 rows x 9 columns]"
      ]
     },
     "execution_count": 122,
     "metadata": {},
     "output_type": "execute_result"
    }
   ],
   "source": [
    "# We see that a different example is the most mispredicted.\n",
    "max_error_idx.append(755)\n",
    "orig_data[orig_data['NN_error2']< 0.14]"
   ]
  },
  {
   "cell_type": "code",
   "execution_count": 123,
   "metadata": {},
   "outputs": [
    {
     "data": {
      "text/plain": [
       "0.8169556840077071"
      ]
     },
     "execution_count": 123,
     "metadata": {},
     "output_type": "execute_result"
    }
   ],
   "source": [
    "orig_data[orig_data['NN_error2']< 0.14].shape[0]/ orig_data.shape[0]"
   ]
  },
  {
   "cell_type": "markdown",
   "metadata": {},
   "source": [
    "Here we predict 81 % of cases with an error which is less than 14%, this is a little improvement.\n",
    "\n",
    "Let's try same models as before but with a different cost function based on huber losses. "
   ]
  },
  {
   "cell_type": "code",
   "execution_count": 124,
   "metadata": {},
   "outputs": [
    {
     "name": "stdout",
     "output_type": "stream",
     "text": [
      "train_cost after iteration 0: 98.418159\n",
      "test_cost after iteration 0: 35.036665\n",
      "train_cost after iteration 100: 44.862556\n",
      "test_cost after iteration 100: 15.877598\n",
      "train_cost after iteration 200: 42.409660\n",
      "test_cost after iteration 200: 14.881123\n",
      "train_cost after iteration 300: 40.717969\n",
      "test_cost after iteration 300: 14.166155\n",
      "train_cost after iteration 400: 39.530204\n",
      "test_cost after iteration 400: 13.641761\n",
      "train_cost after iteration 500: 38.685699\n",
      "test_cost after iteration 500: 13.250489\n",
      "train_cost after iteration 600: 38.079897\n",
      "test_cost after iteration 600: 12.954837\n",
      "train_cost after iteration 700: 37.643632\n",
      "test_cost after iteration 700: 12.729328\n",
      "train_cost after iteration 800: 37.329465\n",
      "test_cost after iteration 800: 12.555616\n",
      "train_cost after iteration 900: 37.104021\n",
      "test_cost after iteration 900: 12.420854\n"
     ]
    },
    {
     "data": {
      "image/png": "[encoded data removed]",
      "text/plain": [
       "<Figure size 1152x648 with 1 Axes>"
      ]
     },
     "metadata": {},
     "output_type": "display_data"
    },
    {
     "name": "stdout",
     "output_type": "stream",
     "text": [
      "MAE                      0.216\n",
      "train_MAE                0.216\n",
      "test_MAE                 0.217\n",
      "MSE                      0.069\n",
      "train_MSE                 0.07\n",
      "test_MSE                 0.069\n",
      "RMSE                     0.263\n",
      "train_RMSE               0.513\n",
      "test_RMSE                0.513\n",
      "MEAN                     0.419\n",
      "R2                      -0.036\n"
     ]
    }
   ],
   "source": [
    "LAYERS_DIMS = [4, 32, 1]\n",
    "parameters, stats['NN_model3'] = train_model(X_train, Y_train,\n",
    "                           X_test,Y_test,\n",
    "                           LAYERS_DIMS,\n",
    "                           activation = 'linear', \n",
    "                           loss = 'huber_loss',\n",
    "                           learning_rate = 0.0003, num_iterations = 1000,print_cost = True )"
   ]
  },
  {
   "cell_type": "markdown",
   "metadata": {},
   "source": [
    "Poor results, as first model"
   ]
  },
  {
   "cell_type": "code",
   "execution_count": 125,
   "metadata": {},
   "outputs": [
    {
     "name": "stdout",
     "output_type": "stream",
     "text": [
      "avg error: 0.1671813102119462\n",
      "max error: 0.3379\n"
     ]
    },
    {
     "data": {
      "text/html": [
       "<div>\n",
       "<style scoped>\n",
       "    .dataframe tbody tr th:only-of-type {\n",
       "        vertical-align: middle;\n",
       "    }\n",
       "\n",
       "    .dataframe tbody tr th {\n",
       "        vertical-align: top;\n",
       "    }\n",
       "\n",
       "    .dataframe thead th {\n",
       "        text-align: right;\n",
       "    }\n",
       "</style>\n",
       "<table border=\"1\" class=\"dataframe\">\n",
       "  <thead>\n",
       "    <tr style=\"text-align: right;\">\n",
       "      <th></th>\n",
       "      <th>nombre_pièces</th>\n",
       "      <th>nombre_chambres</th>\n",
       "      <th>surface</th>\n",
       "      <th>localisation</th>\n",
       "      <th>prix_achat</th>\n",
       "      <th>NN_predictions1</th>\n",
       "      <th>NN_error1</th>\n",
       "      <th>NN_predictions2</th>\n",
       "      <th>NN_error2</th>\n",
       "      <th>NN_predictions3</th>\n",
       "      <th>NN_error3</th>\n",
       "    </tr>\n",
       "  </thead>\n",
       "  <tbody>\n",
       "    <tr>\n",
       "      <th>241</th>\n",
       "      <td>4</td>\n",
       "      <td>2.0</td>\n",
       "      <td>105.0</td>\n",
       "      <td>3.0</td>\n",
       "      <td>594000</td>\n",
       "      <td>388316</td>\n",
       "      <td>0.3463</td>\n",
       "      <td>456862</td>\n",
       "      <td>0.2309</td>\n",
       "      <td>393283</td>\n",
       "      <td>0.3379</td>\n",
       "    </tr>\n",
       "  </tbody>\n",
       "</table>\n",
       "</div>"
      ],
      "text/plain": [
       "     nombre_pièces  nombre_chambres  surface  localisation  prix_achat  \\\n",
       "241              4              2.0    105.0           3.0      594000   \n",
       "\n",
       "     NN_predictions1  NN_error1  NN_predictions2  NN_error2  NN_predictions3  \\\n",
       "241           388316     0.3463           456862     0.2309           393283   \n",
       "\n",
       "     NN_error3  \n",
       "241     0.3379  "
      ]
     },
     "execution_count": 125,
     "metadata": {},
     "output_type": "execute_result"
    }
   ],
   "source": [
    "add_results(X,parameters, orig_data, 3)"
   ]
  },
  {
   "cell_type": "code",
   "execution_count": 126,
   "metadata": {},
   "outputs": [
    {
     "data": {
      "text/plain": [
       "0.7514450867052023"
      ]
     },
     "execution_count": 126,
     "metadata": {},
     "output_type": "execute_result"
    }
   ],
   "source": [
    "max_error_idx.append(241)\n",
    "orig_data[orig_data['NN_error3']< 0.17].shape[0]/ orig_data.shape[0]"
   ]
  },
  {
   "cell_type": "code",
   "execution_count": 127,
   "metadata": {},
   "outputs": [
    {
     "name": "stdout",
     "output_type": "stream",
     "text": [
      "train_cost after iteration 0: 98.456851\n",
      "test_cost after iteration 0: 35.062155\n",
      "train_cost after iteration 100: 39.940633\n",
      "test_cost after iteration 100: 14.016062\n",
      "train_cost after iteration 200: 35.399693\n",
      "test_cost after iteration 200: 12.099829\n",
      "train_cost after iteration 300: 33.417914\n",
      "test_cost after iteration 300: 11.191727\n",
      "train_cost after iteration 400: 32.465738\n",
      "test_cost after iteration 400: 10.717222\n",
      "train_cost after iteration 500: 31.962548\n",
      "test_cost after iteration 500: 10.447414\n",
      "train_cost after iteration 600: 31.658569\n",
      "test_cost after iteration 600: 10.279661\n",
      "train_cost after iteration 700: 31.444043\n",
      "test_cost after iteration 700: 10.165695\n",
      "train_cost after iteration 800: 31.269729\n",
      "test_cost after iteration 800: 10.081421\n",
      "train_cost after iteration 900: 31.113538\n",
      "test_cost after iteration 900: 10.014282\n",
      "train_cost after iteration 1000: 30.965772\n",
      "test_cost after iteration 1000: 9.957609\n",
      "train_cost after iteration 1100: 30.822392\n",
      "test_cost after iteration 1100: 9.907673\n",
      "train_cost after iteration 1200: 30.681884\n",
      "test_cost after iteration 1200: 9.862309\n",
      "train_cost after iteration 1300: 30.543824\n",
      "test_cost after iteration 1300: 9.820234\n",
      "train_cost after iteration 1400: 30.408225\n",
      "test_cost after iteration 1400: 9.780639\n",
      "train_cost after iteration 1500: 30.275211\n",
      "test_cost after iteration 1500: 9.743001\n",
      "train_cost after iteration 1600: 30.144910\n",
      "test_cost after iteration 1600: 9.706972\n",
      "train_cost after iteration 1700: 30.017439\n",
      "test_cost after iteration 1700: 9.672309\n",
      "train_cost after iteration 1800: 29.892873\n",
      "test_cost after iteration 1800: 9.638840\n",
      "train_cost after iteration 1900: 29.771242\n",
      "test_cost after iteration 1900: 9.606447\n",
      "train_cost after iteration 2000: 29.652544\n",
      "test_cost after iteration 2000: 9.575034\n",
      "train_cost after iteration 2100: 29.536750\n",
      "test_cost after iteration 2100: 9.544529\n",
      "train_cost after iteration 2200: 29.423816\n",
      "test_cost after iteration 2200: 9.514872\n",
      "train_cost after iteration 2300: 29.313697\n",
      "test_cost after iteration 2300: 9.486018\n",
      "train_cost after iteration 2400: 29.206340\n",
      "test_cost after iteration 2400: 9.457937\n"
     ]
    },
    {
     "data": {
      "image/png": "[encoded data removed]",
      "text/plain": [
       "<Figure size 1152x648 with 1 Axes>"
      ]
     },
     "metadata": {},
     "output_type": "display_data"
    },
    {
     "name": "stdout",
     "output_type": "stream",
     "text": [
      "MAE                      0.189\n",
      "train_MAE                 0.19\n",
      "test_MAE                 0.189\n",
      "MSE                      0.052\n",
      "train_MSE                0.052\n",
      "test_MSE                  0.05\n",
      "RMSE                     0.228\n",
      "train_RMSE               0.477\n",
      "test_RMSE                0.477\n",
      "MEAN                     0.419\n",
      "R2                       0.227\n"
     ]
    }
   ],
   "source": [
    "LAYERS_DIMS = [4,1]\n",
    "parameters, stats['NN_model4'] = train_model(X_train, Y_train,\n",
    "                           X_test,Y_test,\n",
    "                           LAYERS_DIMS,\n",
    "                           activation = 'linear', \n",
    "                           loss = 'huber_loss',\n",
    "                           learning_rate = 0.0005, num_iterations = 2500,print_cost = True)"
   ]
  },
  {
   "cell_type": "code",
   "execution_count": 128,
   "metadata": {},
   "outputs": [
    {
     "name": "stdout",
     "output_type": "stream",
     "text": [
      "avg error: 0.15152504816955684\n",
      "max error: 0.3311\n"
     ]
    },
    {
     "data": {
      "text/html": [
       "<div>\n",
       "<style scoped>\n",
       "    .dataframe tbody tr th:only-of-type {\n",
       "        vertical-align: middle;\n",
       "    }\n",
       "\n",
       "    .dataframe tbody tr th {\n",
       "        vertical-align: top;\n",
       "    }\n",
       "\n",
       "    .dataframe thead th {\n",
       "        text-align: right;\n",
       "    }\n",
       "</style>\n",
       "<table border=\"1\" class=\"dataframe\">\n",
       "  <thead>\n",
       "    <tr style=\"text-align: right;\">\n",
       "      <th></th>\n",
       "      <th>nombre_pièces</th>\n",
       "      <th>nombre_chambres</th>\n",
       "      <th>surface</th>\n",
       "      <th>localisation</th>\n",
       "      <th>prix_achat</th>\n",
       "      <th>NN_predictions1</th>\n",
       "      <th>NN_error1</th>\n",
       "      <th>NN_predictions2</th>\n",
       "      <th>NN_error2</th>\n",
       "      <th>NN_predictions3</th>\n",
       "      <th>NN_error3</th>\n",
       "      <th>NN_predictions4</th>\n",
       "      <th>NN_error4</th>\n",
       "    </tr>\n",
       "  </thead>\n",
       "  <tbody>\n",
       "    <tr>\n",
       "      <th>1173</th>\n",
       "      <td>2</td>\n",
       "      <td>1.0</td>\n",
       "      <td>55.0</td>\n",
       "      <td>2.0</td>\n",
       "      <td>570000</td>\n",
       "      <td>387752</td>\n",
       "      <td>0.3197</td>\n",
       "      <td>385588</td>\n",
       "      <td>0.3235</td>\n",
       "      <td>392735</td>\n",
       "      <td>0.311</td>\n",
       "      <td>381266</td>\n",
       "      <td>0.3311</td>\n",
       "    </tr>\n",
       "  </tbody>\n",
       "</table>\n",
       "</div>"
      ],
      "text/plain": [
       "      nombre_pièces  nombre_chambres  surface  localisation  prix_achat  \\\n",
       "1173              2              1.0     55.0           2.0      570000   \n",
       "\n",
       "      NN_predictions1  NN_error1  NN_predictions2  NN_error2  NN_predictions3  \\\n",
       "1173           387752     0.3197           385588     0.3235           392735   \n",
       "\n",
       "      NN_error3  NN_predictions4  NN_error4  \n",
       "1173      0.311           381266     0.3311  "
      ]
     },
     "execution_count": 128,
     "metadata": {},
     "output_type": "execute_result"
    }
   ],
   "source": [
    "add_results(X, parameters, orig_data, 4)"
   ]
  },
  {
   "cell_type": "code",
   "execution_count": 129,
   "metadata": {},
   "outputs": [
    {
     "data": {
      "text/plain": [
       "0.8131021194605009"
      ]
     },
     "execution_count": 129,
     "metadata": {},
     "output_type": "execute_result"
    }
   ],
   "source": [
    "max_error_idx.append(1173)\n",
    "orig_data[orig_data['NN_error4']< 0.15].shape[0]/ orig_data.shape[0]"
   ]
  },
  {
   "cell_type": "markdown",
   "metadata": {},
   "source": [
    "We have finally no big difference with MAE loss\n",
    "Take a look to the most mispredicted examples through each models"
   ]
  },
  {
   "cell_type": "code",
   "execution_count": 130,
   "metadata": {},
   "outputs": [
    {
     "data": {
      "text/plain": [
       "[241, 755, 241, 1173]"
      ]
     },
     "execution_count": 130,
     "metadata": {},
     "output_type": "execute_result"
    }
   ],
   "source": [
    "max_error_idx"
   ]
  },
  {
   "cell_type": "code",
   "execution_count": 140,
   "metadata": {},
   "outputs": [
    {
     "data": {
      "text/html": [
       "<div>\n",
       "<style scoped>\n",
       "    .dataframe tbody tr th:only-of-type {\n",
       "        vertical-align: middle;\n",
       "    }\n",
       "\n",
       "    .dataframe tbody tr th {\n",
       "        vertical-align: top;\n",
       "    }\n",
       "\n",
       "    .dataframe thead th {\n",
       "        text-align: right;\n",
       "    }\n",
       "</style>\n",
       "<table border=\"1\" class=\"dataframe\">\n",
       "  <thead>\n",
       "    <tr style=\"text-align: right;\">\n",
       "      <th></th>\n",
       "      <th>nombre_pièces</th>\n",
       "      <th>nombre_chambres</th>\n",
       "      <th>surface</th>\n",
       "      <th>localisation</th>\n",
       "      <th>prix_achat</th>\n",
       "      <th>NN_predictions1</th>\n",
       "      <th>NN_error1</th>\n",
       "      <th>NN_predictions2</th>\n",
       "      <th>NN_error2</th>\n",
       "      <th>NN_predictions3</th>\n",
       "      <th>NN_error3</th>\n",
       "      <th>NN_predictions4</th>\n",
       "      <th>NN_error4</th>\n",
       "    </tr>\n",
       "  </thead>\n",
       "  <tbody>\n",
       "    <tr>\n",
       "      <th>241</th>\n",
       "      <td>4</td>\n",
       "      <td>2.0</td>\n",
       "      <td>105.0</td>\n",
       "      <td>3.0</td>\n",
       "      <td>594000</td>\n",
       "      <td>388316</td>\n",
       "      <td>0.3463</td>\n",
       "      <td>456862</td>\n",
       "      <td>0.2309</td>\n",
       "      <td>393283</td>\n",
       "      <td>0.3379</td>\n",
       "      <td>436347</td>\n",
       "      <td>0.2654</td>\n",
       "    </tr>\n",
       "    <tr>\n",
       "      <th>755</th>\n",
       "      <td>3</td>\n",
       "      <td>2.0</td>\n",
       "      <td>74.0</td>\n",
       "      <td>6.0</td>\n",
       "      <td>589000</td>\n",
       "      <td>388230</td>\n",
       "      <td>0.3409</td>\n",
       "      <td>397508</td>\n",
       "      <td>0.3251</td>\n",
       "      <td>393203</td>\n",
       "      <td>0.3324</td>\n",
       "      <td>401874</td>\n",
       "      <td>0.3177</td>\n",
       "    </tr>\n",
       "    <tr>\n",
       "      <th>241</th>\n",
       "      <td>4</td>\n",
       "      <td>2.0</td>\n",
       "      <td>105.0</td>\n",
       "      <td>3.0</td>\n",
       "      <td>594000</td>\n",
       "      <td>388316</td>\n",
       "      <td>0.3463</td>\n",
       "      <td>456862</td>\n",
       "      <td>0.2309</td>\n",
       "      <td>393283</td>\n",
       "      <td>0.3379</td>\n",
       "      <td>436347</td>\n",
       "      <td>0.2654</td>\n",
       "    </tr>\n",
       "    <tr>\n",
       "      <th>1173</th>\n",
       "      <td>2</td>\n",
       "      <td>1.0</td>\n",
       "      <td>55.0</td>\n",
       "      <td>2.0</td>\n",
       "      <td>570000</td>\n",
       "      <td>387752</td>\n",
       "      <td>0.3197</td>\n",
       "      <td>385588</td>\n",
       "      <td>0.3235</td>\n",
       "      <td>392735</td>\n",
       "      <td>0.3110</td>\n",
       "      <td>381266</td>\n",
       "      <td>0.3311</td>\n",
       "    </tr>\n",
       "  </tbody>\n",
       "</table>\n",
       "</div>"
      ],
      "text/plain": [
       "      nombre_pièces  nombre_chambres  surface  localisation  prix_achat  \\\n",
       "241               4              2.0    105.0           3.0      594000   \n",
       "755               3              2.0     74.0           6.0      589000   \n",
       "241               4              2.0    105.0           3.0      594000   \n",
       "1173              2              1.0     55.0           2.0      570000   \n",
       "\n",
       "      NN_predictions1  NN_error1  NN_predictions2  NN_error2  NN_predictions3  \\\n",
       "241            388316     0.3463           456862     0.2309           393283   \n",
       "755            388230     0.3409           397508     0.3251           393203   \n",
       "241            388316     0.3463           456862     0.2309           393283   \n",
       "1173           387752     0.3197           385588     0.3235           392735   \n",
       "\n",
       "      NN_error3  NN_predictions4  NN_error4  \n",
       "241      0.3379           436347     0.2654  \n",
       "755      0.3324           401874     0.3177  \n",
       "241      0.3379           436347     0.2654  \n",
       "1173     0.3110           381266     0.3311  "
      ]
     },
     "execution_count": 140,
     "metadata": {},
     "output_type": "execute_result"
    }
   ],
   "source": [
    "df_mx_err = orig_data.iloc[max_error_idx]\n",
    "df_mx_err"
   ]
  },
  {
   "cell_type": "code",
   "execution_count": null,
   "metadata": {},
   "outputs": [],
   "source": [
    "# Only 241th example appears twice, we could consider it as an outlier"
   ]
  },
  {
   "cell_type": "code",
   "execution_count": 147,
   "metadata": {},
   "outputs": [
    {
     "data": {
      "text/plain": [
       "<matplotlib.collections.PathCollection at 0x12b6748e0>"
      ]
     },
     "execution_count": 147,
     "metadata": {},
     "output_type": "execute_result"
    },
    {
     "data": {
      "image/png": "[encoded data removed]",
      "text/plain": [
       "<Figure size 720x720 with 1 Axes>"
      ]
     },
     "metadata": {},
     "output_type": "display_data"
    },
    {
     "data": {
      "image/png": "[encoded data removed]",
      "text/plain": [
       "<Figure size 720x720 with 1 Axes>"
      ]
     },
     "metadata": {},
     "output_type": "display_data"
    }
   ],
   "source": [
    "plt.figure(figsize = (10,10))\n",
    "plt.scatter(orig_data['surface'], orig_data[['prix_achat']], s = 10)\n",
    "plt.xlabel('surface')\n",
    "plt.ylabel('price')\n",
    "plt.scatter(df_mx_err['surface'], df_mx_err['prix_achat'], c ='red')\n",
    "\n",
    "plt.figure(figsize = (10,10))\n",
    "plt.scatter(orig_data['nombre_pièces'], orig_data[['prix_achat']], s = 10)\n",
    "plt.xlabel('nombre_pièces')\n",
    "plt.ylabel('price')\n",
    "plt.scatter(df_mx_err['nombre_pièces'], df_mx_err['prix_achat'], c ='red')"
   ]
  },
  {
   "cell_type": "markdown",
   "metadata": {},
   "source": [
    "It seems that there are extreme values which are not well represented for both most correlated features (surface and room numbers), so we can conclude that there are pratically outliers. "
   ]
  },
  {
   "cell_type": "code",
   "execution_count": 151,
   "metadata": {},
   "outputs": [
    {
     "data": {
      "text/plain": [
       "count      1557.000000\n",
       "mean     409168.830443\n",
       "std       82323.632003\n",
       "min      276000.000000\n",
       "25%      342800.000000\n",
       "50%      399000.000000\n",
       "75%      472000.000000\n",
       "max      594000.000000\n",
       "Name: prix_achat, dtype: float64"
      ]
     },
     "execution_count": 151,
     "metadata": {},
     "output_type": "execute_result"
    }
   ],
   "source": [
    "orig_data['prix_achat'].describe()"
   ]
  },
  {
   "cell_type": "markdown",
   "metadata": {},
   "source": [
    "## LINEAR REGRESSION"
   ]
  },
  {
   "cell_type": "raw",
   "metadata": {},
   "source": [
    "We now try out linear regression on our problem and see if we can perform better than with Neural nets"
   ]
  },
  {
   "cell_type": "code",
   "execution_count": 153,
   "metadata": {},
   "outputs": [],
   "source": [
    "import LinearRegression as LR\n",
    "from LinearRegression import linear_regression\n",
    "from functions import polynomial_features"
   ]
  },
  {
   "cell_type": "code",
   "execution_count": 154,
   "metadata": {},
   "outputs": [
    {
     "data": {
      "text/html": [
       "<div>\n",
       "<style scoped>\n",
       "    .dataframe tbody tr th:only-of-type {\n",
       "        vertical-align: middle;\n",
       "    }\n",
       "\n",
       "    .dataframe tbody tr th {\n",
       "        vertical-align: top;\n",
       "    }\n",
       "\n",
       "    .dataframe thead th {\n",
       "        text-align: right;\n",
       "    }\n",
       "</style>\n",
       "<table border=\"1\" class=\"dataframe\">\n",
       "  <thead>\n",
       "    <tr style=\"text-align: right;\">\n",
       "      <th></th>\n",
       "      <th>nombre_pièces</th>\n",
       "      <th>nombre_chambres</th>\n",
       "      <th>surface</th>\n",
       "      <th>localisation</th>\n",
       "      <th>prix_achat</th>\n",
       "    </tr>\n",
       "  </thead>\n",
       "  <tbody>\n",
       "    <tr>\n",
       "      <th>0</th>\n",
       "      <td>0.6</td>\n",
       "      <td>0.2</td>\n",
       "      <td>0.695652</td>\n",
       "      <td>0.250</td>\n",
       "      <td>0.701258</td>\n",
       "    </tr>\n",
       "    <tr>\n",
       "      <th>1</th>\n",
       "      <td>0.4</td>\n",
       "      <td>0.2</td>\n",
       "      <td>0.417391</td>\n",
       "      <td>0.000</td>\n",
       "      <td>0.545613</td>\n",
       "    </tr>\n",
       "    <tr>\n",
       "      <th>2</th>\n",
       "      <td>0.8</td>\n",
       "      <td>0.6</td>\n",
       "      <td>0.652174</td>\n",
       "      <td>0.875</td>\n",
       "      <td>0.421384</td>\n",
       "    </tr>\n",
       "    <tr>\n",
       "      <th>3</th>\n",
       "      <td>0.4</td>\n",
       "      <td>0.2</td>\n",
       "      <td>0.321739</td>\n",
       "      <td>0.625</td>\n",
       "      <td>0.506289</td>\n",
       "    </tr>\n",
       "    <tr>\n",
       "      <th>4</th>\n",
       "      <td>0.4</td>\n",
       "      <td>0.2</td>\n",
       "      <td>0.391304</td>\n",
       "      <td>0.625</td>\n",
       "      <td>0.452830</td>\n",
       "    </tr>\n",
       "    <tr>\n",
       "      <th>...</th>\n",
       "      <td>...</td>\n",
       "      <td>...</td>\n",
       "      <td>...</td>\n",
       "      <td>...</td>\n",
       "      <td>...</td>\n",
       "    </tr>\n",
       "    <tr>\n",
       "      <th>1552</th>\n",
       "      <td>0.4</td>\n",
       "      <td>0.2</td>\n",
       "      <td>0.417391</td>\n",
       "      <td>0.000</td>\n",
       "      <td>0.545613</td>\n",
       "    </tr>\n",
       "    <tr>\n",
       "      <th>1553</th>\n",
       "      <td>0.8</td>\n",
       "      <td>0.6</td>\n",
       "      <td>0.652174</td>\n",
       "      <td>0.875</td>\n",
       "      <td>0.421384</td>\n",
       "    </tr>\n",
       "    <tr>\n",
       "      <th>1554</th>\n",
       "      <td>0.4</td>\n",
       "      <td>0.2</td>\n",
       "      <td>0.321739</td>\n",
       "      <td>0.625</td>\n",
       "      <td>0.506289</td>\n",
       "    </tr>\n",
       "    <tr>\n",
       "      <th>1555</th>\n",
       "      <td>0.4</td>\n",
       "      <td>0.2</td>\n",
       "      <td>0.391304</td>\n",
       "      <td>0.625</td>\n",
       "      <td>0.452830</td>\n",
       "    </tr>\n",
       "    <tr>\n",
       "      <th>1556</th>\n",
       "      <td>0.6</td>\n",
       "      <td>0.4</td>\n",
       "      <td>0.539130</td>\n",
       "      <td>0.250</td>\n",
       "      <td>0.443396</td>\n",
       "    </tr>\n",
       "  </tbody>\n",
       "</table>\n",
       "<p>1557 rows × 5 columns</p>\n",
       "</div>"
      ],
      "text/plain": [
       "      nombre_pièces  nombre_chambres   surface  localisation  prix_achat\n",
       "0               0.6              0.2  0.695652         0.250    0.701258\n",
       "1               0.4              0.2  0.417391         0.000    0.545613\n",
       "2               0.8              0.6  0.652174         0.875    0.421384\n",
       "3               0.4              0.2  0.321739         0.625    0.506289\n",
       "4               0.4              0.2  0.391304         0.625    0.452830\n",
       "...             ...              ...       ...           ...         ...\n",
       "1552            0.4              0.2  0.417391         0.000    0.545613\n",
       "1553            0.8              0.6  0.652174         0.875    0.421384\n",
       "1554            0.4              0.2  0.321739         0.625    0.506289\n",
       "1555            0.4              0.2  0.391304         0.625    0.452830\n",
       "1556            0.6              0.4  0.539130         0.250    0.443396\n",
       "\n",
       "[1557 rows x 5 columns]"
      ]
     },
     "execution_count": 154,
     "metadata": {},
     "output_type": "execute_result"
    }
   ],
   "source": [
    "# We already have our dataset, we just need to transpose X, Y train and test to have the good shape for LR\n",
    "data"
   ]
  },
  {
   "cell_type": "code",
   "execution_count": 155,
   "metadata": {},
   "outputs": [],
   "source": [
    "X_train = np.transpose(X_train)\n",
    "Y_train = np.transpose(Y_train)\n",
    "X_test = np.transpose(X_test)\n",
    "Y_test = np.transpose(Y_test)"
   ]
  },
  {
   "cell_type": "code",
   "execution_count": 156,
   "metadata": {},
   "outputs": [],
   "source": [
    "X = np.transpose(X)\n",
    "Y = np.transpose(Y)"
   ]
  },
  {
   "cell_type": "code",
   "execution_count": 157,
   "metadata": {},
   "outputs": [
    {
     "data": {
      "text/plain": [
       "(1167, 4)"
      ]
     },
     "execution_count": 157,
     "metadata": {},
     "output_type": "execute_result"
    }
   ],
   "source": [
    "X_train.shape"
   ]
  },
  {
   "cell_type": "raw",
   "metadata": {},
   "source": [
    "X = np.array(data.drop(['prix_achat'], axis =1))\n",
    "Y = np.array(data['prix_achat'])\n",
    "Y = Y.reshape(Y.shape[0],1)"
   ]
  },
  {
   "cell_type": "code",
   "execution_count": 158,
   "metadata": {},
   "outputs": [
    {
     "name": "stdout",
     "output_type": "stream",
     "text": [
      "train_cost after iteration 0: 0.116404\n",
      "test_cost after iteration 0: 0.123299\n",
      "train_cost after iteration 100: 0.033725\n",
      "test_cost after iteration 100: 0.033115\n",
      "train_cost after iteration 200: 0.030118\n",
      "test_cost after iteration 200: 0.028454\n",
      "train_cost after iteration 300: 0.029063\n",
      "test_cost after iteration 300: 0.027370\n",
      "train_cost after iteration 400: 0.028213\n",
      "test_cost after iteration 400: 0.026652\n",
      "train_cost after iteration 500: 0.027479\n",
      "test_cost after iteration 500: 0.026063\n",
      "train_cost after iteration 600: 0.026843\n",
      "test_cost after iteration 600: 0.025560\n",
      "train_cost after iteration 700: 0.026290\n",
      "test_cost after iteration 700: 0.025128\n",
      "train_cost after iteration 800: 0.025808\n",
      "test_cost after iteration 800: 0.024755\n",
      "train_cost after iteration 900: 0.025387\n",
      "test_cost after iteration 900: 0.024432\n",
      "train_cost after iteration 1000: 0.025020\n",
      "test_cost after iteration 1000: 0.024152\n",
      "train_cost after iteration 1100: 0.024697\n",
      "test_cost after iteration 1100: 0.023908\n",
      "train_cost after iteration 1200: 0.024413\n",
      "test_cost after iteration 1200: 0.023695\n",
      "train_cost after iteration 1300: 0.024163\n",
      "test_cost after iteration 1300: 0.023508\n",
      "train_cost after iteration 1400: 0.023941\n",
      "test_cost after iteration 1400: 0.023343\n",
      "train_cost after iteration 1500: 0.023744\n",
      "test_cost after iteration 1500: 0.023198\n",
      "train_cost after iteration 1600: 0.023569\n",
      "test_cost after iteration 1600: 0.023068\n",
      "train_cost after iteration 1700: 0.023412\n",
      "test_cost after iteration 1700: 0.022953\n",
      "train_cost after iteration 1800: 0.023271\n",
      "test_cost after iteration 1800: 0.022849\n",
      "train_cost after iteration 1900: 0.023144\n",
      "test_cost after iteration 1900: 0.022756\n",
      "train_cost after iteration 2000: 0.023029\n",
      "test_cost after iteration 2000: 0.022671\n",
      "train_cost after iteration 2100: 0.022924\n",
      "test_cost after iteration 2100: 0.022594\n",
      "train_cost after iteration 2200: 0.022829\n",
      "test_cost after iteration 2200: 0.022523\n",
      "train_cost after iteration 2300: 0.022741\n",
      "test_cost after iteration 2300: 0.022457\n",
      "train_cost after iteration 2400: 0.022660\n",
      "test_cost after iteration 2400: 0.022397\n",
      "train_cost after iteration 2500: 0.022585\n",
      "test_cost after iteration 2500: 0.022340\n",
      "train_cost after iteration 2600: 0.022516\n",
      "test_cost after iteration 2600: 0.022287\n",
      "train_cost after iteration 2700: 0.022451\n",
      "test_cost after iteration 2700: 0.022237\n",
      "train_cost after iteration 2800: 0.022390\n",
      "test_cost after iteration 2800: 0.022190\n",
      "train_cost after iteration 2900: 0.022333\n",
      "test_cost after iteration 2900: 0.022145\n",
      "train_cost after iteration 3000: 0.022280\n",
      "test_cost after iteration 3000: 0.022102\n",
      "train_cost after iteration 3100: 0.022229\n",
      "test_cost after iteration 3100: 0.022061\n",
      "train_cost after iteration 3200: 0.022180\n",
      "test_cost after iteration 3200: 0.022022\n",
      "train_cost after iteration 3300: 0.022134\n",
      "test_cost after iteration 3300: 0.021984\n",
      "train_cost after iteration 3400: 0.022090\n",
      "test_cost after iteration 3400: 0.021947\n",
      "train_cost after iteration 3500: 0.022048\n",
      "test_cost after iteration 3500: 0.021912\n",
      "train_cost after iteration 3600: 0.022007\n",
      "test_cost after iteration 3600: 0.021878\n",
      "train_cost after iteration 3700: 0.021968\n",
      "test_cost after iteration 3700: 0.021845\n",
      "train_cost after iteration 3800: 0.021931\n",
      "test_cost after iteration 3800: 0.021812\n",
      "train_cost after iteration 3900: 0.021895\n",
      "test_cost after iteration 3900: 0.021781\n"
     ]
    },
    {
     "data": {
      "image/png": "[encoded data removed]",
      "text/plain": [
       "<Figure size 1152x648 with 1 Axes>"
      ]
     },
     "metadata": {},
     "output_type": "display_data"
    },
    {
     "name": "stdout",
     "output_type": "stream",
     "text": [
      "MAE                      0.172\n",
      "train_MAE                0.171\n",
      "test_MAE                 0.174\n",
      "MSE                      0.044\n",
      "train_MSE                0.044\n",
      "test_MSE                 0.044\n",
      "RMSE                     0.209\n",
      "train_RMSE               0.457\n",
      "test_RMSE                0.457\n",
      "MEAN                     0.419\n",
      "R2                       0.348\n"
     ]
    }
   ],
   "source": [
    "LEARNING_RATE = 0.01\n",
    "NUM_ITERS = 4000\n",
    "param, stats['LR_model1'] = linear_regression(X_train, Y_train, X_test, Y_test,LEARNING_RATE,NUM_ITERS)"
   ]
  },
  {
   "cell_type": "markdown",
   "metadata": {},
   "source": [
    "Results are clearly better than our first model, here we just use the basic features with a simple linear regression. We have MAE reduces to 0,17  and R2 arround 0.35. "
   ]
  },
  {
   "cell_type": "code",
   "execution_count": 161,
   "metadata": {},
   "outputs": [],
   "source": [
    "# Recreate an add result function adapted to our Linear Regression method\n",
    "def add_LR_results(X, parameters, orig_data, n):\n",
    "    predictions = LR.predict(X, parameters, init = True) \n",
    "    predictions = column_scaler['prix_achat'].inverse_transform(predictions)\n",
    "    orig_data['LR_predictions'+str(n)] = predictions.astype('int')\n",
    "    orig_data['LR_error'+ str(n)] = ((orig_data['prix_achat']- orig_data['LR_predictions'+str(n)])/orig_data['prix_achat']).round(decimals = 3)\n",
    "    \n",
    "    print('avg error: ' + str(np.mean(np.absolute(orig_data['LR_error'+str(n)]))))\n",
    "    print('max error: ' + str(np.max(orig_data['LR_error'+str(n)])))\n",
    "    "
   ]
  },
  {
   "cell_type": "markdown",
   "metadata": {},
   "source": [
    "Let's now use polynomial features on our existent features to see if we perform better"
   ]
  },
  {
   "cell_type": "code",
   "execution_count": 163,
   "metadata": {},
   "outputs": [
    {
     "name": "stdout",
     "output_type": "stream",
     "text": [
      "--- Try out with a 2 degree polynome ---\n"
     ]
    },
    {
     "data": {
      "image/png": "[encoded data removed]",
      "text/plain": [
       "<Figure size 1152x648 with 1 Axes>"
      ]
     },
     "metadata": {},
     "output_type": "display_data"
    },
    {
     "name": "stdout",
     "output_type": "stream",
     "text": [
      "MAE                      0.168\n",
      "train_MAE                0.167\n",
      "test_MAE                  0.17\n",
      "MSE                      0.042\n",
      "train_MSE                0.042\n",
      "test_MSE                 0.042\n",
      "RMSE                     0.205\n",
      "train_RMSE               0.453\n",
      "test_RMSE                0.453\n",
      "MEAN                     0.419\n",
      "R2                       0.373\n",
      "avg error: 0.13496917148362222\n",
      "max error: 0.332\n",
      "\n",
      "\n",
      "--- Try out with a 3 degree polynome ---\n"
     ]
    },
    {
     "data": {
      "image/png": "[encoded data removed]",
      "text/plain": [
       "<Figure size 1152x648 with 1 Axes>"
      ]
     },
     "metadata": {},
     "output_type": "display_data"
    },
    {
     "name": "stdout",
     "output_type": "stream",
     "text": [
      "MAE                      0.167\n",
      "train_MAE                0.166\n",
      "test_MAE                  0.17\n",
      "MSE                      0.042\n",
      "train_MSE                0.041\n",
      "test_MSE                 0.042\n",
      "RMSE                     0.204\n",
      "train_RMSE               0.451\n",
      "test_RMSE                0.451\n",
      "MEAN                     0.419\n",
      "R2                        0.38\n",
      "avg error: 0.1343371868978809\n",
      "max error: 0.334\n",
      "\n",
      "\n",
      "--- Try out with a 4 degree polynome ---\n"
     ]
    },
    {
     "data": {
      "image/png": "[encoded data removed]",
      "text/plain": [
       "<Figure size 1152x648 with 1 Axes>"
      ]
     },
     "metadata": {},
     "output_type": "display_data"
    },
    {
     "name": "stdout",
     "output_type": "stream",
     "text": [
      "MAE                      0.167\n",
      "train_MAE                0.166\n",
      "test_MAE                  0.17\n",
      "MSE                      0.041\n",
      "train_MSE                0.041\n",
      "test_MSE                 0.042\n",
      "RMSE                     0.203\n",
      "train_RMSE               0.451\n",
      "test_RMSE                0.451\n",
      "MEAN                     0.419\n",
      "R2                       0.383\n",
      "avg error: 0.1341265253692996\n",
      "max error: 0.337\n",
      "\n",
      "\n",
      "--- Try out with a 5 degree polynome ---\n"
     ]
    },
    {
     "data": {
      "image/png": "[encoded data removed]",
      "text/plain": [
       "<Figure size 1152x648 with 1 Axes>"
      ]
     },
     "metadata": {},
     "output_type": "display_data"
    },
    {
     "name": "stdout",
     "output_type": "stream",
     "text": [
      "MAE                      0.167\n",
      "train_MAE                0.165\n",
      "test_MAE                  0.17\n",
      "MSE                      0.041\n",
      "train_MSE                0.041\n",
      "test_MSE                 0.042\n",
      "RMSE                     0.203\n",
      "train_RMSE               0.451\n",
      "test_RMSE                0.451\n",
      "MEAN                     0.419\n",
      "R2                       0.384\n",
      "avg error: 0.13400064226075795\n",
      "max error: 0.338\n",
      "\n",
      "\n",
      "--- Try out with a 6 degree polynome ---\n"
     ]
    },
    {
     "data": {
      "image/png": "[encoded data removed]",
      "text/plain": [
       "<Figure size 1152x648 with 1 Axes>"
      ]
     },
     "metadata": {},
     "output_type": "display_data"
    },
    {
     "name": "stdout",
     "output_type": "stream",
     "text": [
      "MAE                      0.166\n",
      "train_MAE                0.165\n",
      "test_MAE                  0.17\n",
      "MSE                      0.041\n",
      "train_MSE                0.041\n",
      "test_MSE                 0.042\n",
      "RMSE                     0.203\n",
      "train_RMSE                0.45\n",
      "test_RMSE                 0.45\n",
      "MEAN                     0.419\n",
      "R2                       0.385\n",
      "avg error: 0.13390301862556211\n",
      "max error: 0.339\n",
      "\n",
      "\n",
      "--- Try out with a 7 degree polynome ---\n"
     ]
    },
    {
     "data": {
      "image/png": "[encoded data removed]",
      "text/plain": [
       "<Figure size 1152x648 with 1 Axes>"
      ]
     },
     "metadata": {},
     "output_type": "display_data"
    },
    {
     "name": "stdout",
     "output_type": "stream",
     "text": [
      "MAE                      0.166\n",
      "train_MAE                0.165\n",
      "test_MAE                  0.17\n",
      "MSE                      0.041\n",
      "train_MSE                0.041\n",
      "test_MSE                 0.042\n",
      "RMSE                     0.203\n",
      "train_RMSE                0.45\n",
      "test_RMSE                 0.45\n",
      "MEAN                     0.419\n",
      "R2                       0.386\n",
      "avg error: 0.13384328837508017\n",
      "max error: 0.339\n",
      "\n",
      "\n",
      "--- Try out with a 8 degree polynome ---\n"
     ]
    },
    {
     "data": {
      "image/png": "[encoded data removed]",
      "text/plain": [
       "<Figure size 1152x648 with 1 Axes>"
      ]
     },
     "metadata": {},
     "output_type": "display_data"
    },
    {
     "name": "stdout",
     "output_type": "stream",
     "text": [
      "MAE                      0.166\n",
      "train_MAE                0.165\n",
      "test_MAE                  0.17\n",
      "MSE                      0.041\n",
      "train_MSE                0.041\n",
      "test_MSE                 0.042\n",
      "RMSE                     0.203\n",
      "train_RMSE                0.45\n",
      "test_RMSE                 0.45\n",
      "MEAN                     0.419\n",
      "R2                       0.387\n",
      "avg error: 0.13372575465639067\n",
      "max error: 0.34\n",
      "\n",
      "\n",
      "--- Try out with a 10 degree polynome ---\n"
     ]
    },
    {
     "data": {
      "image/png": "[encoded data removed]",
      "text/plain": [
       "<Figure size 1152x648 with 1 Axes>"
      ]
     },
     "metadata": {},
     "output_type": "display_data"
    },
    {
     "name": "stdout",
     "output_type": "stream",
     "text": [
      "MAE                      0.166\n",
      "train_MAE                0.165\n",
      "test_MAE                  0.17\n",
      "MSE                      0.041\n",
      "train_MSE                0.041\n",
      "test_MSE                 0.042\n",
      "RMSE                     0.203\n",
      "train_RMSE                0.45\n",
      "test_RMSE                 0.45\n",
      "MEAN                     0.419\n",
      "R2                       0.387\n",
      "avg error: 0.13362170841361615\n",
      "max error: 0.34\n",
      "\n",
      "\n"
     ]
    }
   ],
   "source": [
    "# let's try out differents degrees\n",
    "degrees = [2,3,4,5,6,7,8,10]\n",
    "i =1\n",
    "model_number = 2\n",
    "\n",
    "for degree in degrees:\n",
    "    print('--- Try out with a '+ str(degree) + ' degree polynome ---')\n",
    "    X_train_p = polynomial_features(X_train, degree)\n",
    "    X_test_p = polynomial_features(X_test, degree)\n",
    "    X_p = polynomial_features(X, degree)\n",
    "    parameters, stats['LR_model' + str(model_number)] = linear_regression(X_train_p, Y_train, X_test_p, Y_test,LEARNING_RATE,NUM_ITERS, print_cost=False)\n",
    "    add_LR_results(X_p, parameters['theta'], orig_data, i )\n",
    "    print('\\n')\n",
    "    model_number = model_number + 1\n",
    "    i = i +1\n",
    "    "
   ]
  },
  {
   "cell_type": "code",
   "execution_count": 164,
   "metadata": {},
   "outputs": [
    {
     "data": {
      "text/html": [
       "<div>\n",
       "<style scoped>\n",
       "    .dataframe tbody tr th:only-of-type {\n",
       "        vertical-align: middle;\n",
       "    }\n",
       "\n",
       "    .dataframe tbody tr th {\n",
       "        vertical-align: top;\n",
       "    }\n",
       "\n",
       "    .dataframe thead th {\n",
       "        text-align: right;\n",
       "    }\n",
       "</style>\n",
       "<table border=\"1\" class=\"dataframe\">\n",
       "  <thead>\n",
       "    <tr style=\"text-align: right;\">\n",
       "      <th></th>\n",
       "      <th>nombre_pièces</th>\n",
       "      <th>nombre_chambres</th>\n",
       "      <th>surface</th>\n",
       "      <th>localisation</th>\n",
       "      <th>prix_achat</th>\n",
       "      <th>NN_predictions1</th>\n",
       "      <th>NN_error1</th>\n",
       "      <th>NN_predictions2</th>\n",
       "      <th>NN_error2</th>\n",
       "      <th>NN_predictions3</th>\n",
       "      <th>...</th>\n",
       "      <th>LR_predictions4</th>\n",
       "      <th>LR_error4</th>\n",
       "      <th>LR_predictions5</th>\n",
       "      <th>LR_error5</th>\n",
       "      <th>LR_predictions6</th>\n",
       "      <th>LR_error6</th>\n",
       "      <th>LR_predictions7</th>\n",
       "      <th>LR_error7</th>\n",
       "      <th>LR_predictions8</th>\n",
       "      <th>LR_error8</th>\n",
       "    </tr>\n",
       "  </thead>\n",
       "  <tbody>\n",
       "    <tr>\n",
       "      <th>0</th>\n",
       "      <td>4</td>\n",
       "      <td>2.0</td>\n",
       "      <td>104.0</td>\n",
       "      <td>3.0</td>\n",
       "      <td>499000</td>\n",
       "      <td>388313</td>\n",
       "      <td>0.2218</td>\n",
       "      <td>455996</td>\n",
       "      <td>0.0862</td>\n",
       "      <td>393280</td>\n",
       "      <td>...</td>\n",
       "      <td>495432</td>\n",
       "      <td>0.007</td>\n",
       "      <td>495558</td>\n",
       "      <td>0.007</td>\n",
       "      <td>495740</td>\n",
       "      <td>0.007</td>\n",
       "      <td>495979</td>\n",
       "      <td>0.006</td>\n",
       "      <td>496487</td>\n",
       "      <td>0.005</td>\n",
       "    </tr>\n",
       "    <tr>\n",
       "      <th>1</th>\n",
       "      <td>3</td>\n",
       "      <td>2.0</td>\n",
       "      <td>72.0</td>\n",
       "      <td>1.0</td>\n",
       "      <td>449505</td>\n",
       "      <td>387993</td>\n",
       "      <td>0.1368</td>\n",
       "      <td>427154</td>\n",
       "      <td>0.0497</td>\n",
       "      <td>392968</td>\n",
       "      <td>...</td>\n",
       "      <td>417035</td>\n",
       "      <td>0.072</td>\n",
       "      <td>416947</td>\n",
       "      <td>0.072</td>\n",
       "      <td>417123</td>\n",
       "      <td>0.072</td>\n",
       "      <td>417372</td>\n",
       "      <td>0.071</td>\n",
       "      <td>417780</td>\n",
       "      <td>0.071</td>\n",
       "    </tr>\n",
       "    <tr>\n",
       "      <th>2</th>\n",
       "      <td>5</td>\n",
       "      <td>4.0</td>\n",
       "      <td>99.0</td>\n",
       "      <td>8.0</td>\n",
       "      <td>410000</td>\n",
       "      <td>388871</td>\n",
       "      <td>0.0515</td>\n",
       "      <td>447739</td>\n",
       "      <td>-0.0920</td>\n",
       "      <td>393824</td>\n",
       "      <td>...</td>\n",
       "      <td>444878</td>\n",
       "      <td>-0.085</td>\n",
       "      <td>443644</td>\n",
       "      <td>-0.082</td>\n",
       "      <td>442904</td>\n",
       "      <td>-0.080</td>\n",
       "      <td>442438</td>\n",
       "      <td>-0.079</td>\n",
       "      <td>441896</td>\n",
       "      <td>-0.078</td>\n",
       "    </tr>\n",
       "    <tr>\n",
       "      <th>3</th>\n",
       "      <td>3</td>\n",
       "      <td>2.0</td>\n",
       "      <td>61.0</td>\n",
       "      <td>6.0</td>\n",
       "      <td>437000</td>\n",
       "      <td>388191</td>\n",
       "      <td>0.1117</td>\n",
       "      <td>386245</td>\n",
       "      <td>0.1161</td>\n",
       "      <td>393164</td>\n",
       "      <td>...</td>\n",
       "      <td>381448</td>\n",
       "      <td>0.127</td>\n",
       "      <td>381997</td>\n",
       "      <td>0.126</td>\n",
       "      <td>382074</td>\n",
       "      <td>0.126</td>\n",
       "      <td>381932</td>\n",
       "      <td>0.126</td>\n",
       "      <td>381564</td>\n",
       "      <td>0.127</td>\n",
       "    </tr>\n",
       "    <tr>\n",
       "      <th>4</th>\n",
       "      <td>3</td>\n",
       "      <td>2.0</td>\n",
       "      <td>69.0</td>\n",
       "      <td>6.0</td>\n",
       "      <td>420000</td>\n",
       "      <td>388215</td>\n",
       "      <td>0.0757</td>\n",
       "      <td>393176</td>\n",
       "      <td>0.0639</td>\n",
       "      <td>393188</td>\n",
       "      <td>...</td>\n",
       "      <td>394540</td>\n",
       "      <td>0.061</td>\n",
       "      <td>395005</td>\n",
       "      <td>0.060</td>\n",
       "      <td>395041</td>\n",
       "      <td>0.059</td>\n",
       "      <td>394883</td>\n",
       "      <td>0.060</td>\n",
       "      <td>394506</td>\n",
       "      <td>0.061</td>\n",
       "    </tr>\n",
       "    <tr>\n",
       "      <th>...</th>\n",
       "      <td>...</td>\n",
       "      <td>...</td>\n",
       "      <td>...</td>\n",
       "      <td>...</td>\n",
       "      <td>...</td>\n",
       "      <td>...</td>\n",
       "      <td>...</td>\n",
       "      <td>...</td>\n",
       "      <td>...</td>\n",
       "      <td>...</td>\n",
       "      <td>...</td>\n",
       "      <td>...</td>\n",
       "      <td>...</td>\n",
       "      <td>...</td>\n",
       "      <td>...</td>\n",
       "      <td>...</td>\n",
       "      <td>...</td>\n",
       "      <td>...</td>\n",
       "      <td>...</td>\n",
       "      <td>...</td>\n",
       "      <td>...</td>\n",
       "    </tr>\n",
       "    <tr>\n",
       "      <th>1552</th>\n",
       "      <td>3</td>\n",
       "      <td>2.0</td>\n",
       "      <td>72.0</td>\n",
       "      <td>1.0</td>\n",
       "      <td>449505</td>\n",
       "      <td>387993</td>\n",
       "      <td>0.1368</td>\n",
       "      <td>427154</td>\n",
       "      <td>0.0497</td>\n",
       "      <td>392968</td>\n",
       "      <td>...</td>\n",
       "      <td>417035</td>\n",
       "      <td>0.072</td>\n",
       "      <td>416947</td>\n",
       "      <td>0.072</td>\n",
       "      <td>417123</td>\n",
       "      <td>0.072</td>\n",
       "      <td>417372</td>\n",
       "      <td>0.071</td>\n",
       "      <td>417780</td>\n",
       "      <td>0.071</td>\n",
       "    </tr>\n",
       "    <tr>\n",
       "      <th>1553</th>\n",
       "      <td>5</td>\n",
       "      <td>4.0</td>\n",
       "      <td>99.0</td>\n",
       "      <td>8.0</td>\n",
       "      <td>410000</td>\n",
       "      <td>388871</td>\n",
       "      <td>0.0515</td>\n",
       "      <td>447739</td>\n",
       "      <td>-0.0920</td>\n",
       "      <td>393824</td>\n",
       "      <td>...</td>\n",
       "      <td>444878</td>\n",
       "      <td>-0.085</td>\n",
       "      <td>443644</td>\n",
       "      <td>-0.082</td>\n",
       "      <td>442904</td>\n",
       "      <td>-0.080</td>\n",
       "      <td>442438</td>\n",
       "      <td>-0.079</td>\n",
       "      <td>441896</td>\n",
       "      <td>-0.078</td>\n",
       "    </tr>\n",
       "    <tr>\n",
       "      <th>1554</th>\n",
       "      <td>3</td>\n",
       "      <td>2.0</td>\n",
       "      <td>61.0</td>\n",
       "      <td>6.0</td>\n",
       "      <td>437000</td>\n",
       "      <td>388191</td>\n",
       "      <td>0.1117</td>\n",
       "      <td>386245</td>\n",
       "      <td>0.1161</td>\n",
       "      <td>393164</td>\n",
       "      <td>...</td>\n",
       "      <td>381448</td>\n",
       "      <td>0.127</td>\n",
       "      <td>381997</td>\n",
       "      <td>0.126</td>\n",
       "      <td>382074</td>\n",
       "      <td>0.126</td>\n",
       "      <td>381932</td>\n",
       "      <td>0.126</td>\n",
       "      <td>381564</td>\n",
       "      <td>0.127</td>\n",
       "    </tr>\n",
       "    <tr>\n",
       "      <th>1555</th>\n",
       "      <td>3</td>\n",
       "      <td>2.0</td>\n",
       "      <td>69.0</td>\n",
       "      <td>6.0</td>\n",
       "      <td>420000</td>\n",
       "      <td>388215</td>\n",
       "      <td>0.0757</td>\n",
       "      <td>393176</td>\n",
       "      <td>0.0639</td>\n",
       "      <td>393188</td>\n",
       "      <td>...</td>\n",
       "      <td>394540</td>\n",
       "      <td>0.061</td>\n",
       "      <td>395005</td>\n",
       "      <td>0.060</td>\n",
       "      <td>395041</td>\n",
       "      <td>0.059</td>\n",
       "      <td>394883</td>\n",
       "      <td>0.060</td>\n",
       "      <td>394506</td>\n",
       "      <td>0.061</td>\n",
       "    </tr>\n",
       "    <tr>\n",
       "      <th>1556</th>\n",
       "      <td>4</td>\n",
       "      <td>3.0</td>\n",
       "      <td>86.0</td>\n",
       "      <td>3.0</td>\n",
       "      <td>417000</td>\n",
       "      <td>388364</td>\n",
       "      <td>0.0687</td>\n",
       "      <td>447294</td>\n",
       "      <td>-0.0726</td>\n",
       "      <td>393329</td>\n",
       "      <td>...</td>\n",
       "      <td>450821</td>\n",
       "      <td>-0.081</td>\n",
       "      <td>450674</td>\n",
       "      <td>-0.081</td>\n",
       "      <td>450840</td>\n",
       "      <td>-0.081</td>\n",
       "      <td>451139</td>\n",
       "      <td>-0.082</td>\n",
       "      <td>451769</td>\n",
       "      <td>-0.083</td>\n",
       "    </tr>\n",
       "  </tbody>\n",
       "</table>\n",
       "<p>1557 rows × 29 columns</p>\n",
       "</div>"
      ],
      "text/plain": [
       "      nombre_pièces  nombre_chambres  surface  localisation  prix_achat  \\\n",
       "0                 4              2.0    104.0           3.0      499000   \n",
       "1                 3              2.0     72.0           1.0      449505   \n",
       "2                 5              4.0     99.0           8.0      410000   \n",
       "3                 3              2.0     61.0           6.0      437000   \n",
       "4                 3              2.0     69.0           6.0      420000   \n",
       "...             ...              ...      ...           ...         ...   \n",
       "1552              3              2.0     72.0           1.0      449505   \n",
       "1553              5              4.0     99.0           8.0      410000   \n",
       "1554              3              2.0     61.0           6.0      437000   \n",
       "1555              3              2.0     69.0           6.0      420000   \n",
       "1556              4              3.0     86.0           3.0      417000   \n",
       "\n",
       "      NN_predictions1  NN_error1  NN_predictions2  NN_error2  NN_predictions3  \\\n",
       "0              388313     0.2218           455996     0.0862           393280   \n",
       "1              387993     0.1368           427154     0.0497           392968   \n",
       "2              388871     0.0515           447739    -0.0920           393824   \n",
       "3              388191     0.1117           386245     0.1161           393164   \n",
       "4              388215     0.0757           393176     0.0639           393188   \n",
       "...               ...        ...              ...        ...              ...   \n",
       "1552           387993     0.1368           427154     0.0497           392968   \n",
       "1553           388871     0.0515           447739    -0.0920           393824   \n",
       "1554           388191     0.1117           386245     0.1161           393164   \n",
       "1555           388215     0.0757           393176     0.0639           393188   \n",
       "1556           388364     0.0687           447294    -0.0726           393329   \n",
       "\n",
       "      ...  LR_predictions4  LR_error4  LR_predictions5  LR_error5  \\\n",
       "0     ...           495432      0.007           495558      0.007   \n",
       "1     ...           417035      0.072           416947      0.072   \n",
       "2     ...           444878     -0.085           443644     -0.082   \n",
       "3     ...           381448      0.127           381997      0.126   \n",
       "4     ...           394540      0.061           395005      0.060   \n",
       "...   ...              ...        ...              ...        ...   \n",
       "1552  ...           417035      0.072           416947      0.072   \n",
       "1553  ...           444878     -0.085           443644     -0.082   \n",
       "1554  ...           381448      0.127           381997      0.126   \n",
       "1555  ...           394540      0.061           395005      0.060   \n",
       "1556  ...           450821     -0.081           450674     -0.081   \n",
       "\n",
       "      LR_predictions6  LR_error6  LR_predictions7  LR_error7  LR_predictions8  \\\n",
       "0              495740      0.007           495979      0.006           496487   \n",
       "1              417123      0.072           417372      0.071           417780   \n",
       "2              442904     -0.080           442438     -0.079           441896   \n",
       "3              382074      0.126           381932      0.126           381564   \n",
       "4              395041      0.059           394883      0.060           394506   \n",
       "...               ...        ...              ...        ...              ...   \n",
       "1552           417123      0.072           417372      0.071           417780   \n",
       "1553           442904     -0.080           442438     -0.079           441896   \n",
       "1554           382074      0.126           381932      0.126           381564   \n",
       "1555           395041      0.059           394883      0.060           394506   \n",
       "1556           450840     -0.081           451139     -0.082           451769   \n",
       "\n",
       "      LR_error8  \n",
       "0         0.005  \n",
       "1         0.071  \n",
       "2        -0.078  \n",
       "3         0.127  \n",
       "4         0.061  \n",
       "...         ...  \n",
       "1552      0.071  \n",
       "1553     -0.078  \n",
       "1554      0.127  \n",
       "1555      0.061  \n",
       "1556     -0.083  \n",
       "\n",
       "[1557 rows x 29 columns]"
      ]
     },
     "execution_count": 164,
     "metadata": {},
     "output_type": "execute_result"
    }
   ],
   "source": [
    "orig_data"
   ]
  },
  {
   "cell_type": "code",
   "execution_count": 165,
   "metadata": {},
   "outputs": [
    {
     "data": {
      "text/plain": [
       "0.7533718689788054"
      ]
     },
     "execution_count": 165,
     "metadata": {},
     "output_type": "execute_result"
    }
   ],
   "source": [
    "orig_data[orig_data['LR_error5']< 0.1].shape[0]/orig_data.shape[0]"
   ]
  },
  {
   "cell_type": "code",
   "execution_count": 166,
   "metadata": {},
   "outputs": [],
   "source": [
    "df_stats = pd.DataFrame(stats)"
   ]
  },
  {
   "cell_type": "code",
   "execution_count": 167,
   "metadata": {},
   "outputs": [
    {
     "data": {
      "text/html": [
       "<div>\n",
       "<style scoped>\n",
       "    .dataframe tbody tr th:only-of-type {\n",
       "        vertical-align: middle;\n",
       "    }\n",
       "\n",
       "    .dataframe tbody tr th {\n",
       "        vertical-align: top;\n",
       "    }\n",
       "\n",
       "    .dataframe thead th {\n",
       "        text-align: right;\n",
       "    }\n",
       "</style>\n",
       "<table border=\"1\" class=\"dataframe\">\n",
       "  <thead>\n",
       "    <tr style=\"text-align: right;\">\n",
       "      <th></th>\n",
       "      <th>NN_model1</th>\n",
       "      <th>NN_model2</th>\n",
       "      <th>NN_model3</th>\n",
       "      <th>NN_model4</th>\n",
       "      <th>LR_model1</th>\n",
       "      <th>LR_model2</th>\n",
       "      <th>LR_model3</th>\n",
       "      <th>LR_model4</th>\n",
       "      <th>LR_model5</th>\n",
       "      <th>LR_model6</th>\n",
       "      <th>LR_model7</th>\n",
       "      <th>LR_model8</th>\n",
       "      <th>LR_model9</th>\n",
       "    </tr>\n",
       "  </thead>\n",
       "  <tbody>\n",
       "    <tr>\n",
       "      <th>MAE</th>\n",
       "      <td>0.217</td>\n",
       "      <td>0.180</td>\n",
       "      <td>0.216</td>\n",
       "      <td>0.189</td>\n",
       "      <td>0.172</td>\n",
       "      <td>0.168</td>\n",
       "      <td>0.167</td>\n",
       "      <td>0.167</td>\n",
       "      <td>0.167</td>\n",
       "      <td>0.166</td>\n",
       "      <td>0.166</td>\n",
       "      <td>0.166</td>\n",
       "      <td>0.166</td>\n",
       "    </tr>\n",
       "    <tr>\n",
       "      <th>train_MAE</th>\n",
       "      <td>0.216</td>\n",
       "      <td>0.179</td>\n",
       "      <td>0.216</td>\n",
       "      <td>0.190</td>\n",
       "      <td>0.171</td>\n",
       "      <td>0.167</td>\n",
       "      <td>0.166</td>\n",
       "      <td>0.166</td>\n",
       "      <td>0.165</td>\n",
       "      <td>0.165</td>\n",
       "      <td>0.165</td>\n",
       "      <td>0.165</td>\n",
       "      <td>0.165</td>\n",
       "    </tr>\n",
       "    <tr>\n",
       "      <th>test_MAE</th>\n",
       "      <td>0.220</td>\n",
       "      <td>0.183</td>\n",
       "      <td>0.217</td>\n",
       "      <td>0.189</td>\n",
       "      <td>0.174</td>\n",
       "      <td>0.170</td>\n",
       "      <td>0.170</td>\n",
       "      <td>0.170</td>\n",
       "      <td>0.170</td>\n",
       "      <td>0.170</td>\n",
       "      <td>0.170</td>\n",
       "      <td>0.170</td>\n",
       "      <td>0.170</td>\n",
       "    </tr>\n",
       "    <tr>\n",
       "      <th>MSE</th>\n",
       "      <td>0.071</td>\n",
       "      <td>0.047</td>\n",
       "      <td>0.069</td>\n",
       "      <td>0.052</td>\n",
       "      <td>0.044</td>\n",
       "      <td>0.042</td>\n",
       "      <td>0.042</td>\n",
       "      <td>0.041</td>\n",
       "      <td>0.041</td>\n",
       "      <td>0.041</td>\n",
       "      <td>0.041</td>\n",
       "      <td>0.041</td>\n",
       "      <td>0.041</td>\n",
       "    </tr>\n",
       "    <tr>\n",
       "      <th>train_MSE</th>\n",
       "      <td>0.071</td>\n",
       "      <td>0.047</td>\n",
       "      <td>0.070</td>\n",
       "      <td>0.052</td>\n",
       "      <td>0.044</td>\n",
       "      <td>0.042</td>\n",
       "      <td>0.041</td>\n",
       "      <td>0.041</td>\n",
       "      <td>0.041</td>\n",
       "      <td>0.041</td>\n",
       "      <td>0.041</td>\n",
       "      <td>0.041</td>\n",
       "      <td>0.041</td>\n",
       "    </tr>\n",
       "    <tr>\n",
       "      <th>test_MSE</th>\n",
       "      <td>0.071</td>\n",
       "      <td>0.046</td>\n",
       "      <td>0.069</td>\n",
       "      <td>0.050</td>\n",
       "      <td>0.044</td>\n",
       "      <td>0.042</td>\n",
       "      <td>0.042</td>\n",
       "      <td>0.042</td>\n",
       "      <td>0.042</td>\n",
       "      <td>0.042</td>\n",
       "      <td>0.042</td>\n",
       "      <td>0.042</td>\n",
       "      <td>0.042</td>\n",
       "    </tr>\n",
       "    <tr>\n",
       "      <th>RMSE</th>\n",
       "      <td>0.267</td>\n",
       "      <td>0.217</td>\n",
       "      <td>0.263</td>\n",
       "      <td>0.228</td>\n",
       "      <td>0.209</td>\n",
       "      <td>0.205</td>\n",
       "      <td>0.204</td>\n",
       "      <td>0.203</td>\n",
       "      <td>0.203</td>\n",
       "      <td>0.203</td>\n",
       "      <td>0.203</td>\n",
       "      <td>0.203</td>\n",
       "      <td>0.203</td>\n",
       "    </tr>\n",
       "    <tr>\n",
       "      <th>train_RMSE</th>\n",
       "      <td>0.517</td>\n",
       "      <td>0.465</td>\n",
       "      <td>0.513</td>\n",
       "      <td>0.477</td>\n",
       "      <td>0.457</td>\n",
       "      <td>0.453</td>\n",
       "      <td>0.451</td>\n",
       "      <td>0.451</td>\n",
       "      <td>0.451</td>\n",
       "      <td>0.450</td>\n",
       "      <td>0.450</td>\n",
       "      <td>0.450</td>\n",
       "      <td>0.450</td>\n",
       "    </tr>\n",
       "    <tr>\n",
       "      <th>test_RMSE</th>\n",
       "      <td>0.517</td>\n",
       "      <td>0.465</td>\n",
       "      <td>0.513</td>\n",
       "      <td>0.477</td>\n",
       "      <td>0.457</td>\n",
       "      <td>0.453</td>\n",
       "      <td>0.451</td>\n",
       "      <td>0.451</td>\n",
       "      <td>0.451</td>\n",
       "      <td>0.450</td>\n",
       "      <td>0.450</td>\n",
       "      <td>0.450</td>\n",
       "      <td>0.450</td>\n",
       "    </tr>\n",
       "    <tr>\n",
       "      <th>MEAN</th>\n",
       "      <td>0.419</td>\n",
       "      <td>0.419</td>\n",
       "      <td>0.419</td>\n",
       "      <td>0.419</td>\n",
       "      <td>0.419</td>\n",
       "      <td>0.419</td>\n",
       "      <td>0.419</td>\n",
       "      <td>0.419</td>\n",
       "      <td>0.419</td>\n",
       "      <td>0.419</td>\n",
       "      <td>0.419</td>\n",
       "      <td>0.419</td>\n",
       "      <td>0.419</td>\n",
       "    </tr>\n",
       "    <tr>\n",
       "      <th>R2</th>\n",
       "      <td>-0.063</td>\n",
       "      <td>0.299</td>\n",
       "      <td>-0.036</td>\n",
       "      <td>0.227</td>\n",
       "      <td>0.348</td>\n",
       "      <td>0.373</td>\n",
       "      <td>0.380</td>\n",
       "      <td>0.383</td>\n",
       "      <td>0.384</td>\n",
       "      <td>0.385</td>\n",
       "      <td>0.386</td>\n",
       "      <td>0.387</td>\n",
       "      <td>0.387</td>\n",
       "    </tr>\n",
       "  </tbody>\n",
       "</table>\n",
       "</div>"
      ],
      "text/plain": [
       "            NN_model1  NN_model2  NN_model3  NN_model4  LR_model1  LR_model2  \\\n",
       "MAE             0.217      0.180      0.216      0.189      0.172      0.168   \n",
       "train_MAE       0.216      0.179      0.216      0.190      0.171      0.167   \n",
       "test_MAE        0.220      0.183      0.217      0.189      0.174      0.170   \n",
       "MSE             0.071      0.047      0.069      0.052      0.044      0.042   \n",
       "train_MSE       0.071      0.047      0.070      0.052      0.044      0.042   \n",
       "test_MSE        0.071      0.046      0.069      0.050      0.044      0.042   \n",
       "RMSE            0.267      0.217      0.263      0.228      0.209      0.205   \n",
       "train_RMSE      0.517      0.465      0.513      0.477      0.457      0.453   \n",
       "test_RMSE       0.517      0.465      0.513      0.477      0.457      0.453   \n",
       "MEAN            0.419      0.419      0.419      0.419      0.419      0.419   \n",
       "R2             -0.063      0.299     -0.036      0.227      0.348      0.373   \n",
       "\n",
       "            LR_model3  LR_model4  LR_model5  LR_model6  LR_model7  LR_model8  \\\n",
       "MAE             0.167      0.167      0.167      0.166      0.166      0.166   \n",
       "train_MAE       0.166      0.166      0.165      0.165      0.165      0.165   \n",
       "test_MAE        0.170      0.170      0.170      0.170      0.170      0.170   \n",
       "MSE             0.042      0.041      0.041      0.041      0.041      0.041   \n",
       "train_MSE       0.041      0.041      0.041      0.041      0.041      0.041   \n",
       "test_MSE        0.042      0.042      0.042      0.042      0.042      0.042   \n",
       "RMSE            0.204      0.203      0.203      0.203      0.203      0.203   \n",
       "train_RMSE      0.451      0.451      0.451      0.450      0.450      0.450   \n",
       "test_RMSE       0.451      0.451      0.451      0.450      0.450      0.450   \n",
       "MEAN            0.419      0.419      0.419      0.419      0.419      0.419   \n",
       "R2              0.380      0.383      0.384      0.385      0.386      0.387   \n",
       "\n",
       "            LR_model9  \n",
       "MAE             0.166  \n",
       "train_MAE       0.165  \n",
       "test_MAE        0.170  \n",
       "MSE             0.041  \n",
       "train_MSE       0.041  \n",
       "test_MSE        0.042  \n",
       "RMSE            0.203  \n",
       "train_RMSE      0.450  \n",
       "test_RMSE       0.450  \n",
       "MEAN            0.419  \n",
       "R2              0.387  "
      ]
     },
     "execution_count": 167,
     "metadata": {},
     "output_type": "execute_result"
    }
   ],
   "source": [
    "df_stats"
   ]
  },
  {
   "cell_type": "markdown",
   "metadata": {},
   "source": [
    "Synthesis\n",
    "We saw how we could use a neural net with no activation function to predict outputs. As there are no activation function, the final function is also a linear function of our features and we wanted to see if a neural net could be better on that type of problem than linear regression.\n",
    "Stats results in that case clearly indicate we should use linear regression with polynomial features rather than neural nets. Overfitting is really easy in this case with only 5 features.\n",
    "Note that our Neural net works without any regularization and without learning rate reevaluation or automatic optimizer, such an analysis with more powerfull tools like tensorflow or scikitlearn could give other results. Anyway our dataset is difficult with a lot of districts and a very limited choice of features. \n"
   ]
  },
  {
   "cell_type": "code",
   "execution_count": 168,
   "metadata": {},
   "outputs": [],
   "source": [
    "orig_data['localisation'] = loc_encoder.inverse_transform(np.expand_dims(orig_data['localisation'], axis = 1))"
   ]
  },
  {
   "cell_type": "code",
   "execution_count": 169,
   "metadata": {},
   "outputs": [],
   "source": [
    "orig_data.to_csv('predictions.csv')"
   ]
  },
  {
   "cell_type": "code",
   "execution_count": 170,
   "metadata": {},
   "outputs": [],
   "source": [
    "df_stats.to_csv('statistics.csv')"
   ]
  },
  {
   "cell_type": "code",
   "execution_count": null,
   "metadata": {},
   "outputs": [],
   "source": []
  },
  {
   "cell_type": "code",
   "execution_count": null,
   "metadata": {},
   "outputs": [],
   "source": []
  }
 ],
 "metadata": {
  "kernelspec": {
   "display_name": "Python 3",
   "language": "python",
   "name": "python3"
  },
  "language_info": {
   "codemirror_mode": {
    "name": "ipython",
    "version": 3
   },
   "file_extension": ".py",
   "mimetype": "text/x-python",
   "name": "python",
   "nbconvert_exporter": "python",
   "pygments_lexer": "ipython3",
   "version": "3.8.5"
  }
 },
 "nbformat": 4,
 "nbformat_minor": 4
}
