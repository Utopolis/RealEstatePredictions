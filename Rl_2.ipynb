{
 "cells": [
  {
   "cell_type": "markdown",
   "metadata": {
    "Collapsed": "false"
   },
   "source": [
    "<img src=\"images/image.jpg\">"
   ]
  },
  {
   "cell_type": "markdown",
   "metadata": {
    "Collapsed": "false"
   },
   "source": [
    "# We will try to guess the price of apartment based on some French data"
   ]
  },
  {
   "cell_type": "markdown",
   "metadata": {
    "Collapsed": "false"
   },
   "source": [
    "### First, let's import the good libraries "
   ]
  },
  {
   "cell_type": "code",
   "execution_count": 92,
   "metadata": {
    "Collapsed": "false"
   },
   "outputs": [],
   "source": [
    "import pandas as pd\n",
    "import requests\n",
    "import seaborn as sn\n",
    "import numpy as np\n",
    "from numpy import mean\n",
    "from numpy import std\n",
    "import sklearn\n",
    "import seaborn as sns\n",
    "from sklearn.preprocessing import StandardScaler\n",
    "from sklearn.preprocessing import MinMaxScaler\n",
    "from sklearn.preprocessing import RobustScaler\n",
    "from sklearn.decomposition import PCA\n",
    "from sklearn.feature_selection import chi2\n",
    "import xgboost as xgb\n",
    "import matplotlib.pyplot as plt\n",
    "from xgboost import plot_importance\n",
    "from pandas_profiling import ProfileReport\n",
    "from sklearn.feature_selection import SelectKBest\n",
    "from sklearn import linear_model\n",
    "from sklearn.linear_model import LogisticRegression\n",
    "import pymc3 as pm\n",
    "from sklearn.feature_selection import RFE\n",
    "import PipelineProfiler\n",
    "from sklearn.model_selection import StratifiedKFold\n",
    "from pymc3 import traceplot\n",
    "from statsmodels.stats.outliers_influence import variance_inflation_factor\n",
    "import autosklearn.regression\n",
    "import pickle\n",
    "from autosklearn.metrics import mean_absolute_error as auto_mean_absolute_error\n",
    "from autosklearn.metrics import mean_squared_error as auto_mean_squared_error\n",
    "from sklearn.pipeline import Pipeline\n",
    "from sklearn.model_selection import RepeatedStratifiedKFold\n",
    "from sklearn.feature_selection import RFECV\n",
    "from tpot import TPOTRegressor\n",
    "from sklearn.linear_model import LogisticRegression\n",
    "from sklearn.linear_model import Perceptron\n",
    "from sklearn.tree import DecisionTreeClassifier\n",
    "from sklearn.ensemble import RandomForestClassifier\n",
    "from sklearn.ensemble import GradientBoostingClassifier\n",
    "from sklearn.model_selection import cross_val_score\n",
    "from sklearn.feature_selection import RFE\n",
    "from sklearn.tree import DecisionTreeClassifier\n",
    "from sklearn.pipeline import Pipeline\n",
    "from sklearn.ensemble import GradientBoostingClassifier\n",
    "from sklearn.model_selection import train_test_split\n",
    "from sklearn.metrics import mean_squared_error, r2_score, mean_absolute_error\n",
    "import tensorflow as tf\n",
    "from tensorflow import keras\n",
    "from tensorflow.keras import layers\n"
   ]
  },
  {
   "cell_type": "code",
   "execution_count": null,
   "metadata": {
    "Collapsed": "false"
   },
   "outputs": [],
   "source": []
  },
  {
   "cell_type": "markdown",
   "metadata": {
    "Collapsed": "false"
   },
   "source": [
    "## Let's read the data"
   ]
  },
  {
   "cell_type": "code",
   "execution_count": 183,
   "metadata": {
    "Collapsed": "false"
   },
   "outputs": [
    {
     "data": {
      "text/html": [
       "<div>\n",
       "<style scoped>\n",
       "    .dataframe tbody tr th:only-of-type {\n",
       "        vertical-align: middle;\n",
       "    }\n",
       "\n",
       "    .dataframe tbody tr th {\n",
       "        vertical-align: top;\n",
       "    }\n",
       "\n",
       "    .dataframe thead th {\n",
       "        text-align: right;\n",
       "    }\n",
       "</style>\n",
       "<table border=\"1\" class=\"dataframe\">\n",
       "  <thead>\n",
       "    <tr style=\"text-align: right;\">\n",
       "      <th></th>\n",
       "      <th>Unnamed: 0</th>\n",
       "      <th>type_appartement</th>\n",
       "      <th>nombre_pièces</th>\n",
       "      <th>nombre_chambres</th>\n",
       "      <th>surface</th>\n",
       "      <th>étage</th>\n",
       "      <th>terasse</th>\n",
       "      <th>ascenceur</th>\n",
       "      <th>prix_achat</th>\n",
       "      <th>credit</th>\n",
       "      <th>localisation</th>\n",
       "      <th>description</th>\n",
       "    </tr>\n",
       "  </thead>\n",
       "  <tbody>\n",
       "    <tr>\n",
       "      <th>0</th>\n",
       "      <td>0</td>\n",
       "      <td>Appartement</td>\n",
       "      <td>4</td>\n",
       "      <td>2.0</td>\n",
       "      <td>104.0</td>\n",
       "      <td>NaN</td>\n",
       "      <td>non défini</td>\n",
       "      <td>non défini</td>\n",
       "      <td>499000</td>\n",
       "      <td>2065</td>\n",
       "      <td>Lyon 3ème</td>\n",
       "      <td>La Guillotière Nord</td>\n",
       "    </tr>\n",
       "    <tr>\n",
       "      <th>1</th>\n",
       "      <td>1</td>\n",
       "      <td>Appartement</td>\n",
       "      <td>3</td>\n",
       "      <td>2.0</td>\n",
       "      <td>72.0</td>\n",
       "      <td>NaN</td>\n",
       "      <td>non défini</td>\n",
       "      <td>non défini</td>\n",
       "      <td>449505</td>\n",
       "      <td>1861</td>\n",
       "      <td>Lyon 1er</td>\n",
       "      <td>Terreaux</td>\n",
       "    </tr>\n",
       "    <tr>\n",
       "      <th>2</th>\n",
       "      <td>2</td>\n",
       "      <td>Appartement</td>\n",
       "      <td>5</td>\n",
       "      <td>4.0</td>\n",
       "      <td>99.0</td>\n",
       "      <td>NaN</td>\n",
       "      <td>non défini</td>\n",
       "      <td>non défini</td>\n",
       "      <td>410000</td>\n",
       "      <td>1699</td>\n",
       "      <td>Lyon 8ème</td>\n",
       "      <td>Transvaal</td>\n",
       "    </tr>\n",
       "    <tr>\n",
       "      <th>3</th>\n",
       "      <td>3</td>\n",
       "      <td>Appartement</td>\n",
       "      <td>3</td>\n",
       "      <td>2.0</td>\n",
       "      <td>61.0</td>\n",
       "      <td>NaN</td>\n",
       "      <td>non défini</td>\n",
       "      <td>non défini</td>\n",
       "      <td>437000</td>\n",
       "      <td>1810</td>\n",
       "      <td>Lyon 6ème</td>\n",
       "      <td>Les Brotteaux-Bellecombe-Masséna</td>\n",
       "    </tr>\n",
       "    <tr>\n",
       "      <th>4</th>\n",
       "      <td>4</td>\n",
       "      <td>Appartement</td>\n",
       "      <td>4</td>\n",
       "      <td>3.0</td>\n",
       "      <td>129.0</td>\n",
       "      <td>NaN</td>\n",
       "      <td>non défini</td>\n",
       "      <td>non défini</td>\n",
       "      <td>725000</td>\n",
       "      <td>2997</td>\n",
       "      <td>Lyon 7ème</td>\n",
       "      <td>CHARME DE L'ANCIEN pour cet appartement de 129...</td>\n",
       "    </tr>\n",
       "  </tbody>\n",
       "</table>\n",
       "</div>"
      ],
      "text/plain": [
       "   Unnamed: 0 type_appartement  nombre_pièces  nombre_chambres  surface  \\\n",
       "0           0      Appartement              4              2.0    104.0   \n",
       "1           1      Appartement              3              2.0     72.0   \n",
       "2           2      Appartement              5              4.0     99.0   \n",
       "3           3      Appartement              3              2.0     61.0   \n",
       "4           4      Appartement              4              3.0    129.0   \n",
       "\n",
       "   étage     terasse   ascenceur  prix_achat credit localisation  \\\n",
       "0    NaN  non défini  non défini      499000   2065    Lyon 3ème   \n",
       "1    NaN  non défini  non défini      449505   1861     Lyon 1er   \n",
       "2    NaN  non défini  non défini      410000   1699    Lyon 8ème   \n",
       "3    NaN  non défini  non défini      437000   1810    Lyon 6ème   \n",
       "4    NaN  non défini  non défini      725000   2997    Lyon 7ème   \n",
       "\n",
       "                                         description  \n",
       "0                                La Guillotière Nord  \n",
       "1                                           Terreaux  \n",
       "2                                          Transvaal  \n",
       "3                   Les Brotteaux-Bellecombe-Masséna  \n",
       "4  CHARME DE L'ANCIEN pour cet appartement de 129...  "
      ]
     },
     "execution_count": 183,
     "metadata": {},
     "output_type": "execute_result"
    }
   ],
   "source": [
    "data_brut = pd.read_csv('./data.csv')\n",
    "data_brut.head()"
   ]
  },
  {
   "cell_type": "code",
   "execution_count": 184,
   "metadata": {
    "Collapsed": "false"
   },
   "outputs": [
    {
     "data": {
      "text/html": [
       "<div>\n",
       "<style scoped>\n",
       "    .dataframe tbody tr th:only-of-type {\n",
       "        vertical-align: middle;\n",
       "    }\n",
       "\n",
       "    .dataframe tbody tr th {\n",
       "        vertical-align: top;\n",
       "    }\n",
       "\n",
       "    .dataframe thead th {\n",
       "        text-align: right;\n",
       "    }\n",
       "</style>\n",
       "<table border=\"1\" class=\"dataframe\">\n",
       "  <thead>\n",
       "    <tr style=\"text-align: right;\">\n",
       "      <th></th>\n",
       "      <th>Unnamed: 0</th>\n",
       "      <th>nombre_pièces</th>\n",
       "      <th>nombre_chambres</th>\n",
       "      <th>surface</th>\n",
       "      <th>étage</th>\n",
       "      <th>prix_achat</th>\n",
       "    </tr>\n",
       "  </thead>\n",
       "  <tbody>\n",
       "    <tr>\n",
       "      <th>count</th>\n",
       "      <td>3255.00000</td>\n",
       "      <td>3255.000000</td>\n",
       "      <td>2879.000000</td>\n",
       "      <td>3238.000000</td>\n",
       "      <td>104.000000</td>\n",
       "      <td>3.255000e+03</td>\n",
       "    </tr>\n",
       "    <tr>\n",
       "      <th>mean</th>\n",
       "      <td>1627.00000</td>\n",
       "      <td>3.231951</td>\n",
       "      <td>2.346995</td>\n",
       "      <td>80.328752</td>\n",
       "      <td>4.259615</td>\n",
       "      <td>4.823640e+05</td>\n",
       "    </tr>\n",
       "    <tr>\n",
       "      <th>std</th>\n",
       "      <td>939.78189</td>\n",
       "      <td>1.368479</td>\n",
       "      <td>1.044917</td>\n",
       "      <td>42.748161</td>\n",
       "      <td>1.762584</td>\n",
       "      <td>3.285089e+05</td>\n",
       "    </tr>\n",
       "    <tr>\n",
       "      <th>min</th>\n",
       "      <td>0.00000</td>\n",
       "      <td>1.000000</td>\n",
       "      <td>1.000000</td>\n",
       "      <td>7.000000</td>\n",
       "      <td>1.000000</td>\n",
       "      <td>4.500000e+04</td>\n",
       "    </tr>\n",
       "    <tr>\n",
       "      <th>25%</th>\n",
       "      <td>813.50000</td>\n",
       "      <td>2.000000</td>\n",
       "      <td>2.000000</td>\n",
       "      <td>53.000000</td>\n",
       "      <td>3.000000</td>\n",
       "      <td>2.750000e+05</td>\n",
       "    </tr>\n",
       "    <tr>\n",
       "      <th>50%</th>\n",
       "      <td>1627.00000</td>\n",
       "      <td>3.000000</td>\n",
       "      <td>2.000000</td>\n",
       "      <td>75.000000</td>\n",
       "      <td>4.500000</td>\n",
       "      <td>3.990000e+05</td>\n",
       "    </tr>\n",
       "    <tr>\n",
       "      <th>75%</th>\n",
       "      <td>2440.50000</td>\n",
       "      <td>4.000000</td>\n",
       "      <td>3.000000</td>\n",
       "      <td>99.000000</td>\n",
       "      <td>5.000000</td>\n",
       "      <td>5.950000e+05</td>\n",
       "    </tr>\n",
       "    <tr>\n",
       "      <th>max</th>\n",
       "      <td>3254.00000</td>\n",
       "      <td>10.000000</td>\n",
       "      <td>14.000000</td>\n",
       "      <td>364.000000</td>\n",
       "      <td>10.000000</td>\n",
       "      <td>3.300000e+06</td>\n",
       "    </tr>\n",
       "  </tbody>\n",
       "</table>\n",
       "</div>"
      ],
      "text/plain": [
       "       Unnamed: 0  nombre_pièces  nombre_chambres      surface       étage  \\\n",
       "count  3255.00000    3255.000000      2879.000000  3238.000000  104.000000   \n",
       "mean   1627.00000       3.231951         2.346995    80.328752    4.259615   \n",
       "std     939.78189       1.368479         1.044917    42.748161    1.762584   \n",
       "min       0.00000       1.000000         1.000000     7.000000    1.000000   \n",
       "25%     813.50000       2.000000         2.000000    53.000000    3.000000   \n",
       "50%    1627.00000       3.000000         2.000000    75.000000    4.500000   \n",
       "75%    2440.50000       4.000000         3.000000    99.000000    5.000000   \n",
       "max    3254.00000      10.000000        14.000000   364.000000   10.000000   \n",
       "\n",
       "         prix_achat  \n",
       "count  3.255000e+03  \n",
       "mean   4.823640e+05  \n",
       "std    3.285089e+05  \n",
       "min    4.500000e+04  \n",
       "25%    2.750000e+05  \n",
       "50%    3.990000e+05  \n",
       "75%    5.950000e+05  \n",
       "max    3.300000e+06  "
      ]
     },
     "execution_count": 184,
     "metadata": {},
     "output_type": "execute_result"
    }
   ],
   "source": [
    "data_brut.describe()"
   ]
  },
  {
   "cell_type": "markdown",
   "metadata": {
    "Collapsed": "false"
   },
   "source": [
    "We can see that etage have a lot of Nan value"
   ]
  },
  {
   "cell_type": "code",
   "execution_count": 185,
   "metadata": {
    "Collapsed": "false"
   },
   "outputs": [
    {
     "data": {
      "text/plain": [
       "Unnamed: 0             0\n",
       "type_appartement       0\n",
       "nombre_pièces          0\n",
       "nombre_chambres      376\n",
       "surface               17\n",
       "étage               3151\n",
       "terasse                0\n",
       "ascenceur              0\n",
       "prix_achat             0\n",
       "credit                 0\n",
       "localisation           0\n",
       "description            0\n",
       "dtype: int64"
      ]
     },
     "execution_count": 185,
     "metadata": {},
     "output_type": "execute_result"
    }
   ],
   "source": [
    "data_brut.isna().sum()"
   ]
  },
  {
   "cell_type": "code",
   "execution_count": 186,
   "metadata": {
    "Collapsed": "false"
   },
   "outputs": [
    {
     "data": {
      "text/plain": [
       "array(['Lyon 3ème', 'Lyon 1er', 'Lyon 8ème', 'Lyon 6ème', 'Lyon 7ème',\n",
       "       'Lyon 9ème', 'Lyon 4ème', 'Lyon 2ème', 'Lyon 5ème',\n",
       "       'Rillieux-la-Pape', 'Tassin-la-Demi-Lune', 'Écully',\n",
       "       'Contenu sponsorisé', 'Villeurbanne'], dtype=object)"
      ]
     },
     "execution_count": 186,
     "metadata": {},
     "output_type": "execute_result"
    }
   ],
   "source": [
    "data_brut['localisation'].unique()"
   ]
  },
  {
   "cell_type": "code",
   "execution_count": 187,
   "metadata": {
    "Collapsed": "false"
   },
   "outputs": [
    {
     "data": {
      "text/plain": [
       "array(['Lyon 3ème', 'Lyon 1er', 'Lyon 8ème', 'Lyon 6ème', 'Lyon 7ème',\n",
       "       'Lyon 9ème', 'Lyon 4ème', 'Lyon 2ème', 'Lyon 5ème',\n",
       "       'Rillieux-la-Pape', 'Tassin-la-Demi-Lune', 'Écully',\n",
       "       'Villeurbanne'], dtype=object)"
      ]
     },
     "execution_count": 187,
     "metadata": {},
     "output_type": "execute_result"
    }
   ],
   "source": [
    "data_brut = data_brut[data_brut['localisation'] != 'Contenu sponsorisé']\n",
    "data_brut['localisation'].unique()"
   ]
  },
  {
   "cell_type": "code",
   "execution_count": 188,
   "metadata": {
    "Collapsed": "false"
   },
   "outputs": [
    {
     "data": {
      "text/plain": [
       "array(['Appartement'], dtype=object)"
      ]
     },
     "execution_count": 188,
     "metadata": {},
     "output_type": "execute_result"
    }
   ],
   "source": [
    "data_brut['type_appartement'].unique()"
   ]
  },
  {
   "cell_type": "code",
   "execution_count": 189,
   "metadata": {
    "Collapsed": "false"
   },
   "outputs": [
    {
     "data": {
      "text/html": [
       "<div>\n",
       "<style scoped>\n",
       "    .dataframe tbody tr th:only-of-type {\n",
       "        vertical-align: middle;\n",
       "    }\n",
       "\n",
       "    .dataframe tbody tr th {\n",
       "        vertical-align: top;\n",
       "    }\n",
       "\n",
       "    .dataframe thead th {\n",
       "        text-align: right;\n",
       "    }\n",
       "</style>\n",
       "<table border=\"1\" class=\"dataframe\">\n",
       "  <thead>\n",
       "    <tr style=\"text-align: right;\">\n",
       "      <th></th>\n",
       "      <th>Unnamed: 0</th>\n",
       "      <th>type_appartement</th>\n",
       "      <th>nombre_pièces</th>\n",
       "      <th>nombre_chambres</th>\n",
       "      <th>surface</th>\n",
       "      <th>étage</th>\n",
       "      <th>terasse</th>\n",
       "      <th>ascenceur</th>\n",
       "      <th>prix_achat</th>\n",
       "      <th>credit</th>\n",
       "      <th>localisation</th>\n",
       "      <th>description</th>\n",
       "    </tr>\n",
       "  </thead>\n",
       "  <tbody>\n",
       "    <tr>\n",
       "      <th>0</th>\n",
       "      <td>0</td>\n",
       "      <td>NaN</td>\n",
       "      <td>4</td>\n",
       "      <td>2.0</td>\n",
       "      <td>104.0</td>\n",
       "      <td>NaN</td>\n",
       "      <td>non défini</td>\n",
       "      <td>non défini</td>\n",
       "      <td>499000</td>\n",
       "      <td>2065</td>\n",
       "      <td>Lyon 3ème</td>\n",
       "      <td>La Guillotière Nord</td>\n",
       "    </tr>\n",
       "    <tr>\n",
       "      <th>1</th>\n",
       "      <td>1</td>\n",
       "      <td>NaN</td>\n",
       "      <td>3</td>\n",
       "      <td>2.0</td>\n",
       "      <td>72.0</td>\n",
       "      <td>NaN</td>\n",
       "      <td>non défini</td>\n",
       "      <td>non défini</td>\n",
       "      <td>449505</td>\n",
       "      <td>1861</td>\n",
       "      <td>Lyon 1er</td>\n",
       "      <td>Terreaux</td>\n",
       "    </tr>\n",
       "    <tr>\n",
       "      <th>2</th>\n",
       "      <td>2</td>\n",
       "      <td>NaN</td>\n",
       "      <td>5</td>\n",
       "      <td>4.0</td>\n",
       "      <td>99.0</td>\n",
       "      <td>NaN</td>\n",
       "      <td>non défini</td>\n",
       "      <td>non défini</td>\n",
       "      <td>410000</td>\n",
       "      <td>1699</td>\n",
       "      <td>Lyon 8ème</td>\n",
       "      <td>Transvaal</td>\n",
       "    </tr>\n",
       "    <tr>\n",
       "      <th>3</th>\n",
       "      <td>3</td>\n",
       "      <td>NaN</td>\n",
       "      <td>3</td>\n",
       "      <td>2.0</td>\n",
       "      <td>61.0</td>\n",
       "      <td>NaN</td>\n",
       "      <td>non défini</td>\n",
       "      <td>non défini</td>\n",
       "      <td>437000</td>\n",
       "      <td>1810</td>\n",
       "      <td>Lyon 6ème</td>\n",
       "      <td>Les Brotteaux-Bellecombe-Masséna</td>\n",
       "    </tr>\n",
       "    <tr>\n",
       "      <th>4</th>\n",
       "      <td>4</td>\n",
       "      <td>NaN</td>\n",
       "      <td>4</td>\n",
       "      <td>3.0</td>\n",
       "      <td>129.0</td>\n",
       "      <td>NaN</td>\n",
       "      <td>non défini</td>\n",
       "      <td>non défini</td>\n",
       "      <td>725000</td>\n",
       "      <td>2997</td>\n",
       "      <td>Lyon 7ème</td>\n",
       "      <td>CHARME DE L'ANCIEN pour cet appartement de 129...</td>\n",
       "    </tr>\n",
       "    <tr>\n",
       "      <th>...</th>\n",
       "      <td>...</td>\n",
       "      <td>...</td>\n",
       "      <td>...</td>\n",
       "      <td>...</td>\n",
       "      <td>...</td>\n",
       "      <td>...</td>\n",
       "      <td>...</td>\n",
       "      <td>...</td>\n",
       "      <td>...</td>\n",
       "      <td>...</td>\n",
       "      <td>...</td>\n",
       "      <td>...</td>\n",
       "    </tr>\n",
       "    <tr>\n",
       "      <th>3250</th>\n",
       "      <td>3250</td>\n",
       "      <td>NaN</td>\n",
       "      <td>6</td>\n",
       "      <td>5.0</td>\n",
       "      <td>218.0</td>\n",
       "      <td>NaN</td>\n",
       "      <td>non défini</td>\n",
       "      <td>non défini</td>\n",
       "      <td>1750000</td>\n",
       "      <td>7220</td>\n",
       "      <td>Lyon 2ème</td>\n",
       "      <td>Perrache-Le Confluent</td>\n",
       "    </tr>\n",
       "    <tr>\n",
       "      <th>3251</th>\n",
       "      <td>3251</td>\n",
       "      <td>NaN</td>\n",
       "      <td>4</td>\n",
       "      <td>3.0</td>\n",
       "      <td>87.0</td>\n",
       "      <td>NaN</td>\n",
       "      <td>non défini</td>\n",
       "      <td>non défini</td>\n",
       "      <td>420000</td>\n",
       "      <td>1740</td>\n",
       "      <td>Écully</td>\n",
       "      <td>Le-Perollier</td>\n",
       "    </tr>\n",
       "    <tr>\n",
       "      <th>3252</th>\n",
       "      <td>3252</td>\n",
       "      <td>NaN</td>\n",
       "      <td>3</td>\n",
       "      <td>2.0</td>\n",
       "      <td>69.0</td>\n",
       "      <td>NaN</td>\n",
       "      <td>non défini</td>\n",
       "      <td>non défini</td>\n",
       "      <td>420000</td>\n",
       "      <td>1740</td>\n",
       "      <td>Lyon 6ème</td>\n",
       "      <td>Les Brotteaux-Bellecombe-Masséna</td>\n",
       "    </tr>\n",
       "    <tr>\n",
       "      <th>3253</th>\n",
       "      <td>3253</td>\n",
       "      <td>NaN</td>\n",
       "      <td>4</td>\n",
       "      <td>3.0</td>\n",
       "      <td>86.0</td>\n",
       "      <td>NaN</td>\n",
       "      <td>non défini</td>\n",
       "      <td>non défini</td>\n",
       "      <td>417000</td>\n",
       "      <td>1727</td>\n",
       "      <td>Lyon 3ème</td>\n",
       "      <td>Villette</td>\n",
       "    </tr>\n",
       "    <tr>\n",
       "      <th>3254</th>\n",
       "      <td>3254</td>\n",
       "      <td>NaN</td>\n",
       "      <td>4</td>\n",
       "      <td>3.0</td>\n",
       "      <td>81.0</td>\n",
       "      <td>NaN</td>\n",
       "      <td>non défini</td>\n",
       "      <td>non défini</td>\n",
       "      <td>560000</td>\n",
       "      <td>2317</td>\n",
       "      <td>Villeurbanne</td>\n",
       "      <td>Léon Blum - Bon Coin</td>\n",
       "    </tr>\n",
       "  </tbody>\n",
       "</table>\n",
       "<p>3245 rows × 12 columns</p>\n",
       "</div>"
      ],
      "text/plain": [
       "      Unnamed: 0 type_appartement  nombre_pièces  nombre_chambres  surface  \\\n",
       "0              0              NaN              4              2.0    104.0   \n",
       "1              1              NaN              3              2.0     72.0   \n",
       "2              2              NaN              5              4.0     99.0   \n",
       "3              3              NaN              3              2.0     61.0   \n",
       "4              4              NaN              4              3.0    129.0   \n",
       "...          ...              ...            ...              ...      ...   \n",
       "3250        3250              NaN              6              5.0    218.0   \n",
       "3251        3251              NaN              4              3.0     87.0   \n",
       "3252        3252              NaN              3              2.0     69.0   \n",
       "3253        3253              NaN              4              3.0     86.0   \n",
       "3254        3254              NaN              4              3.0     81.0   \n",
       "\n",
       "      étage     terasse   ascenceur  prix_achat credit  localisation  \\\n",
       "0       NaN  non défini  non défini      499000   2065     Lyon 3ème   \n",
       "1       NaN  non défini  non défini      449505   1861      Lyon 1er   \n",
       "2       NaN  non défini  non défini      410000   1699     Lyon 8ème   \n",
       "3       NaN  non défini  non défini      437000   1810     Lyon 6ème   \n",
       "4       NaN  non défini  non défini      725000   2997     Lyon 7ème   \n",
       "...     ...         ...         ...         ...    ...           ...   \n",
       "3250    NaN  non défini  non défini     1750000   7220     Lyon 2ème   \n",
       "3251    NaN  non défini  non défini      420000   1740        Écully   \n",
       "3252    NaN  non défini  non défini      420000   1740     Lyon 6ème   \n",
       "3253    NaN  non défini  non défini      417000   1727     Lyon 3ème   \n",
       "3254    NaN  non défini  non défini      560000   2317  Villeurbanne   \n",
       "\n",
       "                                            description  \n",
       "0                                   La Guillotière Nord  \n",
       "1                                              Terreaux  \n",
       "2                                             Transvaal  \n",
       "3                      Les Brotteaux-Bellecombe-Masséna  \n",
       "4     CHARME DE L'ANCIEN pour cet appartement de 129...  \n",
       "...                                                 ...  \n",
       "3250                              Perrache-Le Confluent  \n",
       "3251                                       Le-Perollier  \n",
       "3252                   Les Brotteaux-Bellecombe-Masséna  \n",
       "3253                                           Villette  \n",
       "3254                               Léon Blum - Bon Coin  \n",
       "\n",
       "[3245 rows x 12 columns]"
      ]
     },
     "execution_count": 189,
     "metadata": {},
     "output_type": "execute_result"
    }
   ],
   "source": [
    "data_brut.loc[data_brut['type_appartement'] == 'Appartement', 'type_appartement'] = np.nan\n",
    "data_brut"
   ]
  },
  {
   "cell_type": "code",
   "execution_count": 190,
   "metadata": {
    "Collapsed": "false"
   },
   "outputs": [
    {
     "data": {
      "text/plain": [
       "array(['non défini', '1'], dtype=object)"
      ]
     },
     "execution_count": 190,
     "metadata": {},
     "output_type": "execute_result"
    }
   ],
   "source": [
    "data_brut['terasse'].unique()"
   ]
  },
  {
   "cell_type": "code",
   "execution_count": 191,
   "metadata": {
    "Collapsed": "false"
   },
   "outputs": [
    {
     "data": {
      "text/html": [
       "<div>\n",
       "<style scoped>\n",
       "    .dataframe tbody tr th:only-of-type {\n",
       "        vertical-align: middle;\n",
       "    }\n",
       "\n",
       "    .dataframe tbody tr th {\n",
       "        vertical-align: top;\n",
       "    }\n",
       "\n",
       "    .dataframe thead th {\n",
       "        text-align: right;\n",
       "    }\n",
       "</style>\n",
       "<table border=\"1\" class=\"dataframe\">\n",
       "  <thead>\n",
       "    <tr style=\"text-align: right;\">\n",
       "      <th></th>\n",
       "      <th>Unnamed: 0</th>\n",
       "      <th>type_appartement</th>\n",
       "      <th>nombre_pièces</th>\n",
       "      <th>nombre_chambres</th>\n",
       "      <th>surface</th>\n",
       "      <th>étage</th>\n",
       "      <th>terasse</th>\n",
       "      <th>ascenceur</th>\n",
       "      <th>prix_achat</th>\n",
       "      <th>credit</th>\n",
       "      <th>localisation</th>\n",
       "      <th>description</th>\n",
       "    </tr>\n",
       "  </thead>\n",
       "  <tbody>\n",
       "    <tr>\n",
       "      <th>0</th>\n",
       "      <td>0</td>\n",
       "      <td>NaN</td>\n",
       "      <td>4</td>\n",
       "      <td>2.0</td>\n",
       "      <td>104.0</td>\n",
       "      <td>NaN</td>\n",
       "      <td>NaN</td>\n",
       "      <td>non défini</td>\n",
       "      <td>499000</td>\n",
       "      <td>2065</td>\n",
       "      <td>Lyon 3ème</td>\n",
       "      <td>La Guillotière Nord</td>\n",
       "    </tr>\n",
       "    <tr>\n",
       "      <th>1</th>\n",
       "      <td>1</td>\n",
       "      <td>NaN</td>\n",
       "      <td>3</td>\n",
       "      <td>2.0</td>\n",
       "      <td>72.0</td>\n",
       "      <td>NaN</td>\n",
       "      <td>NaN</td>\n",
       "      <td>non défini</td>\n",
       "      <td>449505</td>\n",
       "      <td>1861</td>\n",
       "      <td>Lyon 1er</td>\n",
       "      <td>Terreaux</td>\n",
       "    </tr>\n",
       "    <tr>\n",
       "      <th>2</th>\n",
       "      <td>2</td>\n",
       "      <td>NaN</td>\n",
       "      <td>5</td>\n",
       "      <td>4.0</td>\n",
       "      <td>99.0</td>\n",
       "      <td>NaN</td>\n",
       "      <td>NaN</td>\n",
       "      <td>non défini</td>\n",
       "      <td>410000</td>\n",
       "      <td>1699</td>\n",
       "      <td>Lyon 8ème</td>\n",
       "      <td>Transvaal</td>\n",
       "    </tr>\n",
       "    <tr>\n",
       "      <th>3</th>\n",
       "      <td>3</td>\n",
       "      <td>NaN</td>\n",
       "      <td>3</td>\n",
       "      <td>2.0</td>\n",
       "      <td>61.0</td>\n",
       "      <td>NaN</td>\n",
       "      <td>NaN</td>\n",
       "      <td>non défini</td>\n",
       "      <td>437000</td>\n",
       "      <td>1810</td>\n",
       "      <td>Lyon 6ème</td>\n",
       "      <td>Les Brotteaux-Bellecombe-Masséna</td>\n",
       "    </tr>\n",
       "    <tr>\n",
       "      <th>4</th>\n",
       "      <td>4</td>\n",
       "      <td>NaN</td>\n",
       "      <td>4</td>\n",
       "      <td>3.0</td>\n",
       "      <td>129.0</td>\n",
       "      <td>NaN</td>\n",
       "      <td>NaN</td>\n",
       "      <td>non défini</td>\n",
       "      <td>725000</td>\n",
       "      <td>2997</td>\n",
       "      <td>Lyon 7ème</td>\n",
       "      <td>CHARME DE L'ANCIEN pour cet appartement de 129...</td>\n",
       "    </tr>\n",
       "    <tr>\n",
       "      <th>...</th>\n",
       "      <td>...</td>\n",
       "      <td>...</td>\n",
       "      <td>...</td>\n",
       "      <td>...</td>\n",
       "      <td>...</td>\n",
       "      <td>...</td>\n",
       "      <td>...</td>\n",
       "      <td>...</td>\n",
       "      <td>...</td>\n",
       "      <td>...</td>\n",
       "      <td>...</td>\n",
       "      <td>...</td>\n",
       "    </tr>\n",
       "    <tr>\n",
       "      <th>3250</th>\n",
       "      <td>3250</td>\n",
       "      <td>NaN</td>\n",
       "      <td>6</td>\n",
       "      <td>5.0</td>\n",
       "      <td>218.0</td>\n",
       "      <td>NaN</td>\n",
       "      <td>NaN</td>\n",
       "      <td>non défini</td>\n",
       "      <td>1750000</td>\n",
       "      <td>7220</td>\n",
       "      <td>Lyon 2ème</td>\n",
       "      <td>Perrache-Le Confluent</td>\n",
       "    </tr>\n",
       "    <tr>\n",
       "      <th>3251</th>\n",
       "      <td>3251</td>\n",
       "      <td>NaN</td>\n",
       "      <td>4</td>\n",
       "      <td>3.0</td>\n",
       "      <td>87.0</td>\n",
       "      <td>NaN</td>\n",
       "      <td>NaN</td>\n",
       "      <td>non défini</td>\n",
       "      <td>420000</td>\n",
       "      <td>1740</td>\n",
       "      <td>Écully</td>\n",
       "      <td>Le-Perollier</td>\n",
       "    </tr>\n",
       "    <tr>\n",
       "      <th>3252</th>\n",
       "      <td>3252</td>\n",
       "      <td>NaN</td>\n",
       "      <td>3</td>\n",
       "      <td>2.0</td>\n",
       "      <td>69.0</td>\n",
       "      <td>NaN</td>\n",
       "      <td>NaN</td>\n",
       "      <td>non défini</td>\n",
       "      <td>420000</td>\n",
       "      <td>1740</td>\n",
       "      <td>Lyon 6ème</td>\n",
       "      <td>Les Brotteaux-Bellecombe-Masséna</td>\n",
       "    </tr>\n",
       "    <tr>\n",
       "      <th>3253</th>\n",
       "      <td>3253</td>\n",
       "      <td>NaN</td>\n",
       "      <td>4</td>\n",
       "      <td>3.0</td>\n",
       "      <td>86.0</td>\n",
       "      <td>NaN</td>\n",
       "      <td>NaN</td>\n",
       "      <td>non défini</td>\n",
       "      <td>417000</td>\n",
       "      <td>1727</td>\n",
       "      <td>Lyon 3ème</td>\n",
       "      <td>Villette</td>\n",
       "    </tr>\n",
       "    <tr>\n",
       "      <th>3254</th>\n",
       "      <td>3254</td>\n",
       "      <td>NaN</td>\n",
       "      <td>4</td>\n",
       "      <td>3.0</td>\n",
       "      <td>81.0</td>\n",
       "      <td>NaN</td>\n",
       "      <td>NaN</td>\n",
       "      <td>non défini</td>\n",
       "      <td>560000</td>\n",
       "      <td>2317</td>\n",
       "      <td>Villeurbanne</td>\n",
       "      <td>Léon Blum - Bon Coin</td>\n",
       "    </tr>\n",
       "  </tbody>\n",
       "</table>\n",
       "<p>3245 rows × 12 columns</p>\n",
       "</div>"
      ],
      "text/plain": [
       "      Unnamed: 0 type_appartement  nombre_pièces  nombre_chambres  surface  \\\n",
       "0              0              NaN              4              2.0    104.0   \n",
       "1              1              NaN              3              2.0     72.0   \n",
       "2              2              NaN              5              4.0     99.0   \n",
       "3              3              NaN              3              2.0     61.0   \n",
       "4              4              NaN              4              3.0    129.0   \n",
       "...          ...              ...            ...              ...      ...   \n",
       "3250        3250              NaN              6              5.0    218.0   \n",
       "3251        3251              NaN              4              3.0     87.0   \n",
       "3252        3252              NaN              3              2.0     69.0   \n",
       "3253        3253              NaN              4              3.0     86.0   \n",
       "3254        3254              NaN              4              3.0     81.0   \n",
       "\n",
       "      étage terasse   ascenceur  prix_achat credit  localisation  \\\n",
       "0       NaN     NaN  non défini      499000   2065     Lyon 3ème   \n",
       "1       NaN     NaN  non défini      449505   1861      Lyon 1er   \n",
       "2       NaN     NaN  non défini      410000   1699     Lyon 8ème   \n",
       "3       NaN     NaN  non défini      437000   1810     Lyon 6ème   \n",
       "4       NaN     NaN  non défini      725000   2997     Lyon 7ème   \n",
       "...     ...     ...         ...         ...    ...           ...   \n",
       "3250    NaN     NaN  non défini     1750000   7220     Lyon 2ème   \n",
       "3251    NaN     NaN  non défini      420000   1740        Écully   \n",
       "3252    NaN     NaN  non défini      420000   1740     Lyon 6ème   \n",
       "3253    NaN     NaN  non défini      417000   1727     Lyon 3ème   \n",
       "3254    NaN     NaN  non défini      560000   2317  Villeurbanne   \n",
       "\n",
       "                                            description  \n",
       "0                                   La Guillotière Nord  \n",
       "1                                              Terreaux  \n",
       "2                                             Transvaal  \n",
       "3                      Les Brotteaux-Bellecombe-Masséna  \n",
       "4     CHARME DE L'ANCIEN pour cet appartement de 129...  \n",
       "...                                                 ...  \n",
       "3250                              Perrache-Le Confluent  \n",
       "3251                                       Le-Perollier  \n",
       "3252                   Les Brotteaux-Bellecombe-Masséna  \n",
       "3253                                           Villette  \n",
       "3254                               Léon Blum - Bon Coin  \n",
       "\n",
       "[3245 rows x 12 columns]"
      ]
     },
     "execution_count": 191,
     "metadata": {},
     "output_type": "execute_result"
    }
   ],
   "source": [
    "data_brut.loc[data_brut['terasse'] == 'non défini', 'terasse'] = np.nan\n",
    "data_brut"
   ]
  },
  {
   "cell_type": "code",
   "execution_count": 192,
   "metadata": {
    "Collapsed": "false"
   },
   "outputs": [
    {
     "data": {
      "text/plain": [
       "array(['non défini', 'oui'], dtype=object)"
      ]
     },
     "execution_count": 192,
     "metadata": {},
     "output_type": "execute_result"
    }
   ],
   "source": [
    "data_brut['ascenceur'].unique()"
   ]
  },
  {
   "cell_type": "code",
   "execution_count": 193,
   "metadata": {
    "Collapsed": "false"
   },
   "outputs": [
    {
     "data": {
      "text/html": [
       "<div>\n",
       "<style scoped>\n",
       "    .dataframe tbody tr th:only-of-type {\n",
       "        vertical-align: middle;\n",
       "    }\n",
       "\n",
       "    .dataframe tbody tr th {\n",
       "        vertical-align: top;\n",
       "    }\n",
       "\n",
       "    .dataframe thead th {\n",
       "        text-align: right;\n",
       "    }\n",
       "</style>\n",
       "<table border=\"1\" class=\"dataframe\">\n",
       "  <thead>\n",
       "    <tr style=\"text-align: right;\">\n",
       "      <th></th>\n",
       "      <th>Unnamed: 0</th>\n",
       "      <th>type_appartement</th>\n",
       "      <th>nombre_pièces</th>\n",
       "      <th>nombre_chambres</th>\n",
       "      <th>surface</th>\n",
       "      <th>étage</th>\n",
       "      <th>terasse</th>\n",
       "      <th>ascenceur</th>\n",
       "      <th>prix_achat</th>\n",
       "      <th>credit</th>\n",
       "      <th>localisation</th>\n",
       "      <th>description</th>\n",
       "    </tr>\n",
       "  </thead>\n",
       "  <tbody>\n",
       "    <tr>\n",
       "      <th>0</th>\n",
       "      <td>0</td>\n",
       "      <td>NaN</td>\n",
       "      <td>4</td>\n",
       "      <td>2.0</td>\n",
       "      <td>104.0</td>\n",
       "      <td>NaN</td>\n",
       "      <td>NaN</td>\n",
       "      <td>NaN</td>\n",
       "      <td>499000</td>\n",
       "      <td>2065</td>\n",
       "      <td>Lyon 3ème</td>\n",
       "      <td>La Guillotière Nord</td>\n",
       "    </tr>\n",
       "    <tr>\n",
       "      <th>1</th>\n",
       "      <td>1</td>\n",
       "      <td>NaN</td>\n",
       "      <td>3</td>\n",
       "      <td>2.0</td>\n",
       "      <td>72.0</td>\n",
       "      <td>NaN</td>\n",
       "      <td>NaN</td>\n",
       "      <td>NaN</td>\n",
       "      <td>449505</td>\n",
       "      <td>1861</td>\n",
       "      <td>Lyon 1er</td>\n",
       "      <td>Terreaux</td>\n",
       "    </tr>\n",
       "    <tr>\n",
       "      <th>2</th>\n",
       "      <td>2</td>\n",
       "      <td>NaN</td>\n",
       "      <td>5</td>\n",
       "      <td>4.0</td>\n",
       "      <td>99.0</td>\n",
       "      <td>NaN</td>\n",
       "      <td>NaN</td>\n",
       "      <td>NaN</td>\n",
       "      <td>410000</td>\n",
       "      <td>1699</td>\n",
       "      <td>Lyon 8ème</td>\n",
       "      <td>Transvaal</td>\n",
       "    </tr>\n",
       "    <tr>\n",
       "      <th>3</th>\n",
       "      <td>3</td>\n",
       "      <td>NaN</td>\n",
       "      <td>3</td>\n",
       "      <td>2.0</td>\n",
       "      <td>61.0</td>\n",
       "      <td>NaN</td>\n",
       "      <td>NaN</td>\n",
       "      <td>NaN</td>\n",
       "      <td>437000</td>\n",
       "      <td>1810</td>\n",
       "      <td>Lyon 6ème</td>\n",
       "      <td>Les Brotteaux-Bellecombe-Masséna</td>\n",
       "    </tr>\n",
       "    <tr>\n",
       "      <th>4</th>\n",
       "      <td>4</td>\n",
       "      <td>NaN</td>\n",
       "      <td>4</td>\n",
       "      <td>3.0</td>\n",
       "      <td>129.0</td>\n",
       "      <td>NaN</td>\n",
       "      <td>NaN</td>\n",
       "      <td>NaN</td>\n",
       "      <td>725000</td>\n",
       "      <td>2997</td>\n",
       "      <td>Lyon 7ème</td>\n",
       "      <td>CHARME DE L'ANCIEN pour cet appartement de 129...</td>\n",
       "    </tr>\n",
       "    <tr>\n",
       "      <th>...</th>\n",
       "      <td>...</td>\n",
       "      <td>...</td>\n",
       "      <td>...</td>\n",
       "      <td>...</td>\n",
       "      <td>...</td>\n",
       "      <td>...</td>\n",
       "      <td>...</td>\n",
       "      <td>...</td>\n",
       "      <td>...</td>\n",
       "      <td>...</td>\n",
       "      <td>...</td>\n",
       "      <td>...</td>\n",
       "    </tr>\n",
       "    <tr>\n",
       "      <th>3250</th>\n",
       "      <td>3250</td>\n",
       "      <td>NaN</td>\n",
       "      <td>6</td>\n",
       "      <td>5.0</td>\n",
       "      <td>218.0</td>\n",
       "      <td>NaN</td>\n",
       "      <td>NaN</td>\n",
       "      <td>NaN</td>\n",
       "      <td>1750000</td>\n",
       "      <td>7220</td>\n",
       "      <td>Lyon 2ème</td>\n",
       "      <td>Perrache-Le Confluent</td>\n",
       "    </tr>\n",
       "    <tr>\n",
       "      <th>3251</th>\n",
       "      <td>3251</td>\n",
       "      <td>NaN</td>\n",
       "      <td>4</td>\n",
       "      <td>3.0</td>\n",
       "      <td>87.0</td>\n",
       "      <td>NaN</td>\n",
       "      <td>NaN</td>\n",
       "      <td>NaN</td>\n",
       "      <td>420000</td>\n",
       "      <td>1740</td>\n",
       "      <td>Écully</td>\n",
       "      <td>Le-Perollier</td>\n",
       "    </tr>\n",
       "    <tr>\n",
       "      <th>3252</th>\n",
       "      <td>3252</td>\n",
       "      <td>NaN</td>\n",
       "      <td>3</td>\n",
       "      <td>2.0</td>\n",
       "      <td>69.0</td>\n",
       "      <td>NaN</td>\n",
       "      <td>NaN</td>\n",
       "      <td>NaN</td>\n",
       "      <td>420000</td>\n",
       "      <td>1740</td>\n",
       "      <td>Lyon 6ème</td>\n",
       "      <td>Les Brotteaux-Bellecombe-Masséna</td>\n",
       "    </tr>\n",
       "    <tr>\n",
       "      <th>3253</th>\n",
       "      <td>3253</td>\n",
       "      <td>NaN</td>\n",
       "      <td>4</td>\n",
       "      <td>3.0</td>\n",
       "      <td>86.0</td>\n",
       "      <td>NaN</td>\n",
       "      <td>NaN</td>\n",
       "      <td>NaN</td>\n",
       "      <td>417000</td>\n",
       "      <td>1727</td>\n",
       "      <td>Lyon 3ème</td>\n",
       "      <td>Villette</td>\n",
       "    </tr>\n",
       "    <tr>\n",
       "      <th>3254</th>\n",
       "      <td>3254</td>\n",
       "      <td>NaN</td>\n",
       "      <td>4</td>\n",
       "      <td>3.0</td>\n",
       "      <td>81.0</td>\n",
       "      <td>NaN</td>\n",
       "      <td>NaN</td>\n",
       "      <td>NaN</td>\n",
       "      <td>560000</td>\n",
       "      <td>2317</td>\n",
       "      <td>Villeurbanne</td>\n",
       "      <td>Léon Blum - Bon Coin</td>\n",
       "    </tr>\n",
       "  </tbody>\n",
       "</table>\n",
       "<p>3245 rows × 12 columns</p>\n",
       "</div>"
      ],
      "text/plain": [
       "      Unnamed: 0 type_appartement  nombre_pièces  nombre_chambres  surface  \\\n",
       "0              0              NaN              4              2.0    104.0   \n",
       "1              1              NaN              3              2.0     72.0   \n",
       "2              2              NaN              5              4.0     99.0   \n",
       "3              3              NaN              3              2.0     61.0   \n",
       "4              4              NaN              4              3.0    129.0   \n",
       "...          ...              ...            ...              ...      ...   \n",
       "3250        3250              NaN              6              5.0    218.0   \n",
       "3251        3251              NaN              4              3.0     87.0   \n",
       "3252        3252              NaN              3              2.0     69.0   \n",
       "3253        3253              NaN              4              3.0     86.0   \n",
       "3254        3254              NaN              4              3.0     81.0   \n",
       "\n",
       "      étage terasse ascenceur  prix_achat credit  localisation  \\\n",
       "0       NaN     NaN       NaN      499000   2065     Lyon 3ème   \n",
       "1       NaN     NaN       NaN      449505   1861      Lyon 1er   \n",
       "2       NaN     NaN       NaN      410000   1699     Lyon 8ème   \n",
       "3       NaN     NaN       NaN      437000   1810     Lyon 6ème   \n",
       "4       NaN     NaN       NaN      725000   2997     Lyon 7ème   \n",
       "...     ...     ...       ...         ...    ...           ...   \n",
       "3250    NaN     NaN       NaN     1750000   7220     Lyon 2ème   \n",
       "3251    NaN     NaN       NaN      420000   1740        Écully   \n",
       "3252    NaN     NaN       NaN      420000   1740     Lyon 6ème   \n",
       "3253    NaN     NaN       NaN      417000   1727     Lyon 3ème   \n",
       "3254    NaN     NaN       NaN      560000   2317  Villeurbanne   \n",
       "\n",
       "                                            description  \n",
       "0                                   La Guillotière Nord  \n",
       "1                                              Terreaux  \n",
       "2                                             Transvaal  \n",
       "3                      Les Brotteaux-Bellecombe-Masséna  \n",
       "4     CHARME DE L'ANCIEN pour cet appartement de 129...  \n",
       "...                                                 ...  \n",
       "3250                              Perrache-Le Confluent  \n",
       "3251                                       Le-Perollier  \n",
       "3252                   Les Brotteaux-Bellecombe-Masséna  \n",
       "3253                                           Villette  \n",
       "3254                               Léon Blum - Bon Coin  \n",
       "\n",
       "[3245 rows x 12 columns]"
      ]
     },
     "execution_count": 193,
     "metadata": {},
     "output_type": "execute_result"
    }
   ],
   "source": [
    "data_brut.loc[data_brut['ascenceur'] == 'non défini', 'ascenceur'] = np.nan\n",
    "data_brut"
   ]
  },
  {
   "cell_type": "code",
   "execution_count": 194,
   "metadata": {
    "Collapsed": "false"
   },
   "outputs": [
    {
     "data": {
      "text/plain": [
       "Unnamed: 0             0\n",
       "type_appartement    3245\n",
       "nombre_pièces          0\n",
       "nombre_chambres      376\n",
       "surface               17\n",
       "étage               3141\n",
       "terasse             3227\n",
       "ascenceur           3055\n",
       "prix_achat             0\n",
       "credit                 0\n",
       "localisation           0\n",
       "description            0\n",
       "dtype: int64"
      ]
     },
     "execution_count": 194,
     "metadata": {},
     "output_type": "execute_result"
    }
   ],
   "source": [
    "data_brut.isna().sum()"
   ]
  },
  {
   "cell_type": "code",
   "execution_count": 195,
   "metadata": {
    "Collapsed": "false"
   },
   "outputs": [
    {
     "data": {
      "text/plain": [
       "<AxesSubplot:>"
      ]
     },
     "execution_count": 195,
     "metadata": {},
     "output_type": "execute_result"
    },
    {
     "data": {
      "image/png": "[encoded data removed]",
      "text/plain": [
       "<Figure size 1440x1440 with 2 Axes>"
      ]
     },
     "metadata": {
      "needs_background": "light"
     },
     "output_type": "display_data"
    }
   ],
   "source": [
    "plt.figure(figsize=(20,20))\n",
    "corr_matrix = data_brut.corr()\n",
    "sn.heatmap(corr_matrix, annot=True, fmt='.1g', cmap= 'coolwarm' , mask = np.triu(corr_matrix), cbar_kws= {'orientation': 'horizontal'})\n",
    "#plt.show()"
   ]
  },
  {
   "cell_type": "markdown",
   "metadata": {
    "Collapsed": "false"
   },
   "source": [
    "Conclusion : \n",
    "- Descirption is too various\n",
    "- Localsiation ok \n",
    "- Credit i don't know what it is\n",
    "- prix d'achat : output variable to predict\n",
    "- ascenceur too much Nan\n",
    "- terasse too much Nan\n",
    "- etage too much Nan\n",
    "- surface ok \n",
    "- nb chambres ok because it is not too corelated with surface\n",
    "- nb peices too corelated with surface"
   ]
  },
  {
   "cell_type": "markdown",
   "metadata": {
    "Collapsed": "false"
   },
   "source": [
    "## Preapre the data even if we already begun hahahaahahahahahahaahh !"
   ]
  },
  {
   "cell_type": "markdown",
   "metadata": {
    "Collapsed": "false"
   },
   "source": [
    "#### Take off the useless column"
   ]
  },
  {
   "cell_type": "code",
   "execution_count": 196,
   "metadata": {
    "Collapsed": "false"
   },
   "outputs": [
    {
     "data": {
      "text/plain": [
       "Index(['Unnamed: 0', 'type_appartement', 'nombre_pièces', 'nombre_chambres',\n",
       "       'surface', 'étage', 'terasse', 'ascenceur', 'prix_achat', 'credit',\n",
       "       'localisation', 'description'],\n",
       "      dtype='object')"
      ]
     },
     "execution_count": 196,
     "metadata": {},
     "output_type": "execute_result"
    }
   ],
   "source": [
    "data_brut.columns"
   ]
  },
  {
   "cell_type": "code",
   "execution_count": 197,
   "metadata": {
    "Collapsed": "false"
   },
   "outputs": [],
   "source": [
    "choosed_column = ['nombre_chambres', 'surface', 'prix_achat', 'localisation']"
   ]
  },
  {
   "cell_type": "code",
   "execution_count": 198,
   "metadata": {
    "Collapsed": "false"
   },
   "outputs": [
    {
     "data": {
      "text/html": [
       "<div>\n",
       "<style scoped>\n",
       "    .dataframe tbody tr th:only-of-type {\n",
       "        vertical-align: middle;\n",
       "    }\n",
       "\n",
       "    .dataframe tbody tr th {\n",
       "        vertical-align: top;\n",
       "    }\n",
       "\n",
       "    .dataframe thead th {\n",
       "        text-align: right;\n",
       "    }\n",
       "</style>\n",
       "<table border=\"1\" class=\"dataframe\">\n",
       "  <thead>\n",
       "    <tr style=\"text-align: right;\">\n",
       "      <th></th>\n",
       "      <th>nombre_chambres</th>\n",
       "      <th>surface</th>\n",
       "      <th>prix_achat</th>\n",
       "      <th>localisation</th>\n",
       "    </tr>\n",
       "  </thead>\n",
       "  <tbody>\n",
       "    <tr>\n",
       "      <th>0</th>\n",
       "      <td>2.0</td>\n",
       "      <td>104.0</td>\n",
       "      <td>499000</td>\n",
       "      <td>Lyon 3ème</td>\n",
       "    </tr>\n",
       "    <tr>\n",
       "      <th>1</th>\n",
       "      <td>2.0</td>\n",
       "      <td>72.0</td>\n",
       "      <td>449505</td>\n",
       "      <td>Lyon 1er</td>\n",
       "    </tr>\n",
       "    <tr>\n",
       "      <th>2</th>\n",
       "      <td>4.0</td>\n",
       "      <td>99.0</td>\n",
       "      <td>410000</td>\n",
       "      <td>Lyon 8ème</td>\n",
       "    </tr>\n",
       "    <tr>\n",
       "      <th>3</th>\n",
       "      <td>2.0</td>\n",
       "      <td>61.0</td>\n",
       "      <td>437000</td>\n",
       "      <td>Lyon 6ème</td>\n",
       "    </tr>\n",
       "    <tr>\n",
       "      <th>4</th>\n",
       "      <td>3.0</td>\n",
       "      <td>129.0</td>\n",
       "      <td>725000</td>\n",
       "      <td>Lyon 7ème</td>\n",
       "    </tr>\n",
       "  </tbody>\n",
       "</table>\n",
       "</div>"
      ],
      "text/plain": [
       "   nombre_chambres  surface  prix_achat localisation\n",
       "0              2.0    104.0      499000    Lyon 3ème\n",
       "1              2.0     72.0      449505     Lyon 1er\n",
       "2              4.0     99.0      410000    Lyon 8ème\n",
       "3              2.0     61.0      437000    Lyon 6ème\n",
       "4              3.0    129.0      725000    Lyon 7ème"
      ]
     },
     "execution_count": 198,
     "metadata": {},
     "output_type": "execute_result"
    }
   ],
   "source": [
    "data_selct = data_brut[choosed_column]\n",
    "data_selct.head()"
   ]
  },
  {
   "cell_type": "code",
   "execution_count": 199,
   "metadata": {
    "Collapsed": "false"
   },
   "outputs": [
    {
     "data": {
      "text/plain": [
       "array(['Lyon 3ème', 'Lyon 1er', 'Lyon 8ème', 'Lyon 6ème', 'Lyon 7ème',\n",
       "       'Lyon 9ème', 'Lyon 4ème', 'Lyon 2ème', 'Lyon 5ème',\n",
       "       'Rillieux-la-Pape', 'Tassin-la-Demi-Lune', 'Écully',\n",
       "       'Villeurbanne'], dtype=object)"
      ]
     },
     "execution_count": 199,
     "metadata": {},
     "output_type": "execute_result"
    }
   ],
   "source": [
    "data_selct['localisation'].unique()"
   ]
  },
  {
   "cell_type": "code",
   "execution_count": 200,
   "metadata": {
    "Collapsed": "false"
   },
   "outputs": [],
   "source": [
    "di = {'Lyon 3ème': \"Lyon3\", 'Lyon 1er' : \"Lyon1\", 'Lyon 8ème' : \"Lyon8\", 'Lyon 6ème' : 'Lyon6', 'Lyon 7ème' : 'Lyon7', 'Lyon 9ème' : 'Lyon9', 'Lyon 4ème' : 'Lyon4', 'Lyon 2ème' : 'Lyon2', 'Lyon 5ème' : 'Lyon5', 'Rillieux-la-Pape' : 'Périphérie', 'Tassin-la-Demi-Lune' : 'Périphérie', 'Écully' : 'Périphérie', 'Villeurbanne' : 'Périphérie' }"
   ]
  },
  {
   "cell_type": "code",
   "execution_count": 201,
   "metadata": {
    "Collapsed": "false"
   },
   "outputs": [
    {
     "name": "stderr",
     "output_type": "stream",
     "text": [
      "/home/yann/anaconda3/lib/python3.7/site-packages/pandas/core/generic.py:6786: SettingWithCopyWarning: \n",
      "A value is trying to be set on a copy of a slice from a DataFrame\n",
      "\n",
      "See the caveats in the documentation: http://pandas.pydata.org/pandas-docs/stable/user_guide/indexing.html#returning-a-view-versus-a-copy\n",
      "  self._update_inplace(new_data)\n"
     ]
    }
   ],
   "source": [
    "data_selct['localisation'].replace(di, inplace = True)"
   ]
  },
  {
   "cell_type": "code",
   "execution_count": 202,
   "metadata": {
    "Collapsed": "false"
   },
   "outputs": [
    {
     "data": {
      "text/html": [
       "<div>\n",
       "<style scoped>\n",
       "    .dataframe tbody tr th:only-of-type {\n",
       "        vertical-align: middle;\n",
       "    }\n",
       "\n",
       "    .dataframe tbody tr th {\n",
       "        vertical-align: top;\n",
       "    }\n",
       "\n",
       "    .dataframe thead th {\n",
       "        text-align: right;\n",
       "    }\n",
       "</style>\n",
       "<table border=\"1\" class=\"dataframe\">\n",
       "  <thead>\n",
       "    <tr style=\"text-align: right;\">\n",
       "      <th></th>\n",
       "      <th>nombre_chambres</th>\n",
       "      <th>surface</th>\n",
       "      <th>prix_achat</th>\n",
       "      <th>localisation</th>\n",
       "    </tr>\n",
       "  </thead>\n",
       "  <tbody>\n",
       "    <tr>\n",
       "      <th>0</th>\n",
       "      <td>2.0</td>\n",
       "      <td>104.0</td>\n",
       "      <td>499000</td>\n",
       "      <td>Lyon3</td>\n",
       "    </tr>\n",
       "    <tr>\n",
       "      <th>1</th>\n",
       "      <td>2.0</td>\n",
       "      <td>72.0</td>\n",
       "      <td>449505</td>\n",
       "      <td>Lyon1</td>\n",
       "    </tr>\n",
       "    <tr>\n",
       "      <th>2</th>\n",
       "      <td>4.0</td>\n",
       "      <td>99.0</td>\n",
       "      <td>410000</td>\n",
       "      <td>Lyon8</td>\n",
       "    </tr>\n",
       "    <tr>\n",
       "      <th>3</th>\n",
       "      <td>2.0</td>\n",
       "      <td>61.0</td>\n",
       "      <td>437000</td>\n",
       "      <td>Lyon6</td>\n",
       "    </tr>\n",
       "    <tr>\n",
       "      <th>4</th>\n",
       "      <td>3.0</td>\n",
       "      <td>129.0</td>\n",
       "      <td>725000</td>\n",
       "      <td>Lyon7</td>\n",
       "    </tr>\n",
       "  </tbody>\n",
       "</table>\n",
       "</div>"
      ],
      "text/plain": [
       "   nombre_chambres  surface  prix_achat localisation\n",
       "0              2.0    104.0      499000        Lyon3\n",
       "1              2.0     72.0      449505        Lyon1\n",
       "2              4.0     99.0      410000        Lyon8\n",
       "3              2.0     61.0      437000        Lyon6\n",
       "4              3.0    129.0      725000        Lyon7"
      ]
     },
     "execution_count": 202,
     "metadata": {},
     "output_type": "execute_result"
    }
   ],
   "source": [
    "data_selct.head()"
   ]
  },
  {
   "cell_type": "code",
   "execution_count": 203,
   "metadata": {
    "Collapsed": "false"
   },
   "outputs": [
    {
     "data": {
      "text/html": [
       "<div>\n",
       "<style scoped>\n",
       "    .dataframe tbody tr th:only-of-type {\n",
       "        vertical-align: middle;\n",
       "    }\n",
       "\n",
       "    .dataframe tbody tr th {\n",
       "        vertical-align: top;\n",
       "    }\n",
       "\n",
       "    .dataframe thead th {\n",
       "        text-align: right;\n",
       "    }\n",
       "</style>\n",
       "<table border=\"1\" class=\"dataframe\">\n",
       "  <thead>\n",
       "    <tr style=\"text-align: right;\">\n",
       "      <th></th>\n",
       "      <th>nombre_chambres</th>\n",
       "      <th>surface</th>\n",
       "      <th>prix_achat</th>\n",
       "    </tr>\n",
       "  </thead>\n",
       "  <tbody>\n",
       "    <tr>\n",
       "      <th>count</th>\n",
       "      <td>2869.000000</td>\n",
       "      <td>3228.000000</td>\n",
       "      <td>3.245000e+03</td>\n",
       "    </tr>\n",
       "    <tr>\n",
       "      <th>mean</th>\n",
       "      <td>2.348902</td>\n",
       "      <td>80.393123</td>\n",
       "      <td>4.829525e+05</td>\n",
       "    </tr>\n",
       "    <tr>\n",
       "      <th>std</th>\n",
       "      <td>1.045971</td>\n",
       "      <td>42.796273</td>\n",
       "      <td>3.288190e+05</td>\n",
       "    </tr>\n",
       "    <tr>\n",
       "      <th>min</th>\n",
       "      <td>1.000000</td>\n",
       "      <td>7.000000</td>\n",
       "      <td>4.500000e+04</td>\n",
       "    </tr>\n",
       "    <tr>\n",
       "      <th>25%</th>\n",
       "      <td>2.000000</td>\n",
       "      <td>53.000000</td>\n",
       "      <td>2.750000e+05</td>\n",
       "    </tr>\n",
       "    <tr>\n",
       "      <th>50%</th>\n",
       "      <td>2.000000</td>\n",
       "      <td>75.000000</td>\n",
       "      <td>3.990000e+05</td>\n",
       "    </tr>\n",
       "    <tr>\n",
       "      <th>75%</th>\n",
       "      <td>3.000000</td>\n",
       "      <td>99.000000</td>\n",
       "      <td>5.950000e+05</td>\n",
       "    </tr>\n",
       "    <tr>\n",
       "      <th>max</th>\n",
       "      <td>14.000000</td>\n",
       "      <td>364.000000</td>\n",
       "      <td>3.300000e+06</td>\n",
       "    </tr>\n",
       "  </tbody>\n",
       "</table>\n",
       "</div>"
      ],
      "text/plain": [
       "       nombre_chambres      surface    prix_achat\n",
       "count      2869.000000  3228.000000  3.245000e+03\n",
       "mean          2.348902    80.393123  4.829525e+05\n",
       "std           1.045971    42.796273  3.288190e+05\n",
       "min           1.000000     7.000000  4.500000e+04\n",
       "25%           2.000000    53.000000  2.750000e+05\n",
       "50%           2.000000    75.000000  3.990000e+05\n",
       "75%           3.000000    99.000000  5.950000e+05\n",
       "max          14.000000   364.000000  3.300000e+06"
      ]
     },
     "execution_count": 203,
     "metadata": {},
     "output_type": "execute_result"
    }
   ],
   "source": [
    "data_selct.describe()"
   ]
  },
  {
   "cell_type": "code",
   "execution_count": 204,
   "metadata": {
    "Collapsed": "false"
   },
   "outputs": [
    {
     "data": {
      "text/html": [
       "<div>\n",
       "<style scoped>\n",
       "    .dataframe tbody tr th:only-of-type {\n",
       "        vertical-align: middle;\n",
       "    }\n",
       "\n",
       "    .dataframe tbody tr th {\n",
       "        vertical-align: top;\n",
       "    }\n",
       "\n",
       "    .dataframe thead th {\n",
       "        text-align: right;\n",
       "    }\n",
       "</style>\n",
       "<table border=\"1\" class=\"dataframe\">\n",
       "  <thead>\n",
       "    <tr style=\"text-align: right;\">\n",
       "      <th></th>\n",
       "      <th>nombre_chambres</th>\n",
       "      <th>surface</th>\n",
       "      <th>prix_achat</th>\n",
       "      <th>localisation</th>\n",
       "    </tr>\n",
       "  </thead>\n",
       "  <tbody>\n",
       "    <tr>\n",
       "      <th>90</th>\n",
       "      <td>NaN</td>\n",
       "      <td>26.0</td>\n",
       "      <td>159500</td>\n",
       "      <td>Lyon1</td>\n",
       "    </tr>\n",
       "    <tr>\n",
       "      <th>96</th>\n",
       "      <td>NaN</td>\n",
       "      <td>19.0</td>\n",
       "      <td>98000</td>\n",
       "      <td>Lyon7</td>\n",
       "    </tr>\n",
       "    <tr>\n",
       "      <th>98</th>\n",
       "      <td>NaN</td>\n",
       "      <td>18.0</td>\n",
       "      <td>108000</td>\n",
       "      <td>Lyon5</td>\n",
       "    </tr>\n",
       "    <tr>\n",
       "      <th>107</th>\n",
       "      <td>NaN</td>\n",
       "      <td>20.0</td>\n",
       "      <td>144200</td>\n",
       "      <td>Lyon9</td>\n",
       "    </tr>\n",
       "    <tr>\n",
       "      <th>108</th>\n",
       "      <td>NaN</td>\n",
       "      <td>26.0</td>\n",
       "      <td>154500</td>\n",
       "      <td>Lyon9</td>\n",
       "    </tr>\n",
       "    <tr>\n",
       "      <th>...</th>\n",
       "      <td>...</td>\n",
       "      <td>...</td>\n",
       "      <td>...</td>\n",
       "      <td>...</td>\n",
       "    </tr>\n",
       "    <tr>\n",
       "      <th>3213</th>\n",
       "      <td>NaN</td>\n",
       "      <td>26.0</td>\n",
       "      <td>299000</td>\n",
       "      <td>Lyon1</td>\n",
       "    </tr>\n",
       "    <tr>\n",
       "      <th>3214</th>\n",
       "      <td>NaN</td>\n",
       "      <td>31.0</td>\n",
       "      <td>234000</td>\n",
       "      <td>Lyon5</td>\n",
       "    </tr>\n",
       "    <tr>\n",
       "      <th>3223</th>\n",
       "      <td>NaN</td>\n",
       "      <td>40.0</td>\n",
       "      <td>270000</td>\n",
       "      <td>Lyon6</td>\n",
       "    </tr>\n",
       "    <tr>\n",
       "      <th>3225</th>\n",
       "      <td>4.0</td>\n",
       "      <td>NaN</td>\n",
       "      <td>290000</td>\n",
       "      <td>Lyon5</td>\n",
       "    </tr>\n",
       "    <tr>\n",
       "      <th>3233</th>\n",
       "      <td>NaN</td>\n",
       "      <td>95.0</td>\n",
       "      <td>450000</td>\n",
       "      <td>Lyon1</td>\n",
       "    </tr>\n",
       "  </tbody>\n",
       "</table>\n",
       "<p>391 rows × 4 columns</p>\n",
       "</div>"
      ],
      "text/plain": [
       "      nombre_chambres  surface  prix_achat localisation\n",
       "90                NaN     26.0      159500        Lyon1\n",
       "96                NaN     19.0       98000        Lyon7\n",
       "98                NaN     18.0      108000        Lyon5\n",
       "107               NaN     20.0      144200        Lyon9\n",
       "108               NaN     26.0      154500        Lyon9\n",
       "...               ...      ...         ...          ...\n",
       "3213              NaN     26.0      299000        Lyon1\n",
       "3214              NaN     31.0      234000        Lyon5\n",
       "3223              NaN     40.0      270000        Lyon6\n",
       "3225              4.0      NaN      290000        Lyon5\n",
       "3233              NaN     95.0      450000        Lyon1\n",
       "\n",
       "[391 rows x 4 columns]"
      ]
     },
     "execution_count": 204,
     "metadata": {},
     "output_type": "execute_result"
    }
   ],
   "source": [
    "data_selct[data_selct.isna().any(axis=1)]"
   ]
  },
  {
   "cell_type": "code",
   "execution_count": 205,
   "metadata": {
    "Collapsed": "false"
   },
   "outputs": [
    {
     "data": {
      "text/plain": [
       "3228"
      ]
     },
     "execution_count": 205,
     "metadata": {},
     "output_type": "execute_result"
    }
   ],
   "source": [
    "data_selct = data_selct[data_selct['surface'].notnull()]\n",
    "len(data_selct)"
   ]
  },
  {
   "cell_type": "markdown",
   "metadata": {
    "Collapsed": "false"
   },
   "source": [
    "With a mean of the surface of 26 I guess that it is a studio"
   ]
  },
  {
   "cell_type": "code",
   "execution_count": 206,
   "metadata": {
    "Collapsed": "false"
   },
   "outputs": [
    {
     "data": {
      "text/html": [
       "<div>\n",
       "<style scoped>\n",
       "    .dataframe tbody tr th:only-of-type {\n",
       "        vertical-align: middle;\n",
       "    }\n",
       "\n",
       "    .dataframe tbody tr th {\n",
       "        vertical-align: top;\n",
       "    }\n",
       "\n",
       "    .dataframe thead th {\n",
       "        text-align: right;\n",
       "    }\n",
       "</style>\n",
       "<table border=\"1\" class=\"dataframe\">\n",
       "  <thead>\n",
       "    <tr style=\"text-align: right;\">\n",
       "      <th></th>\n",
       "      <th>nombre_chambres</th>\n",
       "      <th>surface</th>\n",
       "      <th>prix_achat</th>\n",
       "    </tr>\n",
       "  </thead>\n",
       "  <tbody>\n",
       "    <tr>\n",
       "      <th>count</th>\n",
       "      <td>0.0</td>\n",
       "      <td>374.000000</td>\n",
       "      <td>374.000000</td>\n",
       "    </tr>\n",
       "    <tr>\n",
       "      <th>mean</th>\n",
       "      <td>NaN</td>\n",
       "      <td>26.454545</td>\n",
       "      <td>172860.796791</td>\n",
       "    </tr>\n",
       "    <tr>\n",
       "      <th>std</th>\n",
       "      <td>NaN</td>\n",
       "      <td>15.608543</td>\n",
       "      <td>96121.068792</td>\n",
       "    </tr>\n",
       "    <tr>\n",
       "      <th>min</th>\n",
       "      <td>NaN</td>\n",
       "      <td>7.000000</td>\n",
       "      <td>45000.000000</td>\n",
       "    </tr>\n",
       "    <tr>\n",
       "      <th>25%</th>\n",
       "      <td>NaN</td>\n",
       "      <td>18.000000</td>\n",
       "      <td>112000.000000</td>\n",
       "    </tr>\n",
       "    <tr>\n",
       "      <th>50%</th>\n",
       "      <td>NaN</td>\n",
       "      <td>22.000000</td>\n",
       "      <td>168000.000000</td>\n",
       "    </tr>\n",
       "    <tr>\n",
       "      <th>75%</th>\n",
       "      <td>NaN</td>\n",
       "      <td>30.000000</td>\n",
       "      <td>210000.000000</td>\n",
       "    </tr>\n",
       "    <tr>\n",
       "      <th>max</th>\n",
       "      <td>NaN</td>\n",
       "      <td>135.000000</td>\n",
       "      <td>899000.000000</td>\n",
       "    </tr>\n",
       "  </tbody>\n",
       "</table>\n",
       "</div>"
      ],
      "text/plain": [
       "       nombre_chambres     surface     prix_achat\n",
       "count              0.0  374.000000     374.000000\n",
       "mean               NaN   26.454545  172860.796791\n",
       "std                NaN   15.608543   96121.068792\n",
       "min                NaN    7.000000   45000.000000\n",
       "25%                NaN   18.000000  112000.000000\n",
       "50%                NaN   22.000000  168000.000000\n",
       "75%                NaN   30.000000  210000.000000\n",
       "max                NaN  135.000000  899000.000000"
      ]
     },
     "execution_count": 206,
     "metadata": {},
     "output_type": "execute_result"
    }
   ],
   "source": [
    "df_nan = data_selct[data_selct.isna().any(axis=1)]\n",
    "df_nan.describe()"
   ]
  },
  {
   "cell_type": "code",
   "execution_count": 207,
   "metadata": {
    "Collapsed": "false"
   },
   "outputs": [
    {
     "data": {
      "text/plain": [
       "16"
      ]
     },
     "execution_count": 207,
     "metadata": {},
     "output_type": "execute_result"
    }
   ],
   "source": [
    "df_nan_absurdo = df_nan[df_nan['surface'] > 50]\n",
    "len(df_nan_absurdo)"
   ]
  },
  {
   "cell_type": "code",
   "execution_count": 208,
   "metadata": {
    "Collapsed": "false"
   },
   "outputs": [
    {
     "data": {
      "text/html": [
       "<div>\n",
       "<style scoped>\n",
       "    .dataframe tbody tr th:only-of-type {\n",
       "        vertical-align: middle;\n",
       "    }\n",
       "\n",
       "    .dataframe tbody tr th {\n",
       "        vertical-align: top;\n",
       "    }\n",
       "\n",
       "    .dataframe thead th {\n",
       "        text-align: right;\n",
       "    }\n",
       "</style>\n",
       "<table border=\"1\" class=\"dataframe\">\n",
       "  <thead>\n",
       "    <tr style=\"text-align: right;\">\n",
       "      <th></th>\n",
       "      <th>nombre_chambres</th>\n",
       "      <th>surface</th>\n",
       "      <th>prix_achat</th>\n",
       "      <th>localisation</th>\n",
       "    </tr>\n",
       "  </thead>\n",
       "  <tbody>\n",
       "    <tr>\n",
       "      <th>169</th>\n",
       "      <td>NaN</td>\n",
       "      <td>135.0</td>\n",
       "      <td>897000</td>\n",
       "      <td>Lyon6</td>\n",
       "    </tr>\n",
       "    <tr>\n",
       "      <th>316</th>\n",
       "      <td>NaN</td>\n",
       "      <td>63.0</td>\n",
       "      <td>331000</td>\n",
       "      <td>Lyon6</td>\n",
       "    </tr>\n",
       "    <tr>\n",
       "      <th>373</th>\n",
       "      <td>NaN</td>\n",
       "      <td>73.0</td>\n",
       "      <td>315000</td>\n",
       "      <td>Lyon1</td>\n",
       "    </tr>\n",
       "    <tr>\n",
       "      <th>1269</th>\n",
       "      <td>NaN</td>\n",
       "      <td>85.0</td>\n",
       "      <td>535563</td>\n",
       "      <td>Lyon1</td>\n",
       "    </tr>\n",
       "    <tr>\n",
       "      <th>1866</th>\n",
       "      <td>NaN</td>\n",
       "      <td>51.0</td>\n",
       "      <td>265000</td>\n",
       "      <td>Lyon7</td>\n",
       "    </tr>\n",
       "    <tr>\n",
       "      <th>1870</th>\n",
       "      <td>NaN</td>\n",
       "      <td>85.0</td>\n",
       "      <td>435000</td>\n",
       "      <td>Lyon4</td>\n",
       "    </tr>\n",
       "    <tr>\n",
       "      <th>1899</th>\n",
       "      <td>NaN</td>\n",
       "      <td>62.0</td>\n",
       "      <td>439000</td>\n",
       "      <td>Lyon1</td>\n",
       "    </tr>\n",
       "    <tr>\n",
       "      <th>2236</th>\n",
       "      <td>NaN</td>\n",
       "      <td>71.0</td>\n",
       "      <td>495000</td>\n",
       "      <td>Lyon3</td>\n",
       "    </tr>\n",
       "    <tr>\n",
       "      <th>2382</th>\n",
       "      <td>NaN</td>\n",
       "      <td>119.0</td>\n",
       "      <td>599000</td>\n",
       "      <td>Lyon9</td>\n",
       "    </tr>\n",
       "    <tr>\n",
       "      <th>2422</th>\n",
       "      <td>NaN</td>\n",
       "      <td>90.0</td>\n",
       "      <td>450000</td>\n",
       "      <td>Lyon1</td>\n",
       "    </tr>\n",
       "    <tr>\n",
       "      <th>2577</th>\n",
       "      <td>NaN</td>\n",
       "      <td>109.0</td>\n",
       "      <td>450000</td>\n",
       "      <td>Lyon9</td>\n",
       "    </tr>\n",
       "    <tr>\n",
       "      <th>2626</th>\n",
       "      <td>NaN</td>\n",
       "      <td>51.0</td>\n",
       "      <td>255000</td>\n",
       "      <td>Lyon8</td>\n",
       "    </tr>\n",
       "    <tr>\n",
       "      <th>3011</th>\n",
       "      <td>NaN</td>\n",
       "      <td>135.0</td>\n",
       "      <td>899000</td>\n",
       "      <td>Lyon2</td>\n",
       "    </tr>\n",
       "    <tr>\n",
       "      <th>3033</th>\n",
       "      <td>NaN</td>\n",
       "      <td>100.0</td>\n",
       "      <td>470000</td>\n",
       "      <td>Lyon6</td>\n",
       "    </tr>\n",
       "    <tr>\n",
       "      <th>3155</th>\n",
       "      <td>NaN</td>\n",
       "      <td>53.0</td>\n",
       "      <td>375000</td>\n",
       "      <td>Lyon1</td>\n",
       "    </tr>\n",
       "    <tr>\n",
       "      <th>3233</th>\n",
       "      <td>NaN</td>\n",
       "      <td>95.0</td>\n",
       "      <td>450000</td>\n",
       "      <td>Lyon1</td>\n",
       "    </tr>\n",
       "  </tbody>\n",
       "</table>\n",
       "</div>"
      ],
      "text/plain": [
       "      nombre_chambres  surface  prix_achat localisation\n",
       "169               NaN    135.0      897000        Lyon6\n",
       "316               NaN     63.0      331000        Lyon6\n",
       "373               NaN     73.0      315000        Lyon1\n",
       "1269              NaN     85.0      535563        Lyon1\n",
       "1866              NaN     51.0      265000        Lyon7\n",
       "1870              NaN     85.0      435000        Lyon4\n",
       "1899              NaN     62.0      439000        Lyon1\n",
       "2236              NaN     71.0      495000        Lyon3\n",
       "2382              NaN    119.0      599000        Lyon9\n",
       "2422              NaN     90.0      450000        Lyon1\n",
       "2577              NaN    109.0      450000        Lyon9\n",
       "2626              NaN     51.0      255000        Lyon8\n",
       "3011              NaN    135.0      899000        Lyon2\n",
       "3033              NaN    100.0      470000        Lyon6\n",
       "3155              NaN     53.0      375000        Lyon1\n",
       "3233              NaN     95.0      450000        Lyon1"
      ]
     },
     "execution_count": 208,
     "metadata": {},
     "output_type": "execute_result"
    }
   ],
   "source": [
    "df_nan_absurdo"
   ]
  },
  {
   "cell_type": "code",
   "execution_count": 209,
   "metadata": {
    "Collapsed": "false"
   },
   "outputs": [
    {
     "data": {
      "text/html": [
       "<div>\n",
       "<style scoped>\n",
       "    .dataframe tbody tr th:only-of-type {\n",
       "        vertical-align: middle;\n",
       "    }\n",
       "\n",
       "    .dataframe tbody tr th {\n",
       "        vertical-align: top;\n",
       "    }\n",
       "\n",
       "    .dataframe thead th {\n",
       "        text-align: right;\n",
       "    }\n",
       "</style>\n",
       "<table border=\"1\" class=\"dataframe\">\n",
       "  <thead>\n",
       "    <tr style=\"text-align: right;\">\n",
       "      <th></th>\n",
       "      <th>nombre_chambres</th>\n",
       "      <th>surface</th>\n",
       "      <th>prix_achat</th>\n",
       "      <th>localisation</th>\n",
       "    </tr>\n",
       "  </thead>\n",
       "  <tbody>\n",
       "    <tr>\n",
       "      <th>8</th>\n",
       "      <td>3.0</td>\n",
       "      <td>150.0</td>\n",
       "      <td>749000</td>\n",
       "      <td>Lyon9</td>\n",
       "    </tr>\n",
       "    <tr>\n",
       "      <th>9</th>\n",
       "      <td>3.0</td>\n",
       "      <td>93.0</td>\n",
       "      <td>345000</td>\n",
       "      <td>Lyon8</td>\n",
       "    </tr>\n",
       "    <tr>\n",
       "      <th>10</th>\n",
       "      <td>1.0</td>\n",
       "      <td>47.0</td>\n",
       "      <td>339000</td>\n",
       "      <td>Lyon1</td>\n",
       "    </tr>\n",
       "    <tr>\n",
       "      <th>11</th>\n",
       "      <td>3.0</td>\n",
       "      <td>94.0</td>\n",
       "      <td>494400</td>\n",
       "      <td>Lyon4</td>\n",
       "    </tr>\n",
       "    <tr>\n",
       "      <th>13</th>\n",
       "      <td>3.0</td>\n",
       "      <td>81.0</td>\n",
       "      <td>364000</td>\n",
       "      <td>Lyon3</td>\n",
       "    </tr>\n",
       "    <tr>\n",
       "      <th>...</th>\n",
       "      <td>...</td>\n",
       "      <td>...</td>\n",
       "      <td>...</td>\n",
       "      <td>...</td>\n",
       "    </tr>\n",
       "    <tr>\n",
       "      <th>3228</th>\n",
       "      <td>1.0</td>\n",
       "      <td>55.0</td>\n",
       "      <td>507720</td>\n",
       "      <td>Lyon2</td>\n",
       "    </tr>\n",
       "    <tr>\n",
       "      <th>3229</th>\n",
       "      <td>2.0</td>\n",
       "      <td>71.0</td>\n",
       "      <td>365000</td>\n",
       "      <td>Lyon7</td>\n",
       "    </tr>\n",
       "    <tr>\n",
       "      <th>3230</th>\n",
       "      <td>2.0</td>\n",
       "      <td>62.0</td>\n",
       "      <td>328000</td>\n",
       "      <td>Lyon9</td>\n",
       "    </tr>\n",
       "    <tr>\n",
       "      <th>3231</th>\n",
       "      <td>5.0</td>\n",
       "      <td>220.0</td>\n",
       "      <td>1485000</td>\n",
       "      <td>Lyon2</td>\n",
       "    </tr>\n",
       "    <tr>\n",
       "      <th>3232</th>\n",
       "      <td>4.0</td>\n",
       "      <td>170.0</td>\n",
       "      <td>1750000</td>\n",
       "      <td>Lyon6</td>\n",
       "    </tr>\n",
       "  </tbody>\n",
       "</table>\n",
       "<p>1852 rows × 4 columns</p>\n",
       "</div>"
      ],
      "text/plain": [
       "      nombre_chambres  surface  prix_achat localisation\n",
       "8                 3.0    150.0      749000        Lyon9\n",
       "9                 3.0     93.0      345000        Lyon8\n",
       "10                1.0     47.0      339000        Lyon1\n",
       "11                3.0     94.0      494400        Lyon4\n",
       "13                3.0     81.0      364000        Lyon3\n",
       "...               ...      ...         ...          ...\n",
       "3228              1.0     55.0      507720        Lyon2\n",
       "3229              2.0     71.0      365000        Lyon7\n",
       "3230              2.0     62.0      328000        Lyon9\n",
       "3231              5.0    220.0     1485000        Lyon2\n",
       "3232              4.0    170.0     1750000        Lyon6\n",
       "\n",
       "[1852 rows x 4 columns]"
      ]
     },
     "execution_count": 209,
     "metadata": {},
     "output_type": "execute_result"
    }
   ],
   "source": [
    "df_prep = pd.concat([data_selct, df_nan_absurdo]).drop_duplicates(keep=False)\n",
    "df_prep"
   ]
  },
  {
   "cell_type": "code",
   "execution_count": 210,
   "metadata": {
    "Collapsed": "false"
   },
   "outputs": [],
   "source": [
    "df_prep.fillna(value=0.5,inplace=True)"
   ]
  },
  {
   "cell_type": "code",
   "execution_count": 211,
   "metadata": {
    "Collapsed": "false"
   },
   "outputs": [
    {
     "data": {
      "text/plain": [
       "array([ 3. ,  1. ,  2. ,  5. ,  4. ,  0.5,  6. ,  7. , 11. , 14. ])"
      ]
     },
     "execution_count": 211,
     "metadata": {},
     "output_type": "execute_result"
    }
   ],
   "source": [
    "df_prep['nombre_chambres'].unique()"
   ]
  },
  {
   "cell_type": "code",
   "execution_count": 212,
   "metadata": {
    "Collapsed": "false"
   },
   "outputs": [
    {
     "data": {
      "text/html": [
       "<div>\n",
       "<style scoped>\n",
       "    .dataframe tbody tr th:only-of-type {\n",
       "        vertical-align: middle;\n",
       "    }\n",
       "\n",
       "    .dataframe tbody tr th {\n",
       "        vertical-align: top;\n",
       "    }\n",
       "\n",
       "    .dataframe thead th {\n",
       "        text-align: right;\n",
       "    }\n",
       "</style>\n",
       "<table border=\"1\" class=\"dataframe\">\n",
       "  <thead>\n",
       "    <tr style=\"text-align: right;\">\n",
       "      <th></th>\n",
       "      <th>nombre_chambres</th>\n",
       "      <th>surface</th>\n",
       "      <th>prix_achat</th>\n",
       "      <th>localisation</th>\n",
       "    </tr>\n",
       "  </thead>\n",
       "  <tbody>\n",
       "    <tr>\n",
       "      <th>8</th>\n",
       "      <td>3.0</td>\n",
       "      <td>150.0</td>\n",
       "      <td>749000</td>\n",
       "      <td>Lyon9</td>\n",
       "    </tr>\n",
       "    <tr>\n",
       "      <th>9</th>\n",
       "      <td>3.0</td>\n",
       "      <td>93.0</td>\n",
       "      <td>345000</td>\n",
       "      <td>Lyon8</td>\n",
       "    </tr>\n",
       "    <tr>\n",
       "      <th>10</th>\n",
       "      <td>1.0</td>\n",
       "      <td>47.0</td>\n",
       "      <td>339000</td>\n",
       "      <td>Lyon1</td>\n",
       "    </tr>\n",
       "    <tr>\n",
       "      <th>11</th>\n",
       "      <td>3.0</td>\n",
       "      <td>94.0</td>\n",
       "      <td>494400</td>\n",
       "      <td>Lyon4</td>\n",
       "    </tr>\n",
       "    <tr>\n",
       "      <th>13</th>\n",
       "      <td>3.0</td>\n",
       "      <td>81.0</td>\n",
       "      <td>364000</td>\n",
       "      <td>Lyon3</td>\n",
       "    </tr>\n",
       "    <tr>\n",
       "      <th>...</th>\n",
       "      <td>...</td>\n",
       "      <td>...</td>\n",
       "      <td>...</td>\n",
       "      <td>...</td>\n",
       "    </tr>\n",
       "    <tr>\n",
       "      <th>3228</th>\n",
       "      <td>1.0</td>\n",
       "      <td>55.0</td>\n",
       "      <td>507720</td>\n",
       "      <td>Lyon2</td>\n",
       "    </tr>\n",
       "    <tr>\n",
       "      <th>3229</th>\n",
       "      <td>2.0</td>\n",
       "      <td>71.0</td>\n",
       "      <td>365000</td>\n",
       "      <td>Lyon7</td>\n",
       "    </tr>\n",
       "    <tr>\n",
       "      <th>3230</th>\n",
       "      <td>2.0</td>\n",
       "      <td>62.0</td>\n",
       "      <td>328000</td>\n",
       "      <td>Lyon9</td>\n",
       "    </tr>\n",
       "    <tr>\n",
       "      <th>3231</th>\n",
       "      <td>5.0</td>\n",
       "      <td>220.0</td>\n",
       "      <td>1485000</td>\n",
       "      <td>Lyon2</td>\n",
       "    </tr>\n",
       "    <tr>\n",
       "      <th>3232</th>\n",
       "      <td>4.0</td>\n",
       "      <td>170.0</td>\n",
       "      <td>1750000</td>\n",
       "      <td>Lyon6</td>\n",
       "    </tr>\n",
       "  </tbody>\n",
       "</table>\n",
       "<p>1852 rows × 4 columns</p>\n",
       "</div>"
      ],
      "text/plain": [
       "      nombre_chambres  surface  prix_achat localisation\n",
       "8                 3.0    150.0      749000        Lyon9\n",
       "9                 3.0     93.0      345000        Lyon8\n",
       "10                1.0     47.0      339000        Lyon1\n",
       "11                3.0     94.0      494400        Lyon4\n",
       "13                3.0     81.0      364000        Lyon3\n",
       "...               ...      ...         ...          ...\n",
       "3228              1.0     55.0      507720        Lyon2\n",
       "3229              2.0     71.0      365000        Lyon7\n",
       "3230              2.0     62.0      328000        Lyon9\n",
       "3231              5.0    220.0     1485000        Lyon2\n",
       "3232              4.0    170.0     1750000        Lyon6\n",
       "\n",
       "[1852 rows x 4 columns]"
      ]
     },
     "execution_count": 212,
     "metadata": {},
     "output_type": "execute_result"
    }
   ],
   "source": [
    "df_prep"
   ]
  },
  {
   "cell_type": "code",
   "execution_count": 213,
   "metadata": {
    "Collapsed": "false"
   },
   "outputs": [
    {
     "data": {
      "text/plain": [
       "Text(0, 0.5, 'Prix')"
      ]
     },
     "execution_count": 213,
     "metadata": {},
     "output_type": "execute_result"
    },
    {
     "data": {
      "image/png": "[encoded data removed]",
      "text/plain": [
       "<Figure size 432x288 with 1 Axes>"
      ]
     },
     "metadata": {
      "needs_background": "light"
     },
     "output_type": "display_data"
    }
   ],
   "source": [
    "plt.scatter(df_prep['nombre_chambres'], df_prep['prix_achat'])\n",
    "plt.xlabel('Nb de chambres ')\n",
    "plt.ylabel('Prix')\n"
   ]
  },
  {
   "cell_type": "code",
   "execution_count": 214,
   "metadata": {
    "Collapsed": "false"
   },
   "outputs": [
    {
     "data": {
      "text/plain": [
       "Text(0, 0.5, 'Prix')"
      ]
     },
     "execution_count": 214,
     "metadata": {},
     "output_type": "execute_result"
    },
    {
     "data": {
      "image/png": "[encoded data removed]",
      "text/plain": [
       "<Figure size 432x288 with 1 Axes>"
      ]
     },
     "metadata": {
      "needs_background": "light"
     },
     "output_type": "display_data"
    }
   ],
   "source": [
    "plt.scatter(df_prep['surface'], df_prep['prix_achat'])\n",
    "plt.xlabel('Surface')\n",
    "plt.ylabel('Prix')\n"
   ]
  },
  {
   "cell_type": "markdown",
   "metadata": {
    "Collapsed": "false"
   },
   "source": [
    "### take off the outlier"
   ]
  },
  {
   "cell_type": "code",
   "execution_count": 215,
   "metadata": {
    "Collapsed": "false"
   },
   "outputs": [
    {
     "data": {
      "text/html": [
       "<div>\n",
       "<style scoped>\n",
       "    .dataframe tbody tr th:only-of-type {\n",
       "        vertical-align: middle;\n",
       "    }\n",
       "\n",
       "    .dataframe tbody tr th {\n",
       "        vertical-align: top;\n",
       "    }\n",
       "\n",
       "    .dataframe thead th {\n",
       "        text-align: right;\n",
       "    }\n",
       "</style>\n",
       "<table border=\"1\" class=\"dataframe\">\n",
       "  <thead>\n",
       "    <tr style=\"text-align: right;\">\n",
       "      <th></th>\n",
       "      <th>nombre_chambres</th>\n",
       "      <th>surface</th>\n",
       "      <th>prix_achat</th>\n",
       "      <th>localisation</th>\n",
       "    </tr>\n",
       "  </thead>\n",
       "  <tbody>\n",
       "    <tr>\n",
       "      <th>788</th>\n",
       "      <td>3.0</td>\n",
       "      <td>265.0</td>\n",
       "      <td>1050000</td>\n",
       "      <td>Lyon4</td>\n",
       "    </tr>\n",
       "    <tr>\n",
       "      <th>1074</th>\n",
       "      <td>5.0</td>\n",
       "      <td>352.0</td>\n",
       "      <td>2400000</td>\n",
       "      <td>Lyon2</td>\n",
       "    </tr>\n",
       "    <tr>\n",
       "      <th>1105</th>\n",
       "      <td>6.0</td>\n",
       "      <td>364.0</td>\n",
       "      <td>734000</td>\n",
       "      <td>Lyon8</td>\n",
       "    </tr>\n",
       "    <tr>\n",
       "      <th>1239</th>\n",
       "      <td>5.0</td>\n",
       "      <td>285.0</td>\n",
       "      <td>1950000</td>\n",
       "      <td>Lyon3</td>\n",
       "    </tr>\n",
       "    <tr>\n",
       "      <th>1827</th>\n",
       "      <td>3.0</td>\n",
       "      <td>267.0</td>\n",
       "      <td>3300000</td>\n",
       "      <td>Lyon6</td>\n",
       "    </tr>\n",
       "    <tr>\n",
       "      <th>2507</th>\n",
       "      <td>4.0</td>\n",
       "      <td>329.0</td>\n",
       "      <td>2980000</td>\n",
       "      <td>Lyon2</td>\n",
       "    </tr>\n",
       "    <tr>\n",
       "      <th>2854</th>\n",
       "      <td>7.0</td>\n",
       "      <td>363.0</td>\n",
       "      <td>2300000</td>\n",
       "      <td>Lyon4</td>\n",
       "    </tr>\n",
       "    <tr>\n",
       "      <th>3007</th>\n",
       "      <td>3.0</td>\n",
       "      <td>276.0</td>\n",
       "      <td>1050000</td>\n",
       "      <td>Lyon4</td>\n",
       "    </tr>\n",
       "  </tbody>\n",
       "</table>\n",
       "</div>"
      ],
      "text/plain": [
       "      nombre_chambres  surface  prix_achat localisation\n",
       "788               3.0    265.0     1050000        Lyon4\n",
       "1074              5.0    352.0     2400000        Lyon2\n",
       "1105              6.0    364.0      734000        Lyon8\n",
       "1239              5.0    285.0     1950000        Lyon3\n",
       "1827              3.0    267.0     3300000        Lyon6\n",
       "2507              4.0    329.0     2980000        Lyon2\n",
       "2854              7.0    363.0     2300000        Lyon4\n",
       "3007              3.0    276.0     1050000        Lyon4"
      ]
     },
     "execution_count": 215,
     "metadata": {},
     "output_type": "execute_result"
    }
   ],
   "source": [
    "df_surface_absurdo = df_prep[df_prep['surface']>250]\n",
    "df_surface_absurdo"
   ]
  },
  {
   "cell_type": "code",
   "execution_count": 216,
   "metadata": {
    "Collapsed": "false"
   },
   "outputs": [
    {
     "data": {
      "text/html": [
       "<div>\n",
       "<style scoped>\n",
       "    .dataframe tbody tr th:only-of-type {\n",
       "        vertical-align: middle;\n",
       "    }\n",
       "\n",
       "    .dataframe tbody tr th {\n",
       "        vertical-align: top;\n",
       "    }\n",
       "\n",
       "    .dataframe thead th {\n",
       "        text-align: right;\n",
       "    }\n",
       "</style>\n",
       "<table border=\"1\" class=\"dataframe\">\n",
       "  <thead>\n",
       "    <tr style=\"text-align: right;\">\n",
       "      <th></th>\n",
       "      <th>nombre_chambres</th>\n",
       "      <th>surface</th>\n",
       "      <th>prix_achat</th>\n",
       "      <th>localisation</th>\n",
       "    </tr>\n",
       "  </thead>\n",
       "  <tbody>\n",
       "    <tr>\n",
       "      <th>3109</th>\n",
       "      <td>11.0</td>\n",
       "      <td>44.0</td>\n",
       "      <td>229900</td>\n",
       "      <td>Lyon9</td>\n",
       "    </tr>\n",
       "    <tr>\n",
       "      <th>3166</th>\n",
       "      <td>14.0</td>\n",
       "      <td>44.0</td>\n",
       "      <td>222900</td>\n",
       "      <td>Lyon9</td>\n",
       "    </tr>\n",
       "  </tbody>\n",
       "</table>\n",
       "</div>"
      ],
      "text/plain": [
       "      nombre_chambres  surface  prix_achat localisation\n",
       "3109             11.0     44.0      229900        Lyon9\n",
       "3166             14.0     44.0      222900        Lyon9"
      ]
     },
     "execution_count": 216,
     "metadata": {},
     "output_type": "execute_result"
    }
   ],
   "source": [
    "df_chambre_absurdo = df_prep[df_prep['nombre_chambres']>10]\n",
    "df_chambre_absurdo"
   ]
  },
  {
   "cell_type": "code",
   "execution_count": 217,
   "metadata": {
    "Collapsed": "false"
   },
   "outputs": [
    {
     "data": {
      "text/html": [
       "<div>\n",
       "<style scoped>\n",
       "    .dataframe tbody tr th:only-of-type {\n",
       "        vertical-align: middle;\n",
       "    }\n",
       "\n",
       "    .dataframe tbody tr th {\n",
       "        vertical-align: top;\n",
       "    }\n",
       "\n",
       "    .dataframe thead th {\n",
       "        text-align: right;\n",
       "    }\n",
       "</style>\n",
       "<table border=\"1\" class=\"dataframe\">\n",
       "  <thead>\n",
       "    <tr style=\"text-align: right;\">\n",
       "      <th></th>\n",
       "      <th>nombre_chambres</th>\n",
       "      <th>surface</th>\n",
       "      <th>prix_achat</th>\n",
       "      <th>localisation</th>\n",
       "    </tr>\n",
       "  </thead>\n",
       "  <tbody>\n",
       "    <tr>\n",
       "      <th>8</th>\n",
       "      <td>3.0</td>\n",
       "      <td>150.0</td>\n",
       "      <td>749000</td>\n",
       "      <td>Lyon9</td>\n",
       "    </tr>\n",
       "    <tr>\n",
       "      <th>9</th>\n",
       "      <td>3.0</td>\n",
       "      <td>93.0</td>\n",
       "      <td>345000</td>\n",
       "      <td>Lyon8</td>\n",
       "    </tr>\n",
       "    <tr>\n",
       "      <th>10</th>\n",
       "      <td>1.0</td>\n",
       "      <td>47.0</td>\n",
       "      <td>339000</td>\n",
       "      <td>Lyon1</td>\n",
       "    </tr>\n",
       "    <tr>\n",
       "      <th>11</th>\n",
       "      <td>3.0</td>\n",
       "      <td>94.0</td>\n",
       "      <td>494400</td>\n",
       "      <td>Lyon4</td>\n",
       "    </tr>\n",
       "    <tr>\n",
       "      <th>13</th>\n",
       "      <td>3.0</td>\n",
       "      <td>81.0</td>\n",
       "      <td>364000</td>\n",
       "      <td>Lyon3</td>\n",
       "    </tr>\n",
       "    <tr>\n",
       "      <th>...</th>\n",
       "      <td>...</td>\n",
       "      <td>...</td>\n",
       "      <td>...</td>\n",
       "      <td>...</td>\n",
       "    </tr>\n",
       "    <tr>\n",
       "      <th>3228</th>\n",
       "      <td>1.0</td>\n",
       "      <td>55.0</td>\n",
       "      <td>507720</td>\n",
       "      <td>Lyon2</td>\n",
       "    </tr>\n",
       "    <tr>\n",
       "      <th>3229</th>\n",
       "      <td>2.0</td>\n",
       "      <td>71.0</td>\n",
       "      <td>365000</td>\n",
       "      <td>Lyon7</td>\n",
       "    </tr>\n",
       "    <tr>\n",
       "      <th>3230</th>\n",
       "      <td>2.0</td>\n",
       "      <td>62.0</td>\n",
       "      <td>328000</td>\n",
       "      <td>Lyon9</td>\n",
       "    </tr>\n",
       "    <tr>\n",
       "      <th>3231</th>\n",
       "      <td>5.0</td>\n",
       "      <td>220.0</td>\n",
       "      <td>1485000</td>\n",
       "      <td>Lyon2</td>\n",
       "    </tr>\n",
       "    <tr>\n",
       "      <th>3232</th>\n",
       "      <td>4.0</td>\n",
       "      <td>170.0</td>\n",
       "      <td>1750000</td>\n",
       "      <td>Lyon6</td>\n",
       "    </tr>\n",
       "  </tbody>\n",
       "</table>\n",
       "<p>1844 rows × 4 columns</p>\n",
       "</div>"
      ],
      "text/plain": [
       "      nombre_chambres  surface  prix_achat localisation\n",
       "8                 3.0    150.0      749000        Lyon9\n",
       "9                 3.0     93.0      345000        Lyon8\n",
       "10                1.0     47.0      339000        Lyon1\n",
       "11                3.0     94.0      494400        Lyon4\n",
       "13                3.0     81.0      364000        Lyon3\n",
       "...               ...      ...         ...          ...\n",
       "3228              1.0     55.0      507720        Lyon2\n",
       "3229              2.0     71.0      365000        Lyon7\n",
       "3230              2.0     62.0      328000        Lyon9\n",
       "3231              5.0    220.0     1485000        Lyon2\n",
       "3232              4.0    170.0     1750000        Lyon6\n",
       "\n",
       "[1844 rows x 4 columns]"
      ]
     },
     "execution_count": 217,
     "metadata": {},
     "output_type": "execute_result"
    }
   ],
   "source": [
    "df = pd.concat([df_prep, df_surface_absurdo]).drop_duplicates(keep=False)\n",
    "df"
   ]
  },
  {
   "cell_type": "code",
   "execution_count": 218,
   "metadata": {
    "Collapsed": "false"
   },
   "outputs": [
    {
     "data": {
      "text/html": [
       "<div>\n",
       "<style scoped>\n",
       "    .dataframe tbody tr th:only-of-type {\n",
       "        vertical-align: middle;\n",
       "    }\n",
       "\n",
       "    .dataframe tbody tr th {\n",
       "        vertical-align: top;\n",
       "    }\n",
       "\n",
       "    .dataframe thead th {\n",
       "        text-align: right;\n",
       "    }\n",
       "</style>\n",
       "<table border=\"1\" class=\"dataframe\">\n",
       "  <thead>\n",
       "    <tr style=\"text-align: right;\">\n",
       "      <th></th>\n",
       "      <th>nombre_chambres</th>\n",
       "      <th>surface</th>\n",
       "      <th>prix_achat</th>\n",
       "      <th>localisation</th>\n",
       "    </tr>\n",
       "  </thead>\n",
       "  <tbody>\n",
       "    <tr>\n",
       "      <th>8</th>\n",
       "      <td>3.0</td>\n",
       "      <td>150.0</td>\n",
       "      <td>749000</td>\n",
       "      <td>Lyon9</td>\n",
       "    </tr>\n",
       "    <tr>\n",
       "      <th>9</th>\n",
       "      <td>3.0</td>\n",
       "      <td>93.0</td>\n",
       "      <td>345000</td>\n",
       "      <td>Lyon8</td>\n",
       "    </tr>\n",
       "    <tr>\n",
       "      <th>10</th>\n",
       "      <td>1.0</td>\n",
       "      <td>47.0</td>\n",
       "      <td>339000</td>\n",
       "      <td>Lyon1</td>\n",
       "    </tr>\n",
       "    <tr>\n",
       "      <th>11</th>\n",
       "      <td>3.0</td>\n",
       "      <td>94.0</td>\n",
       "      <td>494400</td>\n",
       "      <td>Lyon4</td>\n",
       "    </tr>\n",
       "    <tr>\n",
       "      <th>13</th>\n",
       "      <td>3.0</td>\n",
       "      <td>81.0</td>\n",
       "      <td>364000</td>\n",
       "      <td>Lyon3</td>\n",
       "    </tr>\n",
       "    <tr>\n",
       "      <th>...</th>\n",
       "      <td>...</td>\n",
       "      <td>...</td>\n",
       "      <td>...</td>\n",
       "      <td>...</td>\n",
       "    </tr>\n",
       "    <tr>\n",
       "      <th>3228</th>\n",
       "      <td>1.0</td>\n",
       "      <td>55.0</td>\n",
       "      <td>507720</td>\n",
       "      <td>Lyon2</td>\n",
       "    </tr>\n",
       "    <tr>\n",
       "      <th>3229</th>\n",
       "      <td>2.0</td>\n",
       "      <td>71.0</td>\n",
       "      <td>365000</td>\n",
       "      <td>Lyon7</td>\n",
       "    </tr>\n",
       "    <tr>\n",
       "      <th>3230</th>\n",
       "      <td>2.0</td>\n",
       "      <td>62.0</td>\n",
       "      <td>328000</td>\n",
       "      <td>Lyon9</td>\n",
       "    </tr>\n",
       "    <tr>\n",
       "      <th>3231</th>\n",
       "      <td>5.0</td>\n",
       "      <td>220.0</td>\n",
       "      <td>1485000</td>\n",
       "      <td>Lyon2</td>\n",
       "    </tr>\n",
       "    <tr>\n",
       "      <th>3232</th>\n",
       "      <td>4.0</td>\n",
       "      <td>170.0</td>\n",
       "      <td>1750000</td>\n",
       "      <td>Lyon6</td>\n",
       "    </tr>\n",
       "  </tbody>\n",
       "</table>\n",
       "<p>1842 rows × 4 columns</p>\n",
       "</div>"
      ],
      "text/plain": [
       "      nombre_chambres  surface  prix_achat localisation\n",
       "8                 3.0    150.0      749000        Lyon9\n",
       "9                 3.0     93.0      345000        Lyon8\n",
       "10                1.0     47.0      339000        Lyon1\n",
       "11                3.0     94.0      494400        Lyon4\n",
       "13                3.0     81.0      364000        Lyon3\n",
       "...               ...      ...         ...          ...\n",
       "3228              1.0     55.0      507720        Lyon2\n",
       "3229              2.0     71.0      365000        Lyon7\n",
       "3230              2.0     62.0      328000        Lyon9\n",
       "3231              5.0    220.0     1485000        Lyon2\n",
       "3232              4.0    170.0     1750000        Lyon6\n",
       "\n",
       "[1842 rows x 4 columns]"
      ]
     },
     "execution_count": 218,
     "metadata": {},
     "output_type": "execute_result"
    }
   ],
   "source": [
    "df = pd.concat([df, df_chambre_absurdo]).drop_duplicates(keep=False)\n",
    "df"
   ]
  },
  {
   "cell_type": "code",
   "execution_count": 219,
   "metadata": {
    "Collapsed": "false"
   },
   "outputs": [
    {
     "data": {
      "text/plain": [
       "<seaborn.axisgrid.FacetGrid at 0x7ff3004526d8>"
      ]
     },
     "execution_count": 219,
     "metadata": {},
     "output_type": "execute_result"
    },
    {
     "data": {
      "image/png": "[encoded data removed]",
      "text/plain": [
       "<Figure size 360x360 with 1 Axes>"
      ]
     },
     "metadata": {
      "needs_background": "light"
     },
     "output_type": "display_data"
    }
   ],
   "source": [
    "sns.catplot(x='nombre_chambres', kind='count', data=df)"
   ]
  },
  {
   "cell_type": "code",
   "execution_count": 220,
   "metadata": {
    "Collapsed": "false"
   },
   "outputs": [
    {
     "data": {
      "text/plain": [
       "<AxesSubplot:>"
      ]
     },
     "execution_count": 220,
     "metadata": {},
     "output_type": "execute_result"
    },
    {
     "data": {
      "image/png": "[encoded data removed]",
      "text/plain": [
       "<Figure size 432x288 with 1 Axes>"
      ]
     },
     "metadata": {
      "needs_background": "light"
     },
     "output_type": "display_data"
    }
   ],
   "source": [
    "df['surface'].hist(bins = 10)"
   ]
  },
  {
   "cell_type": "code",
   "execution_count": 221,
   "metadata": {
    "Collapsed": "false"
   },
   "outputs": [
    {
     "name": "stderr",
     "output_type": "stream",
     "text": [
      "/home/yann/anaconda3/lib/python3.7/site-packages/seaborn/distributions.py:305: UserWarning: Dataset has 0 variance; skipping density estimate.\n",
      "  warnings.warn(msg, UserWarning)\n"
     ]
    },
    {
     "data": {
      "text/plain": [
       "<seaborn.axisgrid.PairGrid at 0x7ff30033cbe0>"
      ]
     },
     "execution_count": 221,
     "metadata": {},
     "output_type": "execute_result"
    },
    {
     "data": {
      "image/png": "[encoded data removed]",
      "text/plain": [
       "<Figure size 626.625x540 with 12 Axes>"
      ]
     },
     "metadata": {
      "needs_background": "light"
     },
     "output_type": "display_data"
    }
   ],
   "source": [
    "sns.pairplot(df,hue='localisation')"
   ]
  },
  {
   "cell_type": "code",
   "execution_count": 222,
   "metadata": {
    "Collapsed": "false"
   },
   "outputs": [
    {
     "data": {
      "text/html": [
       "<div>\n",
       "<style scoped>\n",
       "    .dataframe tbody tr th:only-of-type {\n",
       "        vertical-align: middle;\n",
       "    }\n",
       "\n",
       "    .dataframe tbody tr th {\n",
       "        vertical-align: top;\n",
       "    }\n",
       "\n",
       "    .dataframe thead th {\n",
       "        text-align: right;\n",
       "    }\n",
       "</style>\n",
       "<table border=\"1\" class=\"dataframe\">\n",
       "  <thead>\n",
       "    <tr style=\"text-align: right;\">\n",
       "      <th></th>\n",
       "      <th>surface</th>\n",
       "      <th>prix_achat</th>\n",
       "      <th>localisation</th>\n",
       "    </tr>\n",
       "    <tr>\n",
       "      <th>nombre_chambres</th>\n",
       "      <th></th>\n",
       "      <th></th>\n",
       "      <th></th>\n",
       "    </tr>\n",
       "  </thead>\n",
       "  <tbody>\n",
       "    <tr>\n",
       "      <th>0.5</th>\n",
       "      <td>218</td>\n",
       "      <td>218</td>\n",
       "      <td>218</td>\n",
       "    </tr>\n",
       "    <tr>\n",
       "      <th>1.0</th>\n",
       "      <td>408</td>\n",
       "      <td>408</td>\n",
       "      <td>408</td>\n",
       "    </tr>\n",
       "    <tr>\n",
       "      <th>2.0</th>\n",
       "      <td>622</td>\n",
       "      <td>622</td>\n",
       "      <td>622</td>\n",
       "    </tr>\n",
       "    <tr>\n",
       "      <th>3.0</th>\n",
       "      <td>418</td>\n",
       "      <td>418</td>\n",
       "      <td>418</td>\n",
       "    </tr>\n",
       "    <tr>\n",
       "      <th>4.0</th>\n",
       "      <td>138</td>\n",
       "      <td>138</td>\n",
       "      <td>138</td>\n",
       "    </tr>\n",
       "    <tr>\n",
       "      <th>5.0</th>\n",
       "      <td>31</td>\n",
       "      <td>31</td>\n",
       "      <td>31</td>\n",
       "    </tr>\n",
       "    <tr>\n",
       "      <th>6.0</th>\n",
       "      <td>6</td>\n",
       "      <td>6</td>\n",
       "      <td>6</td>\n",
       "    </tr>\n",
       "    <tr>\n",
       "      <th>7.0</th>\n",
       "      <td>1</td>\n",
       "      <td>1</td>\n",
       "      <td>1</td>\n",
       "    </tr>\n",
       "  </tbody>\n",
       "</table>\n",
       "</div>"
      ],
      "text/plain": [
       "                 surface  prix_achat  localisation\n",
       "nombre_chambres                                   \n",
       "0.5                  218         218           218\n",
       "1.0                  408         408           408\n",
       "2.0                  622         622           622\n",
       "3.0                  418         418           418\n",
       "4.0                  138         138           138\n",
       "5.0                   31          31            31\n",
       "6.0                    6           6             6\n",
       "7.0                    1           1             1"
      ]
     },
     "execution_count": 222,
     "metadata": {},
     "output_type": "execute_result"
    }
   ],
   "source": [
    "df.groupby('nombre_chambres').count()\n"
   ]
  },
  {
   "cell_type": "code",
   "execution_count": 223,
   "metadata": {
    "Collapsed": "false"
   },
   "outputs": [],
   "source": [
    "df.to_pickle(\"dataframe.pickle\")"
   ]
  },
  {
   "cell_type": "code",
   "execution_count": 224,
   "metadata": {
    "Collapsed": "false"
   },
   "outputs": [
    {
     "data": {
      "text/plain": [
       "nombre_chambres    float64\n",
       "surface            float64\n",
       "prix_achat           int64\n",
       "localisation        object\n",
       "dtype: object"
      ]
     },
     "execution_count": 224,
     "metadata": {},
     "output_type": "execute_result"
    }
   ],
   "source": [
    "df.dtypes"
   ]
  },
  {
   "cell_type": "markdown",
   "metadata": {
    "Collapsed": "false"
   },
   "source": [
    "# Train a model"
   ]
  },
  {
   "cell_type": "code",
   "execution_count": 225,
   "metadata": {
    "Collapsed": "false"
   },
   "outputs": [
    {
     "data": {
      "text/html": [
       "<div>\n",
       "<style scoped>\n",
       "    .dataframe tbody tr th:only-of-type {\n",
       "        vertical-align: middle;\n",
       "    }\n",
       "\n",
       "    .dataframe tbody tr th {\n",
       "        vertical-align: top;\n",
       "    }\n",
       "\n",
       "    .dataframe thead th {\n",
       "        text-align: right;\n",
       "    }\n",
       "</style>\n",
       "<table border=\"1\" class=\"dataframe\">\n",
       "  <thead>\n",
       "    <tr style=\"text-align: right;\">\n",
       "      <th></th>\n",
       "      <th>nombre_chambres</th>\n",
       "      <th>surface</th>\n",
       "      <th>prix_achat</th>\n",
       "      <th>localisation</th>\n",
       "    </tr>\n",
       "  </thead>\n",
       "  <tbody>\n",
       "    <tr>\n",
       "      <th>8</th>\n",
       "      <td>3.0</td>\n",
       "      <td>150.0</td>\n",
       "      <td>749000</td>\n",
       "      <td>Lyon9</td>\n",
       "    </tr>\n",
       "    <tr>\n",
       "      <th>9</th>\n",
       "      <td>3.0</td>\n",
       "      <td>93.0</td>\n",
       "      <td>345000</td>\n",
       "      <td>Lyon8</td>\n",
       "    </tr>\n",
       "    <tr>\n",
       "      <th>10</th>\n",
       "      <td>1.0</td>\n",
       "      <td>47.0</td>\n",
       "      <td>339000</td>\n",
       "      <td>Lyon1</td>\n",
       "    </tr>\n",
       "    <tr>\n",
       "      <th>11</th>\n",
       "      <td>3.0</td>\n",
       "      <td>94.0</td>\n",
       "      <td>494400</td>\n",
       "      <td>Lyon4</td>\n",
       "    </tr>\n",
       "    <tr>\n",
       "      <th>13</th>\n",
       "      <td>3.0</td>\n",
       "      <td>81.0</td>\n",
       "      <td>364000</td>\n",
       "      <td>Lyon3</td>\n",
       "    </tr>\n",
       "    <tr>\n",
       "      <th>...</th>\n",
       "      <td>...</td>\n",
       "      <td>...</td>\n",
       "      <td>...</td>\n",
       "      <td>...</td>\n",
       "    </tr>\n",
       "    <tr>\n",
       "      <th>3228</th>\n",
       "      <td>1.0</td>\n",
       "      <td>55.0</td>\n",
       "      <td>507720</td>\n",
       "      <td>Lyon2</td>\n",
       "    </tr>\n",
       "    <tr>\n",
       "      <th>3229</th>\n",
       "      <td>2.0</td>\n",
       "      <td>71.0</td>\n",
       "      <td>365000</td>\n",
       "      <td>Lyon7</td>\n",
       "    </tr>\n",
       "    <tr>\n",
       "      <th>3230</th>\n",
       "      <td>2.0</td>\n",
       "      <td>62.0</td>\n",
       "      <td>328000</td>\n",
       "      <td>Lyon9</td>\n",
       "    </tr>\n",
       "    <tr>\n",
       "      <th>3231</th>\n",
       "      <td>5.0</td>\n",
       "      <td>220.0</td>\n",
       "      <td>1485000</td>\n",
       "      <td>Lyon2</td>\n",
       "    </tr>\n",
       "    <tr>\n",
       "      <th>3232</th>\n",
       "      <td>4.0</td>\n",
       "      <td>170.0</td>\n",
       "      <td>1750000</td>\n",
       "      <td>Lyon6</td>\n",
       "    </tr>\n",
       "  </tbody>\n",
       "</table>\n",
       "<p>1842 rows × 4 columns</p>\n",
       "</div>"
      ],
      "text/plain": [
       "      nombre_chambres  surface  prix_achat localisation\n",
       "8                 3.0    150.0      749000        Lyon9\n",
       "9                 3.0     93.0      345000        Lyon8\n",
       "10                1.0     47.0      339000        Lyon1\n",
       "11                3.0     94.0      494400        Lyon4\n",
       "13                3.0     81.0      364000        Lyon3\n",
       "...               ...      ...         ...          ...\n",
       "3228              1.0     55.0      507720        Lyon2\n",
       "3229              2.0     71.0      365000        Lyon7\n",
       "3230              2.0     62.0      328000        Lyon9\n",
       "3231              5.0    220.0     1485000        Lyon2\n",
       "3232              4.0    170.0     1750000        Lyon6\n",
       "\n",
       "[1842 rows x 4 columns]"
      ]
     },
     "execution_count": 225,
     "metadata": {},
     "output_type": "execute_result"
    }
   ],
   "source": [
    "df"
   ]
  },
  {
   "cell_type": "code",
   "execution_count": 233,
   "metadata": {
    "Collapsed": "false"
   },
   "outputs": [
    {
     "data": {
      "text/html": [
       "<div>\n",
       "<style scoped>\n",
       "    .dataframe tbody tr th:only-of-type {\n",
       "        vertical-align: middle;\n",
       "    }\n",
       "\n",
       "    .dataframe tbody tr th {\n",
       "        vertical-align: top;\n",
       "    }\n",
       "\n",
       "    .dataframe thead th {\n",
       "        text-align: right;\n",
       "    }\n",
       "</style>\n",
       "<table border=\"1\" class=\"dataframe\">\n",
       "  <thead>\n",
       "    <tr style=\"text-align: right;\">\n",
       "      <th></th>\n",
       "      <th>nombre_chambres</th>\n",
       "      <th>surface</th>\n",
       "      <th>prix_achat</th>\n",
       "      <th>localisation</th>\n",
       "    </tr>\n",
       "  </thead>\n",
       "  <tbody>\n",
       "    <tr>\n",
       "      <th>8</th>\n",
       "      <td>0.384615</td>\n",
       "      <td>0.616379</td>\n",
       "      <td>749000</td>\n",
       "      <td>Lyon9</td>\n",
       "    </tr>\n",
       "    <tr>\n",
       "      <th>9</th>\n",
       "      <td>0.384615</td>\n",
       "      <td>0.370690</td>\n",
       "      <td>345000</td>\n",
       "      <td>Lyon8</td>\n",
       "    </tr>\n",
       "    <tr>\n",
       "      <th>10</th>\n",
       "      <td>0.076923</td>\n",
       "      <td>0.172414</td>\n",
       "      <td>339000</td>\n",
       "      <td>Lyon1</td>\n",
       "    </tr>\n",
       "    <tr>\n",
       "      <th>11</th>\n",
       "      <td>0.384615</td>\n",
       "      <td>0.375000</td>\n",
       "      <td>494400</td>\n",
       "      <td>Lyon4</td>\n",
       "    </tr>\n",
       "    <tr>\n",
       "      <th>13</th>\n",
       "      <td>0.384615</td>\n",
       "      <td>0.318966</td>\n",
       "      <td>364000</td>\n",
       "      <td>Lyon3</td>\n",
       "    </tr>\n",
       "    <tr>\n",
       "      <th>...</th>\n",
       "      <td>...</td>\n",
       "      <td>...</td>\n",
       "      <td>...</td>\n",
       "      <td>...</td>\n",
       "    </tr>\n",
       "    <tr>\n",
       "      <th>3228</th>\n",
       "      <td>0.076923</td>\n",
       "      <td>0.206897</td>\n",
       "      <td>507720</td>\n",
       "      <td>Lyon2</td>\n",
       "    </tr>\n",
       "    <tr>\n",
       "      <th>3229</th>\n",
       "      <td>0.230769</td>\n",
       "      <td>0.275862</td>\n",
       "      <td>365000</td>\n",
       "      <td>Lyon7</td>\n",
       "    </tr>\n",
       "    <tr>\n",
       "      <th>3230</th>\n",
       "      <td>0.230769</td>\n",
       "      <td>0.237069</td>\n",
       "      <td>328000</td>\n",
       "      <td>Lyon9</td>\n",
       "    </tr>\n",
       "    <tr>\n",
       "      <th>3231</th>\n",
       "      <td>0.692308</td>\n",
       "      <td>0.918103</td>\n",
       "      <td>1485000</td>\n",
       "      <td>Lyon2</td>\n",
       "    </tr>\n",
       "    <tr>\n",
       "      <th>3232</th>\n",
       "      <td>0.538462</td>\n",
       "      <td>0.702586</td>\n",
       "      <td>1750000</td>\n",
       "      <td>Lyon6</td>\n",
       "    </tr>\n",
       "  </tbody>\n",
       "</table>\n",
       "<p>1842 rows × 4 columns</p>\n",
       "</div>"
      ],
      "text/plain": [
       "      nombre_chambres   surface  prix_achat localisation\n",
       "8            0.384615  0.616379      749000        Lyon9\n",
       "9            0.384615  0.370690      345000        Lyon8\n",
       "10           0.076923  0.172414      339000        Lyon1\n",
       "11           0.384615  0.375000      494400        Lyon4\n",
       "13           0.384615  0.318966      364000        Lyon3\n",
       "...               ...       ...         ...          ...\n",
       "3228         0.076923  0.206897      507720        Lyon2\n",
       "3229         0.230769  0.275862      365000        Lyon7\n",
       "3230         0.230769  0.237069      328000        Lyon9\n",
       "3231         0.692308  0.918103     1485000        Lyon2\n",
       "3232         0.538462  0.702586     1750000        Lyon6\n",
       "\n",
       "[1842 rows x 4 columns]"
      ]
     },
     "execution_count": 233,
     "metadata": {},
     "output_type": "execute_result"
    }
   ],
   "source": [
    "scaler = MinMaxScaler() \n",
    "df_scal = scaler.fit_transform(df[['nombre_chambres', 'surface']])\n",
    "df[['nombre_chambres', 'surface']] = df_scal\n",
    "df"
   ]
  },
  {
   "cell_type": "code",
   "execution_count": 234,
   "metadata": {
    "Collapsed": "false"
   },
   "outputs": [
    {
     "data": {
      "text/plain": [
       "((1842, 12), (1842,))"
      ]
     },
     "execution_count": 234,
     "metadata": {},
     "output_type": "execute_result"
    }
   ],
   "source": [
    "scaler = MinMaxScaler() \n",
    "X = df_loc.loc[:, df_loc.columns != 'prix_achat']\n",
    "Y = df_loc['prix_achat']\n",
    "X.shape, Y.shape"
   ]
  },
  {
   "cell_type": "code",
   "execution_count": 235,
   "metadata": {
    "Collapsed": "false"
   },
   "outputs": [
    {
     "data": {
      "text/html": [
       "<div>\n",
       "<style scoped>\n",
       "    .dataframe tbody tr th:only-of-type {\n",
       "        vertical-align: middle;\n",
       "    }\n",
       "\n",
       "    .dataframe tbody tr th {\n",
       "        vertical-align: top;\n",
       "    }\n",
       "\n",
       "    .dataframe thead th {\n",
       "        text-align: right;\n",
       "    }\n",
       "</style>\n",
       "<table border=\"1\" class=\"dataframe\">\n",
       "  <thead>\n",
       "    <tr style=\"text-align: right;\">\n",
       "      <th></th>\n",
       "      <th>nombre_chambres</th>\n",
       "      <th>surface</th>\n",
       "      <th>prix_achat</th>\n",
       "      <th>Lyon1</th>\n",
       "      <th>Lyon2</th>\n",
       "      <th>Lyon3</th>\n",
       "      <th>Lyon4</th>\n",
       "      <th>Lyon5</th>\n",
       "      <th>Lyon6</th>\n",
       "      <th>Lyon7</th>\n",
       "      <th>Lyon8</th>\n",
       "      <th>Lyon9</th>\n",
       "      <th>Périphérie</th>\n",
       "    </tr>\n",
       "  </thead>\n",
       "  <tbody>\n",
       "    <tr>\n",
       "      <th>8</th>\n",
       "      <td>0.384615</td>\n",
       "      <td>0.616379</td>\n",
       "      <td>749000</td>\n",
       "      <td>0</td>\n",
       "      <td>0</td>\n",
       "      <td>0</td>\n",
       "      <td>0</td>\n",
       "      <td>0</td>\n",
       "      <td>0</td>\n",
       "      <td>0</td>\n",
       "      <td>0</td>\n",
       "      <td>1</td>\n",
       "      <td>0</td>\n",
       "    </tr>\n",
       "    <tr>\n",
       "      <th>9</th>\n",
       "      <td>0.384615</td>\n",
       "      <td>0.370690</td>\n",
       "      <td>345000</td>\n",
       "      <td>0</td>\n",
       "      <td>0</td>\n",
       "      <td>0</td>\n",
       "      <td>0</td>\n",
       "      <td>0</td>\n",
       "      <td>0</td>\n",
       "      <td>0</td>\n",
       "      <td>1</td>\n",
       "      <td>0</td>\n",
       "      <td>0</td>\n",
       "    </tr>\n",
       "    <tr>\n",
       "      <th>10</th>\n",
       "      <td>0.076923</td>\n",
       "      <td>0.172414</td>\n",
       "      <td>339000</td>\n",
       "      <td>1</td>\n",
       "      <td>0</td>\n",
       "      <td>0</td>\n",
       "      <td>0</td>\n",
       "      <td>0</td>\n",
       "      <td>0</td>\n",
       "      <td>0</td>\n",
       "      <td>0</td>\n",
       "      <td>0</td>\n",
       "      <td>0</td>\n",
       "    </tr>\n",
       "    <tr>\n",
       "      <th>11</th>\n",
       "      <td>0.384615</td>\n",
       "      <td>0.375000</td>\n",
       "      <td>494400</td>\n",
       "      <td>0</td>\n",
       "      <td>0</td>\n",
       "      <td>0</td>\n",
       "      <td>1</td>\n",
       "      <td>0</td>\n",
       "      <td>0</td>\n",
       "      <td>0</td>\n",
       "      <td>0</td>\n",
       "      <td>0</td>\n",
       "      <td>0</td>\n",
       "    </tr>\n",
       "    <tr>\n",
       "      <th>13</th>\n",
       "      <td>0.384615</td>\n",
       "      <td>0.318966</td>\n",
       "      <td>364000</td>\n",
       "      <td>0</td>\n",
       "      <td>0</td>\n",
       "      <td>1</td>\n",
       "      <td>0</td>\n",
       "      <td>0</td>\n",
       "      <td>0</td>\n",
       "      <td>0</td>\n",
       "      <td>0</td>\n",
       "      <td>0</td>\n",
       "      <td>0</td>\n",
       "    </tr>\n",
       "    <tr>\n",
       "      <th>...</th>\n",
       "      <td>...</td>\n",
       "      <td>...</td>\n",
       "      <td>...</td>\n",
       "      <td>...</td>\n",
       "      <td>...</td>\n",
       "      <td>...</td>\n",
       "      <td>...</td>\n",
       "      <td>...</td>\n",
       "      <td>...</td>\n",
       "      <td>...</td>\n",
       "      <td>...</td>\n",
       "      <td>...</td>\n",
       "      <td>...</td>\n",
       "    </tr>\n",
       "    <tr>\n",
       "      <th>3228</th>\n",
       "      <td>0.076923</td>\n",
       "      <td>0.206897</td>\n",
       "      <td>507720</td>\n",
       "      <td>0</td>\n",
       "      <td>1</td>\n",
       "      <td>0</td>\n",
       "      <td>0</td>\n",
       "      <td>0</td>\n",
       "      <td>0</td>\n",
       "      <td>0</td>\n",
       "      <td>0</td>\n",
       "      <td>0</td>\n",
       "      <td>0</td>\n",
       "    </tr>\n",
       "    <tr>\n",
       "      <th>3229</th>\n",
       "      <td>0.230769</td>\n",
       "      <td>0.275862</td>\n",
       "      <td>365000</td>\n",
       "      <td>0</td>\n",
       "      <td>0</td>\n",
       "      <td>0</td>\n",
       "      <td>0</td>\n",
       "      <td>0</td>\n",
       "      <td>0</td>\n",
       "      <td>1</td>\n",
       "      <td>0</td>\n",
       "      <td>0</td>\n",
       "      <td>0</td>\n",
       "    </tr>\n",
       "    <tr>\n",
       "      <th>3230</th>\n",
       "      <td>0.230769</td>\n",
       "      <td>0.237069</td>\n",
       "      <td>328000</td>\n",
       "      <td>0</td>\n",
       "      <td>0</td>\n",
       "      <td>0</td>\n",
       "      <td>0</td>\n",
       "      <td>0</td>\n",
       "      <td>0</td>\n",
       "      <td>0</td>\n",
       "      <td>0</td>\n",
       "      <td>1</td>\n",
       "      <td>0</td>\n",
       "    </tr>\n",
       "    <tr>\n",
       "      <th>3231</th>\n",
       "      <td>0.692308</td>\n",
       "      <td>0.918103</td>\n",
       "      <td>1485000</td>\n",
       "      <td>0</td>\n",
       "      <td>1</td>\n",
       "      <td>0</td>\n",
       "      <td>0</td>\n",
       "      <td>0</td>\n",
       "      <td>0</td>\n",
       "      <td>0</td>\n",
       "      <td>0</td>\n",
       "      <td>0</td>\n",
       "      <td>0</td>\n",
       "    </tr>\n",
       "    <tr>\n",
       "      <th>3232</th>\n",
       "      <td>0.538462</td>\n",
       "      <td>0.702586</td>\n",
       "      <td>1750000</td>\n",
       "      <td>0</td>\n",
       "      <td>0</td>\n",
       "      <td>0</td>\n",
       "      <td>0</td>\n",
       "      <td>0</td>\n",
       "      <td>1</td>\n",
       "      <td>0</td>\n",
       "      <td>0</td>\n",
       "      <td>0</td>\n",
       "      <td>0</td>\n",
       "    </tr>\n",
       "  </tbody>\n",
       "</table>\n",
       "<p>1842 rows × 13 columns</p>\n",
       "</div>"
      ],
      "text/plain": [
       "      nombre_chambres   surface  prix_achat  Lyon1  Lyon2  Lyon3  Lyon4  \\\n",
       "8            0.384615  0.616379      749000      0      0      0      0   \n",
       "9            0.384615  0.370690      345000      0      0      0      0   \n",
       "10           0.076923  0.172414      339000      1      0      0      0   \n",
       "11           0.384615  0.375000      494400      0      0      0      1   \n",
       "13           0.384615  0.318966      364000      0      0      1      0   \n",
       "...               ...       ...         ...    ...    ...    ...    ...   \n",
       "3228         0.076923  0.206897      507720      0      1      0      0   \n",
       "3229         0.230769  0.275862      365000      0      0      0      0   \n",
       "3230         0.230769  0.237069      328000      0      0      0      0   \n",
       "3231         0.692308  0.918103     1485000      0      1      0      0   \n",
       "3232         0.538462  0.702586     1750000      0      0      0      0   \n",
       "\n",
       "      Lyon5  Lyon6  Lyon7  Lyon8  Lyon9  Périphérie  \n",
       "8         0      0      0      0      1           0  \n",
       "9         0      0      0      1      0           0  \n",
       "10        0      0      0      0      0           0  \n",
       "11        0      0      0      0      0           0  \n",
       "13        0      0      0      0      0           0  \n",
       "...     ...    ...    ...    ...    ...         ...  \n",
       "3228      0      0      0      0      0           0  \n",
       "3229      0      0      1      0      0           0  \n",
       "3230      0      0      0      0      1           0  \n",
       "3231      0      0      0      0      0           0  \n",
       "3232      0      1      0      0      0           0  \n",
       "\n",
       "[1842 rows x 13 columns]"
      ]
     },
     "execution_count": 235,
     "metadata": {},
     "output_type": "execute_result"
    }
   ],
   "source": [
    "df_loc = df.merge(pd.get_dummies(df['localisation']), left_index=True, right_index=True)\n",
    "df_loc.drop(columns='localisation', inplace=True)\n",
    "df_loc"
   ]
  },
  {
   "cell_type": "code",
   "execution_count": 236,
   "metadata": {
    "Collapsed": "false"
   },
   "outputs": [
    {
     "data": {
      "text/plain": [
       "((1842, 12), (1842,))"
      ]
     },
     "execution_count": 236,
     "metadata": {},
     "output_type": "execute_result"
    }
   ],
   "source": [
    "X = df_loc.loc[:, df_loc.columns != 'prix_achat']\n",
    "Y = df_loc['prix_achat']\n",
    "X.shape, Y.shape\n"
   ]
  },
  {
   "cell_type": "code",
   "execution_count": 237,
   "metadata": {
    "Collapsed": "false"
   },
   "outputs": [
    {
     "name": "stdout",
     "output_type": "stream",
     "text": [
      "(1381, 12)\n",
      "(461, 12)\n",
      "(1381,)\n",
      "(461,)\n"
     ]
    }
   ],
   "source": [
    "X_train, X_test, y_train, y_test = train_test_split(X, Y, test_size=0.25, random_state=16)\n",
    "print(X_train.shape)\n",
    "print(X_test.shape)\n",
    "print(y_train.shape)\n",
    "print(y_test.shape)"
   ]
  },
  {
   "cell_type": "code",
   "execution_count": 238,
   "metadata": {
    "Collapsed": "false"
   },
   "outputs": [
    {
     "data": {
      "text/plain": [
       "LinearRegression(copy_X=True, fit_intercept=True, n_jobs=None, normalize=False)"
      ]
     },
     "execution_count": 238,
     "metadata": {},
     "output_type": "execute_result"
    }
   ],
   "source": [
    "model = linear_model.LinearRegression()\n",
    "model.fit(X_train,y_train)"
   ]
  },
  {
   "cell_type": "code",
   "execution_count": 239,
   "metadata": {
    "Collapsed": "false"
   },
   "outputs": [],
   "source": [
    "predictions = model.predict(X_test)"
   ]
  },
  {
   "cell_type": "code",
   "execution_count": 240,
   "metadata": {
    "Collapsed": "false"
   },
   "outputs": [
    {
     "name": "stdout",
     "output_type": "stream",
     "text": [
      "29343.46758099523\n"
     ]
    }
   ],
   "source": [
    "# print the intercept\n",
    "print(model.intercept_)"
   ]
  },
  {
   "cell_type": "markdown",
   "metadata": {
    "Collapsed": "false"
   },
   "source": [
    "The MSE d'enculé !!!"
   ]
  },
  {
   "cell_type": "code",
   "execution_count": 241,
   "metadata": {
    "Collapsed": "false"
   },
   "outputs": [
    {
     "name": "stdout",
     "output_type": "stream",
     "text": [
      "Mean squared error: 13045265640.86\n",
      "Coefficient of determination: 0.81\n"
     ]
    }
   ],
   "source": [
    "# The mean squared error\n",
    "print('Mean squared error: %.2f'\n",
    "      % mean_squared_error(y_test, predictions))\n",
    "# The coefficient of determination: 1 is perfect prediction\n",
    "print('Coefficient of determination: %.2f'\n",
    "      % r2_score(y_test, predictions))\n",
    "print('MAE: %.2f'\n",
    "      % mean_absolute_error(y_test, predictions))"
   ]
  },
  {
   "cell_type": "code",
   "execution_count": 242,
   "metadata": {
    "Collapsed": "false"
   },
   "outputs": [
    {
     "data": {
      "text/html": [
       "<div>\n",
       "<style scoped>\n",
       "    .dataframe tbody tr th:only-of-type {\n",
       "        vertical-align: middle;\n",
       "    }\n",
       "\n",
       "    .dataframe tbody tr th {\n",
       "        vertical-align: top;\n",
       "    }\n",
       "\n",
       "    .dataframe thead th {\n",
       "        text-align: right;\n",
       "    }\n",
       "</style>\n",
       "<table border=\"1\" class=\"dataframe\">\n",
       "  <thead>\n",
       "    <tr style=\"text-align: right;\">\n",
       "      <th></th>\n",
       "      <th>Coefficient</th>\n",
       "    </tr>\n",
       "  </thead>\n",
       "  <tbody>\n",
       "    <tr>\n",
       "      <th>nombre_chambres</th>\n",
       "      <td>-1.238614e+05</td>\n",
       "    </tr>\n",
       "    <tr>\n",
       "      <th>surface</th>\n",
       "      <td>1.414604e+06</td>\n",
       "    </tr>\n",
       "    <tr>\n",
       "      <th>Lyon1</th>\n",
       "      <td>1.598077e+04</td>\n",
       "    </tr>\n",
       "    <tr>\n",
       "      <th>Lyon2</th>\n",
       "      <td>1.204505e+05</td>\n",
       "    </tr>\n",
       "    <tr>\n",
       "      <th>Lyon3</th>\n",
       "      <td>3.065672e+03</td>\n",
       "    </tr>\n",
       "    <tr>\n",
       "      <th>Lyon4</th>\n",
       "      <td>2.680540e+04</td>\n",
       "    </tr>\n",
       "    <tr>\n",
       "      <th>Lyon5</th>\n",
       "      <td>-2.631293e+04</td>\n",
       "    </tr>\n",
       "    <tr>\n",
       "      <th>Lyon6</th>\n",
       "      <td>1.007686e+05</td>\n",
       "    </tr>\n",
       "    <tr>\n",
       "      <th>Lyon7</th>\n",
       "      <td>-1.046110e+04</td>\n",
       "    </tr>\n",
       "    <tr>\n",
       "      <th>Lyon8</th>\n",
       "      <td>-3.666311e+04</td>\n",
       "    </tr>\n",
       "    <tr>\n",
       "      <th>Lyon9</th>\n",
       "      <td>-3.194543e+04</td>\n",
       "    </tr>\n",
       "    <tr>\n",
       "      <th>Périphérie</th>\n",
       "      <td>-1.616884e+05</td>\n",
       "    </tr>\n",
       "  </tbody>\n",
       "</table>\n",
       "</div>"
      ],
      "text/plain": [
       "                  Coefficient\n",
       "nombre_chambres -1.238614e+05\n",
       "surface          1.414604e+06\n",
       "Lyon1            1.598077e+04\n",
       "Lyon2            1.204505e+05\n",
       "Lyon3            3.065672e+03\n",
       "Lyon4            2.680540e+04\n",
       "Lyon5           -2.631293e+04\n",
       "Lyon6            1.007686e+05\n",
       "Lyon7           -1.046110e+04\n",
       "Lyon8           -3.666311e+04\n",
       "Lyon9           -3.194543e+04\n",
       "Périphérie      -1.616884e+05"
      ]
     },
     "execution_count": 242,
     "metadata": {},
     "output_type": "execute_result"
    }
   ],
   "source": [
    "coeff_parameter = pd.DataFrame(model.coef_,X.columns,columns=['Coefficient'])\n",
    "coeff_parameter"
   ]
  },
  {
   "cell_type": "code",
   "execution_count": 243,
   "metadata": {
    "Collapsed": "false"
   },
   "outputs": [],
   "source": [
    "predictions = model.predict(X_test)\n"
   ]
  },
  {
   "cell_type": "code",
   "execution_count": 244,
   "metadata": {
    "Collapsed": "false"
   },
   "outputs": [
    {
     "data": {
      "image/png": "[encoded data removed]",
      "text/plain": [
       "<Figure size 432x288 with 1 Axes>"
      ]
     },
     "metadata": {
      "needs_background": "light"
     },
     "output_type": "display_data"
    }
   ],
   "source": [
    "plt.scatter(y_test, predictions, cmap='red', s = 10)\n",
    "plt.xlabel('True Values')\n",
    "plt.ylabel('Predictions Values')\n",
    "plt.axis('equal')\n",
    "plt.axis('square')\n",
    "droite = plt.plot([-10000000,10000000], [-10000000,10000000])"
   ]
  },
  {
   "cell_type": "code",
   "execution_count": 245,
   "metadata": {
    "Collapsed": "false"
   },
   "outputs": [
    {
     "name": "stderr",
     "output_type": "stream",
     "text": [
      "/home/yann/anaconda3/lib/python3.7/site-packages/seaborn/_decorators.py:43: FutureWarning: Pass the following variables as keyword args: x, y. From version 0.12, the only valid positional argument will be `data`, and passing other arguments without an explicit keyword will result in an error or misinterpretation.\n",
      "  FutureWarning\n"
     ]
    },
    {
     "data": {
      "text/plain": [
       "<AxesSubplot:xlabel='prix_achat'>"
      ]
     },
     "execution_count": 245,
     "metadata": {},
     "output_type": "execute_result"
    },
    {
     "data": {
      "image/png": "[encoded data removed]",
      "text/plain": [
       "<Figure size 432x288 with 1 Axes>"
      ]
     },
     "metadata": {
      "needs_background": "light"
     },
     "output_type": "display_data"
    }
   ],
   "source": [
    "sns.regplot(y_test,predictions)"
   ]
  },
  {
   "cell_type": "code",
   "execution_count": 246,
   "metadata": {
    "Collapsed": "false"
   },
   "outputs": [
    {
     "name": "stdout",
     "output_type": "stream",
     "text": [
      "                            OLS Regression Results                            \n",
      "==============================================================================\n",
      "Dep. Variable:             prix_achat   R-squared:                       0.810\n",
      "Model:                            OLS   Adj. R-squared:                  0.808\n",
      "Method:                 Least Squares   F-statistic:                     529.7\n",
      "Date:                Wed, 24 Mar 2021   Prob (F-statistic):               0.00\n",
      "Time:                        01:36:15   Log-Likelihood:                -18011.\n",
      "No. Observations:                1381   AIC:                         3.605e+04\n",
      "Df Residuals:                    1369   BIC:                         3.611e+04\n",
      "Df Model:                          11                                         \n",
      "Covariance Type:            nonrobust                                         \n",
      "===================================================================================\n",
      "                      coef    std err          t      P>|t|      [0.025      0.975]\n",
      "-----------------------------------------------------------------------------------\n",
      "const            2.668e+04    1.2e+04      2.229      0.026    3196.962    5.02e+04\n",
      "nombre_chambres -1.239e+05    3.3e+04     -3.755      0.000   -1.89e+05   -5.91e+04\n",
      "surface          1.415e+06   3.47e+04     40.798      0.000    1.35e+06    1.48e+06\n",
      "Lyon1            1.865e+04   1.37e+04      1.358      0.175   -8291.408    4.56e+04\n",
      "Lyon2            1.231e+05   1.39e+04      8.846      0.000    9.58e+04     1.5e+05\n",
      "Lyon3            5733.2599   1.23e+04      0.466      0.641   -1.84e+04    2.99e+04\n",
      "Lyon4            2.947e+04   1.47e+04      2.011      0.045     719.590    5.82e+04\n",
      "Lyon5           -2.365e+04   1.38e+04     -1.710      0.087   -5.08e+04    3479.053\n",
      "Lyon6            1.034e+05   1.36e+04      7.633      0.000    7.69e+04     1.3e+05\n",
      "Lyon7           -7793.5154   1.31e+04     -0.597      0.551   -3.34e+04    1.78e+04\n",
      "Lyon8             -3.4e+04   1.28e+04     -2.654      0.008   -5.91e+04   -8871.730\n",
      "Lyon9           -2.928e+04    1.4e+04     -2.094      0.036   -5.67e+04   -1854.569\n",
      "Périphérie       -1.59e+05   1.02e+05     -1.558      0.120   -3.59e+05    4.12e+04\n",
      "==============================================================================\n",
      "Omnibus:                      266.700   Durbin-Watson:                   2.036\n",
      "Prob(Omnibus):                  0.000   Jarque-Bera (JB):             1339.636\n",
      "Skew:                           0.809   Prob(JB):                    1.26e-291\n",
      "Kurtosis:                       7.546   Cond. No.                     8.56e+15\n",
      "==============================================================================\n",
      "\n",
      "Warnings:\n",
      "[1] Standard Errors assume that the covariance matrix of the errors is correctly specified.\n",
      "[2] The smallest eigenvalue is 2.4e-29. This might indicate that there are\n",
      "strong multicollinearity problems or that the design matrix is singular.\n"
     ]
    },
    {
     "name": "stderr",
     "output_type": "stream",
     "text": [
      "/home/yann/anaconda3/lib/python3.7/site-packages/numpy/core/fromnumeric.py:2389: FutureWarning: Method .ptp is deprecated and will be removed in a future version. Use numpy.ptp instead.\n",
      "  return ptp(axis=axis, out=out, **kwargs)\n"
     ]
    }
   ],
   "source": [
    "import statsmodels.api as sm\n",
    "X_train_Sm= sm.add_constant(X_train)\n",
    "X_train_Sm= sm.add_constant(X_train)\n",
    "ls=sm.OLS(y_train,X_train_Sm).fit()\n",
    "print(ls.summary())"
   ]
  },
  {
   "cell_type": "code",
   "execution_count": null,
   "metadata": {
    "Collapsed": "false"
   },
   "outputs": [],
   "source": []
  },
  {
   "cell_type": "code",
   "execution_count": null,
   "metadata": {
    "Collapsed": "false"
   },
   "outputs": [],
   "source": []
  },
  {
   "cell_type": "code",
   "execution_count": null,
   "metadata": {
    "Collapsed": "false"
   },
   "outputs": [],
   "source": [
    "tpot = TPOTRegressor(generations=50, population_size=20, verbosity=2, max_eval_time_mins=2, n_jobs=4)\n",
    "tpot.fit(X_train, y_train)"
   ]
  },
  {
   "cell_type": "code",
   "execution_count": null,
   "metadata": {
    "Collapsed": "false"
   },
   "outputs": [],
   "source": [
    "print(tpot.score(X_test, y_test))\n",
    "tpot.export('tpot_torino_pipeline.py')"
   ]
  },
  {
   "cell_type": "code",
   "execution_count": null,
   "metadata": {
    "Collapsed": "false"
   },
   "outputs": [],
   "source": []
  },
  {
   "cell_type": "code",
   "execution_count": 247,
   "metadata": {
    "Collapsed": "false"
   },
   "outputs": [],
   "source": [
    "def build_model() :\n",
    "    model = keras.Sequential([\n",
    "        layers.Dense(64, activation=tf.nn.relu, input_shape=[len(pd.DataFrame(X_train).keys())]),\n",
    "        layers.Dense(64, activation=tf.nn.relu),\n",
    "        layers.Dense(1)\n",
    "    ])\n",
    "    \n",
    "    optimizer = tf.keras.optimizers.RMSprop(0.001)\n",
    "    \n",
    "    model.compile(loss='mse',\n",
    "                 optimizer=optimizer,\n",
    "                 metrics=['mae','mse'])\n",
    "    \n",
    "    return model"
   ]
  },
  {
   "cell_type": "code",
   "execution_count": 248,
   "metadata": {
    "Collapsed": "false"
   },
   "outputs": [],
   "source": [
    "model = build_model()"
   ]
  },
  {
   "cell_type": "code",
   "execution_count": 249,
   "metadata": {
    "Collapsed": "false"
   },
   "outputs": [
    {
     "name": "stdout",
     "output_type": "stream",
     "text": [
      "Model: \"sequential_1\"\n",
      "_________________________________________________________________\n",
      "Layer (type)                 Output Shape              Param #   \n",
      "=================================================================\n",
      "dense_3 (Dense)              (None, 64)                832       \n",
      "_________________________________________________________________\n",
      "dense_4 (Dense)              (None, 64)                4160      \n",
      "_________________________________________________________________\n",
      "dense_5 (Dense)              (None, 1)                 65        \n",
      "=================================================================\n",
      "Total params: 5,057\n",
      "Trainable params: 5,057\n",
      "Non-trainable params: 0\n",
      "_________________________________________________________________\n"
     ]
    }
   ],
   "source": [
    "model.summary()"
   ]
  },
  {
   "cell_type": "code",
   "execution_count": 250,
   "metadata": {
    "Collapsed": "false"
   },
   "outputs": [],
   "source": [
    "class ShowModelProgression(keras.callbacks.Callback):\n",
    "    def on_epoch_end(self, epoch, logs):\n",
    "        if epoch % 100 == 0: print('')\n",
    "        print('.', end=\"\")"
   ]
  },
  {
   "cell_type": "code",
   "execution_count": 251,
   "metadata": {
    "Collapsed": "false"
   },
   "outputs": [],
   "source": [
    "early_stop = keras.callbacks.EarlyStopping(monitor='val_loss', patience = 10)"
   ]
  },
  {
   "cell_type": "code",
   "execution_count": 252,
   "metadata": {
    "Collapsed": "false"
   },
   "outputs": [
    {
     "name": "stderr",
     "output_type": "stream",
     "text": [
      "WARNING:tensorflow:Falling back from v2 loop because of error: Failed to find data adapter that can handle input: <class 'pandas.core.frame.DataFrame'>, <class 'NoneType'>\n"
     ]
    },
    {
     "name": "stdout",
     "output_type": "stream",
     "text": [
      "\n",
      "....................................................................................................\n",
      "....................................................................................................\n",
      "....................................................................................................\n",
      "....................................................................................................\n",
      "....................................................................................................\n",
      "....................................................................................................\n",
      "....................................................................................................\n",
      "....................................................................................................\n",
      "....................................................................................................\n",
      "....................................................................................................\n",
      "....................................................................................................\n",
      "....................................................................................................\n",
      "....................................................................................................\n",
      "....................................................................................................\n",
      "...................................."
     ]
    }
   ],
   "source": [
    "history = model.fit(\n",
    "    X_train.astype(np.float32), y_train,\n",
    "    epochs=10000, validation_split = 0.2, verbose = 0, callbacks=[early_stop, ShowModelProgression()])"
   ]
  },
  {
   "cell_type": "code",
   "execution_count": 253,
   "metadata": {
    "Collapsed": "false"
   },
   "outputs": [
    {
     "data": {
      "text/plain": [
       "1436"
      ]
     },
     "execution_count": 253,
     "metadata": {},
     "output_type": "execute_result"
    }
   ],
   "source": [
    "len(history.epoch)"
   ]
  },
  {
   "cell_type": "code",
   "execution_count": 254,
   "metadata": {
    "Collapsed": "false"
   },
   "outputs": [],
   "source": [
    "def plot_history(history):\n",
    "    hist = pd.DataFrame(history.history)\n",
    "    hist['epoch'] = history.epoch\n",
    "    plt.figure()\n",
    "    plt.xlabel('Epoch')\n",
    "    plt.ylabel('Error [MPG] Mean Absolute')\n",
    "    plt.plot(hist['epoch'], hist['mae'], label='Train Error')\n",
    "    plt.plot(hist['epoch'], hist['val_mae'], label='Val Error')\n",
    "    plt.legend()\n",
    "    plt.grid(True)\n",
    "    \n",
    "    plt.figure()\n",
    "    plt.xlabel('Epoch')\n",
    "    plt.ylabel('Error [MPG] Mean Square')\n",
    "    plt.plot(hist['epoch'], hist['mse'], label='Train Error')\n",
    "    plt.plot(hist['epoch'], hist['val_mse'], label='Val Error')\n",
    "    plt.legend()\n",
    "    plt.grid(True)"
   ]
  },
  {
   "cell_type": "code",
   "execution_count": 255,
   "metadata": {
    "Collapsed": "false"
   },
   "outputs": [
    {
     "data": {
      "image/png": "[encoded data removed]",
      "text/plain": [
       "<Figure size 432x288 with 1 Axes>"
      ]
     },
     "metadata": {
      "needs_background": "light"
     },
     "output_type": "display_data"
    },
    {
     "data": {
      "image/png": "[encoded data removed]",
      "text/plain": [
       "<Figure size 432x288 with 1 Axes>"
      ]
     },
     "metadata": {
      "needs_background": "light"
     },
     "output_type": "display_data"
    }
   ],
   "source": [
    "plot_history(history)"
   ]
  },
  {
   "cell_type": "code",
   "execution_count": 256,
   "metadata": {
    "Collapsed": "false"
   },
   "outputs": [
    {
     "name": "stderr",
     "output_type": "stream",
     "text": [
      "WARNING:tensorflow:Falling back from v2 loop because of error: Failed to find data adapter that can handle input: <class 'pandas.core.frame.DataFrame'>, <class 'NoneType'>\n"
     ]
    },
    {
     "name": "stdout",
     "output_type": "stream",
     "text": [
      "Testing set Mean squared Error 13442408448.0\n"
     ]
    }
   ],
   "source": [
    "loss, mae, mse = model.evaluate(X_test.astype(np.float32), y_test.astype(np.float32), verbose = 0)\n",
    "print(f\"Testing set Mean squared Error {mse}\")"
   ]
  },
  {
   "cell_type": "code",
   "execution_count": 257,
   "metadata": {
    "Collapsed": "false"
   },
   "outputs": [],
   "source": [
    "test_predictions = model.predict(X_test.values.astype(np.float32)).flatten()"
   ]
  },
  {
   "cell_type": "code",
   "execution_count": 258,
   "metadata": {
    "Collapsed": "false"
   },
   "outputs": [
    {
     "data": {
      "image/png": "[encoded data removed]",
      "text/plain": [
       "<Figure size 432x288 with 1 Axes>"
      ]
     },
     "metadata": {
      "needs_background": "light"
     },
     "output_type": "display_data"
    }
   ],
   "source": [
    "plt.scatter(y_test, test_predictions)\n",
    "plt.xlabel('True Values')\n",
    "plt.ylabel('Predictions Values')\n",
    "plt.axis('equal')\n",
    "plt.axis('square')\n",
    "droite = plt.plot([-10000000,10000000], [-10000000,10000000])"
   ]
  },
  {
   "cell_type": "markdown",
   "metadata": {
    "Collapsed": "false"
   },
   "source": [
    "### Sans la localisation"
   ]
  },
  {
   "cell_type": "code",
   "execution_count": 259,
   "metadata": {
    "Collapsed": "false"
   },
   "outputs": [
    {
     "data": {
      "text/plain": [
       "((1842, 2), (1842,))"
      ]
     },
     "execution_count": 259,
     "metadata": {},
     "output_type": "execute_result"
    }
   ],
   "source": [
    "X = df.drop(['prix_achat', 'localisation'], axis=1)\n",
    "Y = df['prix_achat']\n",
    "X.shape, Y.shape\n"
   ]
  },
  {
   "cell_type": "code",
   "execution_count": 260,
   "metadata": {
    "Collapsed": "false"
   },
   "outputs": [
    {
     "name": "stdout",
     "output_type": "stream",
     "text": [
      "(1381, 2)\n",
      "(461, 2)\n",
      "(1381,)\n",
      "(461,)\n"
     ]
    }
   ],
   "source": [
    "X_train, X_test, y_train, y_test = train_test_split(X, Y, test_size=0.25, random_state=16)\n",
    "print(X_train.shape)\n",
    "print(X_test.shape)\n",
    "print(y_train.shape)\n",
    "print(y_test.shape)"
   ]
  },
  {
   "cell_type": "code",
   "execution_count": 261,
   "metadata": {
    "Collapsed": "false"
   },
   "outputs": [
    {
     "data": {
      "text/plain": [
       "LinearRegression(copy_X=True, fit_intercept=True, n_jobs=None, normalize=False)"
      ]
     },
     "execution_count": 261,
     "metadata": {},
     "output_type": "execute_result"
    }
   ],
   "source": [
    "model = linear_model.LinearRegression()\n",
    "model.fit(X_train,y_train)"
   ]
  },
  {
   "cell_type": "code",
   "execution_count": 262,
   "metadata": {
    "Collapsed": "false"
   },
   "outputs": [],
   "source": [
    "predictions = model.predict(X_test)"
   ]
  },
  {
   "cell_type": "code",
   "execution_count": 263,
   "metadata": {
    "Collapsed": "false"
   },
   "outputs": [
    {
     "name": "stdout",
     "output_type": "stream",
     "text": [
      "22338.657171270344\n"
     ]
    }
   ],
   "source": [
    "# print the intercept\n",
    "print(model.intercept_)"
   ]
  },
  {
   "cell_type": "markdown",
   "metadata": {
    "Collapsed": "false"
   },
   "source": [
    "The MSE d'enculé !!!"
   ]
  },
  {
   "cell_type": "code",
   "execution_count": 264,
   "metadata": {
    "Collapsed": "false"
   },
   "outputs": [
    {
     "name": "stdout",
     "output_type": "stream",
     "text": [
      "Mean squared error: 16144907270.39\n",
      "Coefficient of determination: 0.77\n"
     ]
    }
   ],
   "source": [
    "# The mean squared error\n",
    "print('Mean squared error: %.2f'\n",
    "      % mean_squared_error(y_test, predictions))\n",
    "# The coefficient of determination: 1 is perfect prediction\n",
    "print('Coefficient of determination: %.2f'\n",
    "      % r2_score(y_test, predictions))"
   ]
  },
  {
   "cell_type": "code",
   "execution_count": 265,
   "metadata": {
    "Collapsed": "false"
   },
   "outputs": [
    {
     "data": {
      "text/html": [
       "<div>\n",
       "<style scoped>\n",
       "    .dataframe tbody tr th:only-of-type {\n",
       "        vertical-align: middle;\n",
       "    }\n",
       "\n",
       "    .dataframe tbody tr th {\n",
       "        vertical-align: top;\n",
       "    }\n",
       "\n",
       "    .dataframe thead th {\n",
       "        text-align: right;\n",
       "    }\n",
       "</style>\n",
       "<table border=\"1\" class=\"dataframe\">\n",
       "  <thead>\n",
       "    <tr style=\"text-align: right;\">\n",
       "      <th></th>\n",
       "      <th>Coefficient</th>\n",
       "    </tr>\n",
       "  </thead>\n",
       "  <tbody>\n",
       "    <tr>\n",
       "      <th>nombre_chambres</th>\n",
       "      <td>-2.111150e+05</td>\n",
       "    </tr>\n",
       "    <tr>\n",
       "      <th>surface</th>\n",
       "      <td>1.553532e+06</td>\n",
       "    </tr>\n",
       "  </tbody>\n",
       "</table>\n",
       "</div>"
      ],
      "text/plain": [
       "                  Coefficient\n",
       "nombre_chambres -2.111150e+05\n",
       "surface          1.553532e+06"
      ]
     },
     "execution_count": 265,
     "metadata": {},
     "output_type": "execute_result"
    }
   ],
   "source": [
    "coeff_parameter = pd.DataFrame(model.coef_,X.columns,columns=['Coefficient'])\n",
    "coeff_parameter"
   ]
  },
  {
   "cell_type": "code",
   "execution_count": 266,
   "metadata": {
    "Collapsed": "false"
   },
   "outputs": [],
   "source": [
    "predictions = model.predict(X_test)\n"
   ]
  },
  {
   "cell_type": "code",
   "execution_count": 267,
   "metadata": {
    "Collapsed": "false"
   },
   "outputs": [
    {
     "data": {
      "image/png": "[encoded data removed]",
      "text/plain": [
       "<Figure size 432x288 with 1 Axes>"
      ]
     },
     "metadata": {
      "needs_background": "light"
     },
     "output_type": "display_data"
    }
   ],
   "source": [
    "plt.scatter(y_test, predictions, cmap='red', s = 10)\n",
    "plt.xlabel('True Values')\n",
    "plt.ylabel('Predictions Values')\n",
    "plt.axis('equal')\n",
    "plt.axis('square')\n",
    "droite = plt.plot([-10000000,10000000], [-10000000,10000000])"
   ]
  },
  {
   "cell_type": "code",
   "execution_count": 268,
   "metadata": {
    "Collapsed": "false"
   },
   "outputs": [
    {
     "name": "stderr",
     "output_type": "stream",
     "text": [
      "/home/yann/anaconda3/lib/python3.7/site-packages/seaborn/_decorators.py:43: FutureWarning: Pass the following variables as keyword args: x, y. From version 0.12, the only valid positional argument will be `data`, and passing other arguments without an explicit keyword will result in an error or misinterpretation.\n",
      "  FutureWarning\n"
     ]
    },
    {
     "data": {
      "text/plain": [
       "<AxesSubplot:xlabel='prix_achat'>"
      ]
     },
     "execution_count": 268,
     "metadata": {},
     "output_type": "execute_result"
    },
    {
     "data": {
      "image/png": "[encoded data removed]",
      "text/plain": [
       "<Figure size 432x288 with 1 Axes>"
      ]
     },
     "metadata": {
      "needs_background": "light"
     },
     "output_type": "display_data"
    }
   ],
   "source": [
    "sns.regplot(y_test,predictions)"
   ]
  },
  {
   "cell_type": "code",
   "execution_count": 171,
   "metadata": {
    "Collapsed": "false"
   },
   "outputs": [
    {
     "name": "stdout",
     "output_type": "stream",
     "text": [
      "                            OLS Regression Results                            \n",
      "==============================================================================\n",
      "Dep. Variable:             prix_achat   R-squared:                       0.772\n",
      "Model:                            OLS   Adj. R-squared:                  0.772\n",
      "Method:                 Least Squares   F-statistic:                     2331.\n",
      "Date:                Wed, 24 Mar 2021   Prob (F-statistic):               0.00\n",
      "Time:                        01:25:57   Log-Likelihood:                -18136.\n",
      "No. Observations:                1381   AIC:                         3.628e+04\n",
      "Df Residuals:                    1378   BIC:                         3.629e+04\n",
      "Df Model:                           2                                         \n",
      "Covariance Type:            nonrobust                                         \n",
      "===================================================================================\n",
      "                      coef    std err          t      P>|t|      [0.025      0.975]\n",
      "-----------------------------------------------------------------------------------\n",
      "const           -8295.5327   7486.267     -1.108      0.268    -2.3e+04    6390.180\n",
      "nombre_chambres -3.248e+04   5411.369     -6.002      0.000   -4.31e+04   -2.19e+04\n",
      "surface          6696.2583    155.972     42.932      0.000    6390.290    7002.227\n",
      "==============================================================================\n",
      "Omnibus:                      197.614   Durbin-Watson:                   2.027\n",
      "Prob(Omnibus):                  0.000   Jarque-Bera (JB):              811.588\n",
      "Skew:                           0.629   Prob(JB):                    5.83e-177\n",
      "Kurtosis:                       6.538   Cond. No.                         196.\n",
      "==============================================================================\n",
      "\n",
      "Warnings:\n",
      "[1] Standard Errors assume that the covariance matrix of the errors is correctly specified.\n"
     ]
    },
    {
     "name": "stderr",
     "output_type": "stream",
     "text": [
      "/home/yann/anaconda3/lib/python3.7/site-packages/numpy/core/fromnumeric.py:2389: FutureWarning: Method .ptp is deprecated and will be removed in a future version. Use numpy.ptp instead.\n",
      "  return ptp(axis=axis, out=out, **kwargs)\n"
     ]
    }
   ],
   "source": [
    "import statsmodels.api as sm\n",
    "X_train_Sm= sm.add_constant(X_train)\n",
    "X_train_Sm= sm.add_constant(X_train)\n",
    "ls=sm.OLS(y_train,X_train_Sm).fit()\n",
    "print(ls.summary())"
   ]
  },
  {
   "cell_type": "code",
   "execution_count": null,
   "metadata": {
    "Collapsed": "false"
   },
   "outputs": [],
   "source": []
  }
 ],
 "metadata": {
  "kernelspec": {
   "display_name": "Python 3",
   "language": "python",
   "name": "python3"
  },
  "language_info": {
   "codemirror_mode": {
    "name": "ipython",
    "version": 3
   },
   "file_extension": ".py",
   "mimetype": "text/x-python",
   "name": "python",
   "nbconvert_exporter": "python",
   "pygments_lexer": "ipython3",
   "version": "3.7.3"
  }
 },
 "nbformat": 4,
 "nbformat_minor": 4
}
